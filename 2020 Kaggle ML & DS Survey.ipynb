{
 "cells": [
  {
   "cell_type": "markdown",
   "metadata": {},
   "source": [
    "# 2020 Kaggle ML & DS Survey "
   ]
  },
  {
   "cell_type": "markdown",
   "metadata": {},
   "source": [
    "The Survey was based on responses form 20,036 Kaggle members. The survey questions were multiple choice with the ability for respondents to select all options that appliied to them."
   ]
  },
  {
   "cell_type": "markdown",
   "metadata": {},
   "source": [
    "While considering a career change, there was lot of questions that was going through my head. \n",
    "- Was I too old to get into data science, considering I was 34. \n",
    "- Where should I start? with so many resources avalibale out there?\n",
    "- what skills should I learn first?\n",
    "\n",
    "I believe with the 2020 Kaggle ML & DS Survey we can answer all these questions and many more important ones.\n",
    "So basically learning from Kaggle's users will provided me and I'm sure lot of aspiring data scientist many insight.\n"
   ]
  },
  {
   "cell_type": "code",
   "execution_count": 155,
   "metadata": {},
   "outputs": [],
   "source": [
    "import warnings\n",
    "warnings.filterwarnings(action='ignore')"
   ]
  },
  {
   "cell_type": "code",
   "execution_count": 10,
   "metadata": {},
   "outputs": [],
   "source": [
    "from __future__ import division\n",
    "import numpy as np \n",
    "import pandas as pd \n",
    "import os\n",
    "import numpy as np\n",
    "import pandas as pd\n",
    "import seaborn as sns\n",
    "import matplotlib.pyplot as plt\n",
    "%matplotlib inline\n",
    "import plotly.graph_objects as go\n",
    "import plotly.tools as tls\n",
    "import plotly.express as px\n",
    "pd.set_option('display.max_columns', 5000)"
   ]
  },
  {
   "cell_type": "code",
   "execution_count": 3,
   "metadata": {},
   "outputs": [
    {
     "data": {
      "text/html": [
       "        <script type=\"text/javascript\">\n",
       "        window.PlotlyConfig = {MathJaxConfig: 'local'};\n",
       "        if (window.MathJax) {MathJax.Hub.Config({SVG: {font: \"STIX-Web\"}});}\n",
       "        if (typeof require !== 'undefined') {\n",
       "        require.undef(\"plotly\");\n",
       "        requirejs.config({\n",
       "            paths: {\n",
       "                'plotly': ['https://cdn.plot.ly/plotly-latest.min']\n",
       "            }\n",
       "        });\n",
       "        require(['plotly'], function(Plotly) {\n",
       "            window._Plotly = Plotly;\n",
       "        });\n",
       "        }\n",
       "        </script>\n",
       "        "
      ]
     },
     "metadata": {},
     "output_type": "display_data"
    }
   ],
   "source": [
    "# In order to display the plot inside the notebook, we need to initiate plotly’s notebook mode as follows −\n",
    "from plotly.offline import init_notebook_mode\n",
    "init_notebook_mode(connected = True)"
   ]
  },
  {
   "cell_type": "code",
   "execution_count": 4,
   "metadata": {},
   "outputs": [
    {
     "name": "stderr",
     "output_type": "stream",
     "text": [
      "c:\\users\\fbhug\\appdata\\local\\programs\\python\\python37-32\\lib\\site-packages\\IPython\\core\\interactiveshell.py:3072: DtypeWarning:\n",
      "\n",
      "Columns (0) have mixed types.Specify dtype option on import or set low_memory=False.\n",
      "\n"
     ]
    },
    {
     "name": "stdout",
     "output_type": "stream",
     "text": [
      "Total Number of Responses:  20036\n",
      "Number of columns in data: 355\n",
      "\n",
      "Preview of the data:\n"
     ]
    },
    {
     "data": {
      "text/html": [
       "<div>\n",
       "<style scoped>\n",
       "    .dataframe tbody tr th:only-of-type {\n",
       "        vertical-align: middle;\n",
       "    }\n",
       "\n",
       "    .dataframe tbody tr th {\n",
       "        vertical-align: top;\n",
       "    }\n",
       "\n",
       "    .dataframe thead th {\n",
       "        text-align: right;\n",
       "    }\n",
       "</style>\n",
       "<table border=\"1\" class=\"dataframe\">\n",
       "  <thead>\n",
       "    <tr style=\"text-align: right;\">\n",
       "      <th></th>\n",
       "      <th>Time from Start to Finish (seconds)</th>\n",
       "      <th>Q1</th>\n",
       "      <th>Q2</th>\n",
       "      <th>Q3</th>\n",
       "      <th>Q4</th>\n",
       "      <th>Q5</th>\n",
       "      <th>Q6</th>\n",
       "      <th>Q7_Part_1</th>\n",
       "      <th>Q7_Part_2</th>\n",
       "      <th>Q7_Part_3</th>\n",
       "      <th>Q7_Part_4</th>\n",
       "      <th>Q7_Part_5</th>\n",
       "      <th>Q7_Part_6</th>\n",
       "      <th>Q7_Part_7</th>\n",
       "      <th>Q7_Part_8</th>\n",
       "      <th>Q7_Part_9</th>\n",
       "      <th>Q7_Part_10</th>\n",
       "      <th>Q7_Part_11</th>\n",
       "      <th>Q7_Part_12</th>\n",
       "      <th>Q7_OTHER</th>\n",
       "      <th>Q8</th>\n",
       "      <th>Q9_Part_1</th>\n",
       "      <th>Q9_Part_2</th>\n",
       "      <th>Q9_Part_3</th>\n",
       "      <th>Q9_Part_4</th>\n",
       "      <th>Q9_Part_5</th>\n",
       "      <th>Q9_Part_6</th>\n",
       "      <th>Q9_Part_7</th>\n",
       "      <th>Q9_Part_8</th>\n",
       "      <th>Q9_Part_9</th>\n",
       "      <th>Q9_Part_10</th>\n",
       "      <th>Q9_Part_11</th>\n",
       "      <th>Q9_OTHER</th>\n",
       "      <th>Q10_Part_1</th>\n",
       "      <th>Q10_Part_2</th>\n",
       "      <th>Q10_Part_3</th>\n",
       "      <th>Q10_Part_4</th>\n",
       "      <th>Q10_Part_5</th>\n",
       "      <th>Q10_Part_6</th>\n",
       "      <th>Q10_Part_7</th>\n",
       "      <th>Q10_Part_8</th>\n",
       "      <th>Q10_Part_9</th>\n",
       "      <th>Q10_Part_10</th>\n",
       "      <th>Q10_Part_11</th>\n",
       "      <th>Q10_Part_12</th>\n",
       "      <th>Q10_Part_13</th>\n",
       "      <th>Q10_OTHER</th>\n",
       "      <th>Q11</th>\n",
       "      <th>Q12_Part_1</th>\n",
       "      <th>Q12_Part_2</th>\n",
       "      <th>Q12_Part_3</th>\n",
       "      <th>Q12_OTHER</th>\n",
       "      <th>Q13</th>\n",
       "      <th>Q14_Part_1</th>\n",
       "      <th>Q14_Part_2</th>\n",
       "      <th>Q14_Part_3</th>\n",
       "      <th>Q14_Part_4</th>\n",
       "      <th>Q14_Part_5</th>\n",
       "      <th>Q14_Part_6</th>\n",
       "      <th>Q14_Part_7</th>\n",
       "      <th>Q14_Part_8</th>\n",
       "      <th>Q14_Part_9</th>\n",
       "      <th>Q14_Part_10</th>\n",
       "      <th>Q14_Part_11</th>\n",
       "      <th>Q14_OTHER</th>\n",
       "      <th>Q15</th>\n",
       "      <th>Q16_Part_1</th>\n",
       "      <th>Q16_Part_2</th>\n",
       "      <th>Q16_Part_3</th>\n",
       "      <th>Q16_Part_4</th>\n",
       "      <th>Q16_Part_5</th>\n",
       "      <th>Q16_Part_6</th>\n",
       "      <th>Q16_Part_7</th>\n",
       "      <th>Q16_Part_8</th>\n",
       "      <th>Q16_Part_9</th>\n",
       "      <th>Q16_Part_10</th>\n",
       "      <th>Q16_Part_11</th>\n",
       "      <th>Q16_Part_12</th>\n",
       "      <th>Q16_Part_13</th>\n",
       "      <th>Q16_Part_14</th>\n",
       "      <th>Q16_Part_15</th>\n",
       "      <th>Q16_OTHER</th>\n",
       "      <th>Q17_Part_1</th>\n",
       "      <th>Q17_Part_2</th>\n",
       "      <th>Q17_Part_3</th>\n",
       "      <th>Q17_Part_4</th>\n",
       "      <th>Q17_Part_5</th>\n",
       "      <th>Q17_Part_6</th>\n",
       "      <th>Q17_Part_7</th>\n",
       "      <th>Q17_Part_8</th>\n",
       "      <th>Q17_Part_9</th>\n",
       "      <th>Q17_Part_10</th>\n",
       "      <th>Q17_Part_11</th>\n",
       "      <th>Q17_OTHER</th>\n",
       "      <th>Q18_Part_1</th>\n",
       "      <th>Q18_Part_2</th>\n",
       "      <th>Q18_Part_3</th>\n",
       "      <th>Q18_Part_4</th>\n",
       "      <th>Q18_Part_5</th>\n",
       "      <th>Q18_Part_6</th>\n",
       "      <th>Q18_OTHER</th>\n",
       "      <th>Q19_Part_1</th>\n",
       "      <th>Q19_Part_2</th>\n",
       "      <th>Q19_Part_3</th>\n",
       "      <th>Q19_Part_4</th>\n",
       "      <th>Q19_Part_5</th>\n",
       "      <th>Q19_OTHER</th>\n",
       "      <th>Q20</th>\n",
       "      <th>Q21</th>\n",
       "      <th>Q22</th>\n",
       "      <th>Q23_Part_1</th>\n",
       "      <th>Q23_Part_2</th>\n",
       "      <th>Q23_Part_3</th>\n",
       "      <th>Q23_Part_4</th>\n",
       "      <th>Q23_Part_5</th>\n",
       "      <th>Q23_Part_6</th>\n",
       "      <th>Q23_Part_7</th>\n",
       "      <th>Q23_OTHER</th>\n",
       "      <th>Q24</th>\n",
       "      <th>Q25</th>\n",
       "      <th>Q26_A_Part_1</th>\n",
       "      <th>Q26_A_Part_2</th>\n",
       "      <th>Q26_A_Part_3</th>\n",
       "      <th>Q26_A_Part_4</th>\n",
       "      <th>Q26_A_Part_5</th>\n",
       "      <th>Q26_A_Part_6</th>\n",
       "      <th>Q26_A_Part_7</th>\n",
       "      <th>Q26_A_Part_8</th>\n",
       "      <th>Q26_A_Part_9</th>\n",
       "      <th>Q26_A_Part_10</th>\n",
       "      <th>Q26_A_Part_11</th>\n",
       "      <th>Q26_A_OTHER</th>\n",
       "      <th>Q27_A_Part_1</th>\n",
       "      <th>Q27_A_Part_2</th>\n",
       "      <th>Q27_A_Part_3</th>\n",
       "      <th>Q27_A_Part_4</th>\n",
       "      <th>Q27_A_Part_5</th>\n",
       "      <th>Q27_A_Part_6</th>\n",
       "      <th>Q27_A_Part_7</th>\n",
       "      <th>Q27_A_Part_8</th>\n",
       "      <th>Q27_A_Part_9</th>\n",
       "      <th>Q27_A_Part_10</th>\n",
       "      <th>Q27_A_Part_11</th>\n",
       "      <th>Q27_A_OTHER</th>\n",
       "      <th>Q28_A_Part_1</th>\n",
       "      <th>Q28_A_Part_2</th>\n",
       "      <th>Q28_A_Part_3</th>\n",
       "      <th>Q28_A_Part_4</th>\n",
       "      <th>Q28_A_Part_5</th>\n",
       "      <th>Q28_A_Part_6</th>\n",
       "      <th>Q28_A_Part_7</th>\n",
       "      <th>Q28_A_Part_8</th>\n",
       "      <th>Q28_A_Part_9</th>\n",
       "      <th>Q28_A_Part_10</th>\n",
       "      <th>Q28_A_OTHER</th>\n",
       "      <th>Q29_A_Part_1</th>\n",
       "      <th>Q29_A_Part_2</th>\n",
       "      <th>Q29_A_Part_3</th>\n",
       "      <th>Q29_A_Part_4</th>\n",
       "      <th>Q29_A_Part_5</th>\n",
       "      <th>Q29_A_Part_6</th>\n",
       "      <th>Q29_A_Part_7</th>\n",
       "      <th>Q29_A_Part_8</th>\n",
       "      <th>Q29_A_Part_9</th>\n",
       "      <th>Q29_A_Part_10</th>\n",
       "      <th>Q29_A_Part_11</th>\n",
       "      <th>Q29_A_Part_12</th>\n",
       "      <th>Q29_A_Part_13</th>\n",
       "      <th>Q29_A_Part_14</th>\n",
       "      <th>Q29_A_Part_15</th>\n",
       "      <th>Q29_A_Part_16</th>\n",
       "      <th>Q29_A_Part_17</th>\n",
       "      <th>Q29_A_OTHER</th>\n",
       "      <th>Q30</th>\n",
       "      <th>Q31_A_Part_1</th>\n",
       "      <th>Q31_A_Part_2</th>\n",
       "      <th>Q31_A_Part_3</th>\n",
       "      <th>Q31_A_Part_4</th>\n",
       "      <th>Q31_A_Part_5</th>\n",
       "      <th>Q31_A_Part_6</th>\n",
       "      <th>Q31_A_Part_7</th>\n",
       "      <th>Q31_A_Part_8</th>\n",
       "      <th>Q31_A_Part_9</th>\n",
       "      <th>Q31_A_Part_10</th>\n",
       "      <th>Q31_A_Part_11</th>\n",
       "      <th>Q31_A_Part_12</th>\n",
       "      <th>Q31_A_Part_13</th>\n",
       "      <th>Q31_A_Part_14</th>\n",
       "      <th>Q31_A_OTHER</th>\n",
       "      <th>Q32</th>\n",
       "      <th>Q33_A_Part_1</th>\n",
       "      <th>Q33_A_Part_2</th>\n",
       "      <th>Q33_A_Part_3</th>\n",
       "      <th>Q33_A_Part_4</th>\n",
       "      <th>Q33_A_Part_5</th>\n",
       "      <th>Q33_A_Part_6</th>\n",
       "      <th>Q33_A_Part_7</th>\n",
       "      <th>Q33_A_OTHER</th>\n",
       "      <th>Q34_A_Part_1</th>\n",
       "      <th>Q34_A_Part_2</th>\n",
       "      <th>Q34_A_Part_3</th>\n",
       "      <th>Q34_A_Part_4</th>\n",
       "      <th>Q34_A_Part_5</th>\n",
       "      <th>Q34_A_Part_6</th>\n",
       "      <th>Q34_A_Part_7</th>\n",
       "      <th>Q34_A_Part_8</th>\n",
       "      <th>Q34_A_Part_9</th>\n",
       "      <th>Q34_A_Part_10</th>\n",
       "      <th>Q34_A_Part_11</th>\n",
       "      <th>Q34_A_OTHER</th>\n",
       "      <th>Q35_A_Part_1</th>\n",
       "      <th>Q35_A_Part_2</th>\n",
       "      <th>Q35_A_Part_3</th>\n",
       "      <th>Q35_A_Part_4</th>\n",
       "      <th>Q35_A_Part_5</th>\n",
       "      <th>Q35_A_Part_6</th>\n",
       "      <th>Q35_A_Part_7</th>\n",
       "      <th>Q35_A_Part_8</th>\n",
       "      <th>Q35_A_Part_9</th>\n",
       "      <th>Q35_A_Part_10</th>\n",
       "      <th>Q35_A_OTHER</th>\n",
       "      <th>Q36_Part_1</th>\n",
       "      <th>Q36_Part_2</th>\n",
       "      <th>Q36_Part_3</th>\n",
       "      <th>Q36_Part_4</th>\n",
       "      <th>Q36_Part_5</th>\n",
       "      <th>Q36_Part_6</th>\n",
       "      <th>Q36_Part_7</th>\n",
       "      <th>Q36_Part_8</th>\n",
       "      <th>Q36_Part_9</th>\n",
       "      <th>Q36_OTHER</th>\n",
       "      <th>Q37_Part_1</th>\n",
       "      <th>Q37_Part_2</th>\n",
       "      <th>Q37_Part_3</th>\n",
       "      <th>Q37_Part_4</th>\n",
       "      <th>Q37_Part_5</th>\n",
       "      <th>Q37_Part_6</th>\n",
       "      <th>Q37_Part_7</th>\n",
       "      <th>Q37_Part_8</th>\n",
       "      <th>Q37_Part_9</th>\n",
       "      <th>Q37_Part_10</th>\n",
       "      <th>Q37_Part_11</th>\n",
       "      <th>Q37_OTHER</th>\n",
       "      <th>Q38</th>\n",
       "      <th>Q39_Part_1</th>\n",
       "      <th>Q39_Part_2</th>\n",
       "      <th>Q39_Part_3</th>\n",
       "      <th>Q39_Part_4</th>\n",
       "      <th>Q39_Part_5</th>\n",
       "      <th>Q39_Part_6</th>\n",
       "      <th>Q39_Part_7</th>\n",
       "      <th>Q39_Part_8</th>\n",
       "      <th>Q39_Part_9</th>\n",
       "      <th>Q39_Part_10</th>\n",
       "      <th>Q39_Part_11</th>\n",
       "      <th>Q39_OTHER</th>\n",
       "      <th>Q26_B_Part_1</th>\n",
       "      <th>Q26_B_Part_2</th>\n",
       "      <th>Q26_B_Part_3</th>\n",
       "      <th>Q26_B_Part_4</th>\n",
       "      <th>Q26_B_Part_5</th>\n",
       "      <th>Q26_B_Part_6</th>\n",
       "      <th>Q26_B_Part_7</th>\n",
       "      <th>Q26_B_Part_8</th>\n",
       "      <th>Q26_B_Part_9</th>\n",
       "      <th>Q26_B_Part_10</th>\n",
       "      <th>Q26_B_Part_11</th>\n",
       "      <th>Q26_B_OTHER</th>\n",
       "      <th>Q27_B_Part_1</th>\n",
       "      <th>Q27_B_Part_2</th>\n",
       "      <th>Q27_B_Part_3</th>\n",
       "      <th>Q27_B_Part_4</th>\n",
       "      <th>Q27_B_Part_5</th>\n",
       "      <th>Q27_B_Part_6</th>\n",
       "      <th>Q27_B_Part_7</th>\n",
       "      <th>Q27_B_Part_8</th>\n",
       "      <th>Q27_B_Part_9</th>\n",
       "      <th>Q27_B_Part_10</th>\n",
       "      <th>Q27_B_Part_11</th>\n",
       "      <th>Q27_B_OTHER</th>\n",
       "      <th>Q28_B_Part_1</th>\n",
       "      <th>Q28_B_Part_2</th>\n",
       "      <th>Q28_B_Part_3</th>\n",
       "      <th>Q28_B_Part_4</th>\n",
       "      <th>Q28_B_Part_5</th>\n",
       "      <th>Q28_B_Part_6</th>\n",
       "      <th>Q28_B_Part_7</th>\n",
       "      <th>Q28_B_Part_8</th>\n",
       "      <th>Q28_B_Part_9</th>\n",
       "      <th>Q28_B_Part_10</th>\n",
       "      <th>Q28_B_OTHER</th>\n",
       "      <th>Q29_B_Part_1</th>\n",
       "      <th>Q29_B_Part_2</th>\n",
       "      <th>Q29_B_Part_3</th>\n",
       "      <th>Q29_B_Part_4</th>\n",
       "      <th>Q29_B_Part_5</th>\n",
       "      <th>Q29_B_Part_6</th>\n",
       "      <th>Q29_B_Part_7</th>\n",
       "      <th>Q29_B_Part_8</th>\n",
       "      <th>Q29_B_Part_9</th>\n",
       "      <th>Q29_B_Part_10</th>\n",
       "      <th>Q29_B_Part_11</th>\n",
       "      <th>Q29_B_Part_12</th>\n",
       "      <th>Q29_B_Part_13</th>\n",
       "      <th>Q29_B_Part_14</th>\n",
       "      <th>Q29_B_Part_15</th>\n",
       "      <th>Q29_B_Part_16</th>\n",
       "      <th>Q29_B_Part_17</th>\n",
       "      <th>Q29_B_OTHER</th>\n",
       "      <th>Q31_B_Part_1</th>\n",
       "      <th>Q31_B_Part_2</th>\n",
       "      <th>Q31_B_Part_3</th>\n",
       "      <th>Q31_B_Part_4</th>\n",
       "      <th>Q31_B_Part_5</th>\n",
       "      <th>Q31_B_Part_6</th>\n",
       "      <th>Q31_B_Part_7</th>\n",
       "      <th>Q31_B_Part_8</th>\n",
       "      <th>Q31_B_Part_9</th>\n",
       "      <th>Q31_B_Part_10</th>\n",
       "      <th>Q31_B_Part_11</th>\n",
       "      <th>Q31_B_Part_12</th>\n",
       "      <th>Q31_B_Part_13</th>\n",
       "      <th>Q31_B_Part_14</th>\n",
       "      <th>Q31_B_OTHER</th>\n",
       "      <th>Q33_B_Part_1</th>\n",
       "      <th>Q33_B_Part_2</th>\n",
       "      <th>Q33_B_Part_3</th>\n",
       "      <th>Q33_B_Part_4</th>\n",
       "      <th>Q33_B_Part_5</th>\n",
       "      <th>Q33_B_Part_6</th>\n",
       "      <th>Q33_B_Part_7</th>\n",
       "      <th>Q33_B_OTHER</th>\n",
       "      <th>Q34_B_Part_1</th>\n",
       "      <th>Q34_B_Part_2</th>\n",
       "      <th>Q34_B_Part_3</th>\n",
       "      <th>Q34_B_Part_4</th>\n",
       "      <th>Q34_B_Part_5</th>\n",
       "      <th>Q34_B_Part_6</th>\n",
       "      <th>Q34_B_Part_7</th>\n",
       "      <th>Q34_B_Part_8</th>\n",
       "      <th>Q34_B_Part_9</th>\n",
       "      <th>Q34_B_Part_10</th>\n",
       "      <th>Q34_B_Part_11</th>\n",
       "      <th>Q34_B_OTHER</th>\n",
       "      <th>Q35_B_Part_1</th>\n",
       "      <th>Q35_B_Part_2</th>\n",
       "      <th>Q35_B_Part_3</th>\n",
       "      <th>Q35_B_Part_4</th>\n",
       "      <th>Q35_B_Part_5</th>\n",
       "      <th>Q35_B_Part_6</th>\n",
       "      <th>Q35_B_Part_7</th>\n",
       "      <th>Q35_B_Part_8</th>\n",
       "      <th>Q35_B_Part_9</th>\n",
       "      <th>Q35_B_Part_10</th>\n",
       "      <th>Q35_B_OTHER</th>\n",
       "    </tr>\n",
       "  </thead>\n",
       "  <tbody>\n",
       "    <tr>\n",
       "      <th>0</th>\n",
       "      <td>Duration (in seconds)</td>\n",
       "      <td>What is your age (# years)?</td>\n",
       "      <td>What is your gender? - Selected Choice</td>\n",
       "      <td>In which country do you currently reside?</td>\n",
       "      <td>What is the highest level of formal education ...</td>\n",
       "      <td>Select the title most similar to your current ...</td>\n",
       "      <td>For how many years have you been writing code ...</td>\n",
       "      <td>What programming languages do you use on a reg...</td>\n",
       "      <td>What programming languages do you use on a reg...</td>\n",
       "      <td>What programming languages do you use on a reg...</td>\n",
       "      <td>What programming languages do you use on a reg...</td>\n",
       "      <td>What programming languages do you use on a reg...</td>\n",
       "      <td>What programming languages do you use on a reg...</td>\n",
       "      <td>What programming languages do you use on a reg...</td>\n",
       "      <td>What programming languages do you use on a reg...</td>\n",
       "      <td>What programming languages do you use on a reg...</td>\n",
       "      <td>What programming languages do you use on a reg...</td>\n",
       "      <td>What programming languages do you use on a reg...</td>\n",
       "      <td>What programming languages do you use on a reg...</td>\n",
       "      <td>What programming languages do you use on a reg...</td>\n",
       "      <td>What programming language would you recommend ...</td>\n",
       "      <td>Which of the following integrated development ...</td>\n",
       "      <td>Which of the following integrated development ...</td>\n",
       "      <td>Which of the following integrated development ...</td>\n",
       "      <td>Which of the following integrated development ...</td>\n",
       "      <td>Which of the following integrated development ...</td>\n",
       "      <td>Which of the following integrated development ...</td>\n",
       "      <td>Which of the following integrated development ...</td>\n",
       "      <td>Which of the following integrated development ...</td>\n",
       "      <td>Which of the following integrated development ...</td>\n",
       "      <td>Which of the following integrated development ...</td>\n",
       "      <td>Which of the following integrated development ...</td>\n",
       "      <td>Which of the following integrated development ...</td>\n",
       "      <td>Which of the following hosted notebook product...</td>\n",
       "      <td>Which of the following hosted notebook product...</td>\n",
       "      <td>Which of the following hosted notebook product...</td>\n",
       "      <td>Which of the following hosted notebook product...</td>\n",
       "      <td>Which of the following hosted notebook product...</td>\n",
       "      <td>Which of the following hosted notebook product...</td>\n",
       "      <td>Which of the following hosted notebook product...</td>\n",
       "      <td>Which of the following hosted notebook product...</td>\n",
       "      <td>Which of the following hosted notebook product...</td>\n",
       "      <td>Which of the following hosted notebook product...</td>\n",
       "      <td>Which of the following hosted notebook product...</td>\n",
       "      <td>Which of the following hosted notebook product...</td>\n",
       "      <td>Which of the following hosted notebook product...</td>\n",
       "      <td>Which of the following hosted notebook product...</td>\n",
       "      <td>What type of computing platform do you use mos...</td>\n",
       "      <td>Which types of specialized hardware do you use...</td>\n",
       "      <td>Which types of specialized hardware do you use...</td>\n",
       "      <td>Which types of specialized hardware do you use...</td>\n",
       "      <td>Which types of specialized hardware do you use...</td>\n",
       "      <td>Approximately how many times have you used a T...</td>\n",
       "      <td>What data visualization libraries or tools do ...</td>\n",
       "      <td>What data visualization libraries or tools do ...</td>\n",
       "      <td>What data visualization libraries or tools do ...</td>\n",
       "      <td>What data visualization libraries or tools do ...</td>\n",
       "      <td>What data visualization libraries or tools do ...</td>\n",
       "      <td>What data visualization libraries or tools do ...</td>\n",
       "      <td>What data visualization libraries or tools do ...</td>\n",
       "      <td>What data visualization libraries or tools do ...</td>\n",
       "      <td>What data visualization libraries or tools do ...</td>\n",
       "      <td>What data visualization libraries or tools do ...</td>\n",
       "      <td>What data visualization libraries or tools do ...</td>\n",
       "      <td>What data visualization libraries or tools do ...</td>\n",
       "      <td>For how many years have you used machine learn...</td>\n",
       "      <td>Which of the following machine learning framew...</td>\n",
       "      <td>Which of the following machine learning framew...</td>\n",
       "      <td>Which of the following machine learning framew...</td>\n",
       "      <td>Which of the following machine learning framew...</td>\n",
       "      <td>Which of the following machine learning framew...</td>\n",
       "      <td>Which of the following machine learning framew...</td>\n",
       "      <td>Which of the following machine learning framew...</td>\n",
       "      <td>Which of the following machine learning framew...</td>\n",
       "      <td>Which of the following machine learning framew...</td>\n",
       "      <td>Which of the following machine learning framew...</td>\n",
       "      <td>Which of the following machine learning framew...</td>\n",
       "      <td>Which of the following machine learning framew...</td>\n",
       "      <td>Which of the following machine learning framew...</td>\n",
       "      <td>Which of the following machine learning framew...</td>\n",
       "      <td>Which of the following machine learning framew...</td>\n",
       "      <td>Which of the following machine learning framew...</td>\n",
       "      <td>Which of the following ML algorithms do you us...</td>\n",
       "      <td>Which of the following ML algorithms do you us...</td>\n",
       "      <td>Which of the following ML algorithms do you us...</td>\n",
       "      <td>Which of the following ML algorithms do you us...</td>\n",
       "      <td>Which of the following ML algorithms do you us...</td>\n",
       "      <td>Which of the following ML algorithms do you us...</td>\n",
       "      <td>Which of the following ML algorithms do you us...</td>\n",
       "      <td>Which of the following ML algorithms do you us...</td>\n",
       "      <td>Which of the following ML algorithms do you us...</td>\n",
       "      <td>Which of the following ML algorithms do you us...</td>\n",
       "      <td>Which of the following ML algorithms do you us...</td>\n",
       "      <td>Which of the following ML algorithms do you us...</td>\n",
       "      <td>Which categories of computer vision methods do...</td>\n",
       "      <td>Which categories of computer vision methods do...</td>\n",
       "      <td>Which categories of computer vision methods do...</td>\n",
       "      <td>Which categories of computer vision methods do...</td>\n",
       "      <td>Which categories of computer vision methods do...</td>\n",
       "      <td>Which categories of computer vision methods do...</td>\n",
       "      <td>Which categories of computer vision methods do...</td>\n",
       "      <td>Which of the following natural language proces...</td>\n",
       "      <td>Which of the following natural language proces...</td>\n",
       "      <td>Which of the following natural language proces...</td>\n",
       "      <td>Which of the following natural language proces...</td>\n",
       "      <td>Which of the following natural language proces...</td>\n",
       "      <td>Which of the following natural language proces...</td>\n",
       "      <td>What is the size of the company where you are ...</td>\n",
       "      <td>Approximately how many individuals are respons...</td>\n",
       "      <td>Does your current employer incorporate machine...</td>\n",
       "      <td>Select any activities that make up an importan...</td>\n",
       "      <td>Select any activities that make up an importan...</td>\n",
       "      <td>Select any activities that make up an importan...</td>\n",
       "      <td>Select any activities that make up an importan...</td>\n",
       "      <td>Select any activities that make up an importan...</td>\n",
       "      <td>Select any activities that make up an importan...</td>\n",
       "      <td>Select any activities that make up an importan...</td>\n",
       "      <td>Select any activities that make up an importan...</td>\n",
       "      <td>What is your current yearly compensation (appr...</td>\n",
       "      <td>Approximately how much money have you (or your...</td>\n",
       "      <td>Which of the following cloud computing platfor...</td>\n",
       "      <td>Which of the following cloud computing platfor...</td>\n",
       "      <td>Which of the following cloud computing platfor...</td>\n",
       "      <td>Which of the following cloud computing platfor...</td>\n",
       "      <td>Which of the following cloud computing platfor...</td>\n",
       "      <td>Which of the following cloud computing platfor...</td>\n",
       "      <td>Which of the following cloud computing platfor...</td>\n",
       "      <td>Which of the following cloud computing platfor...</td>\n",
       "      <td>Which of the following cloud computing platfor...</td>\n",
       "      <td>Which of the following cloud computing platfor...</td>\n",
       "      <td>Which of the following cloud computing platfor...</td>\n",
       "      <td>Which of the following cloud computing platfor...</td>\n",
       "      <td>Do you use any of the following cloud computin...</td>\n",
       "      <td>Do you use any of the following cloud computin...</td>\n",
       "      <td>Do you use any of the following cloud computin...</td>\n",
       "      <td>Do you use any of the following cloud computin...</td>\n",
       "      <td>Do you use any of the following cloud computin...</td>\n",
       "      <td>Do you use any of the following cloud computin...</td>\n",
       "      <td>Do you use any of the following cloud computin...</td>\n",
       "      <td>Do you use any of the following cloud computin...</td>\n",
       "      <td>Do you use any of the following cloud computin...</td>\n",
       "      <td>Do you use any of the following cloud computin...</td>\n",
       "      <td>Do you use any of the following cloud computin...</td>\n",
       "      <td>Do you use any of the following cloud computin...</td>\n",
       "      <td>Do you use any of the following machine learni...</td>\n",
       "      <td>Do you use any of the following machine learni...</td>\n",
       "      <td>Do you use any of the following machine learni...</td>\n",
       "      <td>Do you use any of the following machine learni...</td>\n",
       "      <td>Do you use any of the following machine learni...</td>\n",
       "      <td>Do you use any of the following machine learni...</td>\n",
       "      <td>Do you use any of the following machine learni...</td>\n",
       "      <td>Do you use any of the following machine learni...</td>\n",
       "      <td>Do you use any of the following machine learni...</td>\n",
       "      <td>Do you use any of the following machine learni...</td>\n",
       "      <td>Do you use any of the following machine learni...</td>\n",
       "      <td>Which of the following big data products (rela...</td>\n",
       "      <td>Which of the following big data products (rela...</td>\n",
       "      <td>Which of the following big data products (rela...</td>\n",
       "      <td>Which of the following big data products (rela...</td>\n",
       "      <td>Which of the following big data products (rela...</td>\n",
       "      <td>Which of the following big data products (rela...</td>\n",
       "      <td>Which of the following big data products (rela...</td>\n",
       "      <td>Which of the following big data products (rela...</td>\n",
       "      <td>Which of the following big data products (rela...</td>\n",
       "      <td>Which of the following big data products (rela...</td>\n",
       "      <td>Which of the following big data products (rela...</td>\n",
       "      <td>Which of the following big data products (rela...</td>\n",
       "      <td>Which of the following big data products (rela...</td>\n",
       "      <td>Which of the following big data products (rela...</td>\n",
       "      <td>Which of the following big data products (rela...</td>\n",
       "      <td>Which of the following big data products (rela...</td>\n",
       "      <td>Which of the following big data products (rela...</td>\n",
       "      <td>Which of the following big data products (rela...</td>\n",
       "      <td>Which of the following big data products (rela...</td>\n",
       "      <td>Which of the following business intelligence t...</td>\n",
       "      <td>Which of the following business intelligence t...</td>\n",
       "      <td>Which of the following business intelligence t...</td>\n",
       "      <td>Which of the following business intelligence t...</td>\n",
       "      <td>Which of the following business intelligence t...</td>\n",
       "      <td>Which of the following business intelligence t...</td>\n",
       "      <td>Which of the following business intelligence t...</td>\n",
       "      <td>Which of the following business intelligence t...</td>\n",
       "      <td>Which of the following business intelligence t...</td>\n",
       "      <td>Which of the following business intelligence t...</td>\n",
       "      <td>Which of the following business intelligence t...</td>\n",
       "      <td>Which of the following business intelligence t...</td>\n",
       "      <td>Which of the following business intelligence t...</td>\n",
       "      <td>Which of the following business intelligence t...</td>\n",
       "      <td>Which of the following business intelligence t...</td>\n",
       "      <td>Which of the following business intelligence t...</td>\n",
       "      <td>Do you use any automated machine learning tool...</td>\n",
       "      <td>Do you use any automated machine learning tool...</td>\n",
       "      <td>Do you use any automated machine learning tool...</td>\n",
       "      <td>Do you use any automated machine learning tool...</td>\n",
       "      <td>Do you use any automated machine learning tool...</td>\n",
       "      <td>Do you use any automated machine learning tool...</td>\n",
       "      <td>Do you use any automated machine learning tool...</td>\n",
       "      <td>Do you use any automated machine learning tool...</td>\n",
       "      <td>Which of the following automated machine learn...</td>\n",
       "      <td>Which of the following automated machine learn...</td>\n",
       "      <td>Which of the following automated machine learn...</td>\n",
       "      <td>Which of the following automated machine learn...</td>\n",
       "      <td>Which of the following automated machine learn...</td>\n",
       "      <td>Which of the following automated machine learn...</td>\n",
       "      <td>Which of the following automated machine learn...</td>\n",
       "      <td>Which of the following automated machine learn...</td>\n",
       "      <td>Which of the following automated machine learn...</td>\n",
       "      <td>Which of the following automated machine learn...</td>\n",
       "      <td>Which of the following automated machine learn...</td>\n",
       "      <td>Which of the following automated machine learn...</td>\n",
       "      <td>Do you use any tools to help manage machine le...</td>\n",
       "      <td>Do you use any tools to help manage machine le...</td>\n",
       "      <td>Do you use any tools to help manage machine le...</td>\n",
       "      <td>Do you use any tools to help manage machine le...</td>\n",
       "      <td>Do you use any tools to help manage machine le...</td>\n",
       "      <td>Do you use any tools to help manage machine le...</td>\n",
       "      <td>Do you use any tools to help manage machine le...</td>\n",
       "      <td>Do you use any tools to help manage machine le...</td>\n",
       "      <td>Do you use any tools to help manage machine le...</td>\n",
       "      <td>Do you use any tools to help manage machine le...</td>\n",
       "      <td>Do you use any tools to help manage machine le...</td>\n",
       "      <td>Where do you publicly share or deploy your dat...</td>\n",
       "      <td>Where do you publicly share or deploy your dat...</td>\n",
       "      <td>Where do you publicly share or deploy your dat...</td>\n",
       "      <td>Where do you publicly share or deploy your dat...</td>\n",
       "      <td>Where do you publicly share or deploy your dat...</td>\n",
       "      <td>Where do you publicly share or deploy your dat...</td>\n",
       "      <td>Where do you publicly share or deploy your dat...</td>\n",
       "      <td>Where do you publicly share or deploy your dat...</td>\n",
       "      <td>Where do you publicly share or deploy your dat...</td>\n",
       "      <td>Where do you publicly share or deploy your dat...</td>\n",
       "      <td>On which platforms have you begun or completed...</td>\n",
       "      <td>On which platforms have you begun or completed...</td>\n",
       "      <td>On which platforms have you begun or completed...</td>\n",
       "      <td>On which platforms have you begun or completed...</td>\n",
       "      <td>On which platforms have you begun or completed...</td>\n",
       "      <td>On which platforms have you begun or completed...</td>\n",
       "      <td>On which platforms have you begun or completed...</td>\n",
       "      <td>On which platforms have you begun or completed...</td>\n",
       "      <td>On which platforms have you begun or completed...</td>\n",
       "      <td>On which platforms have you begun or completed...</td>\n",
       "      <td>On which platforms have you begun or completed...</td>\n",
       "      <td>On which platforms have you begun or completed...</td>\n",
       "      <td>What is the primary tool that you use at work ...</td>\n",
       "      <td>Who/what are your favorite media sources that ...</td>\n",
       "      <td>Who/what are your favorite media sources that ...</td>\n",
       "      <td>Who/what are your favorite media sources that ...</td>\n",
       "      <td>Who/what are your favorite media sources that ...</td>\n",
       "      <td>Who/what are your favorite media sources that ...</td>\n",
       "      <td>Who/what are your favorite media sources that ...</td>\n",
       "      <td>Who/what are your favorite media sources that ...</td>\n",
       "      <td>Who/what are your favorite media sources that ...</td>\n",
       "      <td>Who/what are your favorite media sources that ...</td>\n",
       "      <td>Who/what are your favorite media sources that ...</td>\n",
       "      <td>Who/what are your favorite media sources that ...</td>\n",
       "      <td>Who/what are your favorite media sources that ...</td>\n",
       "      <td>Which of the following cloud computing platfor...</td>\n",
       "      <td>Which of the following cloud computing platfor...</td>\n",
       "      <td>Which of the following cloud computing platfor...</td>\n",
       "      <td>Which of the following cloud computing platfor...</td>\n",
       "      <td>Which of the following cloud computing platfor...</td>\n",
       "      <td>Which of the following cloud computing platfor...</td>\n",
       "      <td>Which of the following cloud computing platfor...</td>\n",
       "      <td>Which of the following cloud computing platfor...</td>\n",
       "      <td>Which of the following cloud computing platfor...</td>\n",
       "      <td>Which of the following cloud computing platfor...</td>\n",
       "      <td>Which of the following cloud computing platfor...</td>\n",
       "      <td>Which of the following cloud computing platfor...</td>\n",
       "      <td>In the next 2 years, do you hope to become mor...</td>\n",
       "      <td>In the next 2 years, do you hope to become mor...</td>\n",
       "      <td>In the next 2 years, do you hope to become mor...</td>\n",
       "      <td>In the next 2 years, do you hope to become mor...</td>\n",
       "      <td>In the next 2 years, do you hope to become mor...</td>\n",
       "      <td>In the next 2 years, do you hope to become mor...</td>\n",
       "      <td>In the next 2 years, do you hope to become mor...</td>\n",
       "      <td>In the next 2 years, do you hope to become mor...</td>\n",
       "      <td>In the next 2 years, do you hope to become mor...</td>\n",
       "      <td>In the next 2 years, do you hope to become mor...</td>\n",
       "      <td>In the next 2 years, do you hope to become mor...</td>\n",
       "      <td>In the next 2 years, do you hope to become mor...</td>\n",
       "      <td>In the next 2 years, do you hope to become mor...</td>\n",
       "      <td>In the next 2 years, do you hope to become mor...</td>\n",
       "      <td>In the next 2 years, do you hope to become mor...</td>\n",
       "      <td>In the next 2 years, do you hope to become mor...</td>\n",
       "      <td>In the next 2 years, do you hope to become mor...</td>\n",
       "      <td>In the next 2 years, do you hope to become mor...</td>\n",
       "      <td>In the next 2 years, do you hope to become mor...</td>\n",
       "      <td>In the next 2 years, do you hope to become mor...</td>\n",
       "      <td>In the next 2 years, do you hope to become mor...</td>\n",
       "      <td>In the next 2 years, do you hope to become mor...</td>\n",
       "      <td>In the next 2 years, do you hope to become mor...</td>\n",
       "      <td>Which of the following big data products (rela...</td>\n",
       "      <td>Which of the following big data products (rela...</td>\n",
       "      <td>Which of the following big data products (rela...</td>\n",
       "      <td>Which of the following big data products (rela...</td>\n",
       "      <td>Which of the following big data products (rela...</td>\n",
       "      <td>Which of the following big data products (rela...</td>\n",
       "      <td>Which of the following big data products (rela...</td>\n",
       "      <td>Which of the following big data products (rela...</td>\n",
       "      <td>Which of the following big data products (rela...</td>\n",
       "      <td>Which of the following big data products (rela...</td>\n",
       "      <td>Which of the following big data products (rela...</td>\n",
       "      <td>Which of the following big data products (rela...</td>\n",
       "      <td>Which of the following big data products (rela...</td>\n",
       "      <td>Which of the following big data products (rela...</td>\n",
       "      <td>Which of the following big data products (rela...</td>\n",
       "      <td>Which of the following big data products (rela...</td>\n",
       "      <td>Which of the following big data products (rela...</td>\n",
       "      <td>Which of the following big data products (rela...</td>\n",
       "      <td>Which of the following business intelligence t...</td>\n",
       "      <td>Which of the following business intelligence t...</td>\n",
       "      <td>Which of the following business intelligence t...</td>\n",
       "      <td>Which of the following business intelligence t...</td>\n",
       "      <td>Which of the following business intelligence t...</td>\n",
       "      <td>Which of the following business intelligence t...</td>\n",
       "      <td>Which of the following business intelligence t...</td>\n",
       "      <td>Which of the following business intelligence t...</td>\n",
       "      <td>Which of the following business intelligence t...</td>\n",
       "      <td>Which of the following business intelligence t...</td>\n",
       "      <td>Which of the following business intelligence t...</td>\n",
       "      <td>Which of the following business intelligence t...</td>\n",
       "      <td>Which of the following business intelligence t...</td>\n",
       "      <td>Which of the following business intelligence t...</td>\n",
       "      <td>Which of the following business intelligence t...</td>\n",
       "      <td>Which categories of automated machine learning...</td>\n",
       "      <td>Which categories of automated machine learning...</td>\n",
       "      <td>Which categories of automated machine learning...</td>\n",
       "      <td>Which categories of automated machine learning...</td>\n",
       "      <td>Which categories of automated machine learning...</td>\n",
       "      <td>Which categories of automated machine learning...</td>\n",
       "      <td>Which categories of automated machine learning...</td>\n",
       "      <td>Which categories of automated machine learning...</td>\n",
       "      <td>Which specific automated machine learning tool...</td>\n",
       "      <td>Which specific automated machine learning tool...</td>\n",
       "      <td>Which specific automated machine learning tool...</td>\n",
       "      <td>Which specific automated machine learning tool...</td>\n",
       "      <td>Which specific automated machine learning tool...</td>\n",
       "      <td>Which specific automated machine learning tool...</td>\n",
       "      <td>Which specific automated machine learning tool...</td>\n",
       "      <td>Which specific automated machine learning tool...</td>\n",
       "      <td>Which specific automated machine learning tool...</td>\n",
       "      <td>Which specific automated machine learning tool...</td>\n",
       "      <td>Which specific automated machine learning tool...</td>\n",
       "      <td>Which specific automated machine learning tool...</td>\n",
       "      <td>In the next 2 years, do you hope to become mor...</td>\n",
       "      <td>In the next 2 years, do you hope to become mor...</td>\n",
       "      <td>In the next 2 years, do you hope to become mor...</td>\n",
       "      <td>In the next 2 years, do you hope to become mor...</td>\n",
       "      <td>In the next 2 years, do you hope to become mor...</td>\n",
       "      <td>In the next 2 years, do you hope to become mor...</td>\n",
       "      <td>In the next 2 years, do you hope to become mor...</td>\n",
       "      <td>In the next 2 years, do you hope to become mor...</td>\n",
       "      <td>In the next 2 years, do you hope to become mor...</td>\n",
       "      <td>In the next 2 years, do you hope to become mor...</td>\n",
       "      <td>In the next 2 years, do you hope to become mor...</td>\n",
       "    </tr>\n",
       "    <tr>\n",
       "      <th>1</th>\n",
       "      <td>1838</td>\n",
       "      <td>35-39</td>\n",
       "      <td>Man</td>\n",
       "      <td>Colombia</td>\n",
       "      <td>Doctoral degree</td>\n",
       "      <td>Student</td>\n",
       "      <td>5-10 years</td>\n",
       "      <td>Python</td>\n",
       "      <td>R</td>\n",
       "      <td>SQL</td>\n",
       "      <td>C</td>\n",
       "      <td>NaN</td>\n",
       "      <td>NaN</td>\n",
       "      <td>Javascript</td>\n",
       "      <td>NaN</td>\n",
       "      <td>NaN</td>\n",
       "      <td>NaN</td>\n",
       "      <td>MATLAB</td>\n",
       "      <td>NaN</td>\n",
       "      <td>Other</td>\n",
       "      <td>Python</td>\n",
       "      <td>Jupyter (JupyterLab, Jupyter Notebooks, etc)</td>\n",
       "      <td>NaN</td>\n",
       "      <td>NaN</td>\n",
       "      <td>Visual Studio Code (VSCode)</td>\n",
       "      <td>NaN</td>\n",
       "      <td>Spyder</td>\n",
       "      <td>NaN</td>\n",
       "      <td>NaN</td>\n",
       "      <td>NaN</td>\n",
       "      <td>NaN</td>\n",
       "      <td>NaN</td>\n",
       "      <td>NaN</td>\n",
       "      <td>Kaggle Notebooks</td>\n",
       "      <td>Colab Notebooks</td>\n",
       "      <td>NaN</td>\n",
       "      <td>NaN</td>\n",
       "      <td>NaN</td>\n",
       "      <td>NaN</td>\n",
       "      <td>NaN</td>\n",
       "      <td>NaN</td>\n",
       "      <td>NaN</td>\n",
       "      <td>NaN</td>\n",
       "      <td>NaN</td>\n",
       "      <td>NaN</td>\n",
       "      <td>NaN</td>\n",
       "      <td>NaN</td>\n",
       "      <td>A cloud computing platform (AWS, Azure, GCP, h...</td>\n",
       "      <td>GPUs</td>\n",
       "      <td>NaN</td>\n",
       "      <td>NaN</td>\n",
       "      <td>NaN</td>\n",
       "      <td>2-5 times</td>\n",
       "      <td>Matplotlib</td>\n",
       "      <td>NaN</td>\n",
       "      <td>NaN</td>\n",
       "      <td>NaN</td>\n",
       "      <td>NaN</td>\n",
       "      <td>NaN</td>\n",
       "      <td>NaN</td>\n",
       "      <td>NaN</td>\n",
       "      <td>Geoplotlib</td>\n",
       "      <td>NaN</td>\n",
       "      <td>NaN</td>\n",
       "      <td>NaN</td>\n",
       "      <td>1-2 years</td>\n",
       "      <td>NaN</td>\n",
       "      <td>TensorFlow</td>\n",
       "      <td>Keras</td>\n",
       "      <td>NaN</td>\n",
       "      <td>NaN</td>\n",
       "      <td>NaN</td>\n",
       "      <td>Xgboost</td>\n",
       "      <td>NaN</td>\n",
       "      <td>NaN</td>\n",
       "      <td>NaN</td>\n",
       "      <td>NaN</td>\n",
       "      <td>NaN</td>\n",
       "      <td>NaN</td>\n",
       "      <td>NaN</td>\n",
       "      <td>NaN</td>\n",
       "      <td>NaN</td>\n",
       "      <td>NaN</td>\n",
       "      <td>Decision Trees or Random Forests</td>\n",
       "      <td>Gradient Boosting Machines (xgboost, lightgbm,...</td>\n",
       "      <td>Bayesian Approaches</td>\n",
       "      <td>NaN</td>\n",
       "      <td>Dense Neural Networks (MLPs, etc)</td>\n",
       "      <td>Convolutional Neural Networks</td>\n",
       "      <td>NaN</td>\n",
       "      <td>Recurrent Neural Networks</td>\n",
       "      <td>NaN</td>\n",
       "      <td>NaN</td>\n",
       "      <td>NaN</td>\n",
       "      <td>NaN</td>\n",
       "      <td>NaN</td>\n",
       "      <td>NaN</td>\n",
       "      <td>Image classification and other general purpose...</td>\n",
       "      <td>NaN</td>\n",
       "      <td>NaN</td>\n",
       "      <td>NaN</td>\n",
       "      <td>Word embeddings/vectors (GLoVe, fastText, word...</td>\n",
       "      <td>NaN</td>\n",
       "      <td>Contextualized embeddings (ELMo, CoVe)</td>\n",
       "      <td>Transformer language models (GPT-3, BERT, XLne...</td>\n",
       "      <td>NaN</td>\n",
       "      <td>NaN</td>\n",
       "      <td>NaN</td>\n",
       "      <td>NaN</td>\n",
       "      <td>NaN</td>\n",
       "      <td>NaN</td>\n",
       "      <td>NaN</td>\n",
       "      <td>NaN</td>\n",
       "      <td>NaN</td>\n",
       "      <td>NaN</td>\n",
       "      <td>NaN</td>\n",
       "      <td>NaN</td>\n",
       "      <td>NaN</td>\n",
       "      <td>NaN</td>\n",
       "      <td>NaN</td>\n",
       "      <td>NaN</td>\n",
       "      <td>NaN</td>\n",
       "      <td>NaN</td>\n",
       "      <td>NaN</td>\n",
       "      <td>NaN</td>\n",
       "      <td>NaN</td>\n",
       "      <td>NaN</td>\n",
       "      <td>NaN</td>\n",
       "      <td>NaN</td>\n",
       "      <td>NaN</td>\n",
       "      <td>NaN</td>\n",
       "      <td>NaN</td>\n",
       "      <td>NaN</td>\n",
       "      <td>NaN</td>\n",
       "      <td>NaN</td>\n",
       "      <td>NaN</td>\n",
       "      <td>NaN</td>\n",
       "      <td>NaN</td>\n",
       "      <td>NaN</td>\n",
       "      <td>NaN</td>\n",
       "      <td>NaN</td>\n",
       "      <td>NaN</td>\n",
       "      <td>NaN</td>\n",
       "      <td>NaN</td>\n",
       "      <td>NaN</td>\n",
       "      <td>NaN</td>\n",
       "      <td>NaN</td>\n",
       "      <td>NaN</td>\n",
       "      <td>NaN</td>\n",
       "      <td>NaN</td>\n",
       "      <td>NaN</td>\n",
       "      <td>NaN</td>\n",
       "      <td>NaN</td>\n",
       "      <td>NaN</td>\n",
       "      <td>NaN</td>\n",
       "      <td>NaN</td>\n",
       "      <td>NaN</td>\n",
       "      <td>NaN</td>\n",
       "      <td>NaN</td>\n",
       "      <td>NaN</td>\n",
       "      <td>NaN</td>\n",
       "      <td>NaN</td>\n",
       "      <td>NaN</td>\n",
       "      <td>NaN</td>\n",
       "      <td>NaN</td>\n",
       "      <td>NaN</td>\n",
       "      <td>NaN</td>\n",
       "      <td>NaN</td>\n",
       "      <td>NaN</td>\n",
       "      <td>NaN</td>\n",
       "      <td>NaN</td>\n",
       "      <td>NaN</td>\n",
       "      <td>NaN</td>\n",
       "      <td>NaN</td>\n",
       "      <td>NaN</td>\n",
       "      <td>NaN</td>\n",
       "      <td>NaN</td>\n",
       "      <td>NaN</td>\n",
       "      <td>NaN</td>\n",
       "      <td>NaN</td>\n",
       "      <td>NaN</td>\n",
       "      <td>NaN</td>\n",
       "      <td>NaN</td>\n",
       "      <td>NaN</td>\n",
       "      <td>NaN</td>\n",
       "      <td>NaN</td>\n",
       "      <td>NaN</td>\n",
       "      <td>NaN</td>\n",
       "      <td>NaN</td>\n",
       "      <td>NaN</td>\n",
       "      <td>NaN</td>\n",
       "      <td>NaN</td>\n",
       "      <td>NaN</td>\n",
       "      <td>NaN</td>\n",
       "      <td>NaN</td>\n",
       "      <td>NaN</td>\n",
       "      <td>NaN</td>\n",
       "      <td>NaN</td>\n",
       "      <td>NaN</td>\n",
       "      <td>NaN</td>\n",
       "      <td>NaN</td>\n",
       "      <td>NaN</td>\n",
       "      <td>NaN</td>\n",
       "      <td>NaN</td>\n",
       "      <td>NaN</td>\n",
       "      <td>NaN</td>\n",
       "      <td>NaN</td>\n",
       "      <td>NaN</td>\n",
       "      <td>NaN</td>\n",
       "      <td>NaN</td>\n",
       "      <td>NaN</td>\n",
       "      <td>NaN</td>\n",
       "      <td>NaN</td>\n",
       "      <td>NaN</td>\n",
       "      <td>NaN</td>\n",
       "      <td>NaN</td>\n",
       "      <td>NaN</td>\n",
       "      <td>NaN</td>\n",
       "      <td>NaN</td>\n",
       "      <td>NaN</td>\n",
       "      <td>NaN</td>\n",
       "      <td>NaN</td>\n",
       "      <td>NaN</td>\n",
       "      <td>NaN</td>\n",
       "      <td>NaN</td>\n",
       "      <td>NaN</td>\n",
       "      <td>NaN</td>\n",
       "      <td>NaN</td>\n",
       "      <td>NaN</td>\n",
       "      <td>NaN</td>\n",
       "      <td>NaN</td>\n",
       "      <td>Coursera</td>\n",
       "      <td>NaN</td>\n",
       "      <td>Kaggle Learn Courses</td>\n",
       "      <td>NaN</td>\n",
       "      <td>NaN</td>\n",
       "      <td>NaN</td>\n",
       "      <td>NaN</td>\n",
       "      <td>NaN</td>\n",
       "      <td>NaN</td>\n",
       "      <td>University Courses (resulting in a university ...</td>\n",
       "      <td>NaN</td>\n",
       "      <td>NaN</td>\n",
       "      <td>Basic statistical software (Microsoft Excel, G...</td>\n",
       "      <td>NaN</td>\n",
       "      <td>NaN</td>\n",
       "      <td>NaN</td>\n",
       "      <td>Kaggle (notebooks, forums, etc)</td>\n",
       "      <td>NaN</td>\n",
       "      <td>NaN</td>\n",
       "      <td>NaN</td>\n",
       "      <td>NaN</td>\n",
       "      <td>Journal Publications (peer-reviewed journals, ...</td>\n",
       "      <td>NaN</td>\n",
       "      <td>NaN</td>\n",
       "      <td>NaN</td>\n",
       "      <td>Amazon Web Services (AWS)</td>\n",
       "      <td>Microsoft Azure</td>\n",
       "      <td>Google Cloud Platform (GCP)</td>\n",
       "      <td>IBM Cloud / Red Hat</td>\n",
       "      <td>NaN</td>\n",
       "      <td>SAP Cloud</td>\n",
       "      <td>NaN</td>\n",
       "      <td>NaN</td>\n",
       "      <td>NaN</td>\n",
       "      <td>NaN</td>\n",
       "      <td>NaN</td>\n",
       "      <td>NaN</td>\n",
       "      <td>NaN</td>\n",
       "      <td>NaN</td>\n",
       "      <td>NaN</td>\n",
       "      <td>Azure Cloud Services</td>\n",
       "      <td>Microsoft Azure Container Instances</td>\n",
       "      <td>Azure Functions</td>\n",
       "      <td>Google Cloud Compute Engine</td>\n",
       "      <td>Google Cloud Functions</td>\n",
       "      <td>Google Cloud Run</td>\n",
       "      <td>Google Cloud App Engine</td>\n",
       "      <td>NaN</td>\n",
       "      <td>NaN</td>\n",
       "      <td>Amazon SageMaker</td>\n",
       "      <td>Amazon Forecast</td>\n",
       "      <td>Amazon Rekognition</td>\n",
       "      <td>Azure Machine Learning Studio</td>\n",
       "      <td>Azure Cognitive Services</td>\n",
       "      <td>Google Cloud AI Platform / Google Cloud ML En...</td>\n",
       "      <td>Google Cloud Video AI</td>\n",
       "      <td>Google Cloud Natural Language</td>\n",
       "      <td>Google Cloud Vision AI</td>\n",
       "      <td>NaN</td>\n",
       "      <td>NaN</td>\n",
       "      <td>NaN</td>\n",
       "      <td>NaN</td>\n",
       "      <td>NaN</td>\n",
       "      <td>NaN</td>\n",
       "      <td>MongoDB</td>\n",
       "      <td>NaN</td>\n",
       "      <td>NaN</td>\n",
       "      <td>Microsoft SQL Server</td>\n",
       "      <td>NaN</td>\n",
       "      <td>NaN</td>\n",
       "      <td>NaN</td>\n",
       "      <td>NaN</td>\n",
       "      <td>NaN</td>\n",
       "      <td>Google Cloud BigQuery</td>\n",
       "      <td>Google Cloud SQL</td>\n",
       "      <td>Google Cloud Firestore</td>\n",
       "      <td>NaN</td>\n",
       "      <td>NaN</td>\n",
       "      <td>Microsoft Power BI</td>\n",
       "      <td>Amazon QuickSight</td>\n",
       "      <td>Google Data Studio</td>\n",
       "      <td>NaN</td>\n",
       "      <td>Tableau</td>\n",
       "      <td>NaN</td>\n",
       "      <td>NaN</td>\n",
       "      <td>NaN</td>\n",
       "      <td>NaN</td>\n",
       "      <td>NaN</td>\n",
       "      <td>NaN</td>\n",
       "      <td>NaN</td>\n",
       "      <td>SAP Analytics Cloud</td>\n",
       "      <td>NaN</td>\n",
       "      <td>NaN</td>\n",
       "      <td>Automated data augmentation (e.g. imgaug, albu...</td>\n",
       "      <td>NaN</td>\n",
       "      <td>NaN</td>\n",
       "      <td>NaN</td>\n",
       "      <td>Automated hyperparameter tuning (e.g. hyperopt...</td>\n",
       "      <td>Automation of full ML pipelines (e.g. Google C...</td>\n",
       "      <td>NaN</td>\n",
       "      <td>NaN</td>\n",
       "      <td>Google Cloud AutoML</td>\n",
       "      <td>NaN</td>\n",
       "      <td>Databricks AutoML</td>\n",
       "      <td>NaN</td>\n",
       "      <td>NaN</td>\n",
       "      <td>Auto-Keras</td>\n",
       "      <td>Auto-Sklearn</td>\n",
       "      <td>NaN</td>\n",
       "      <td>NaN</td>\n",
       "      <td>NaN</td>\n",
       "      <td>NaN</td>\n",
       "      <td>NaN</td>\n",
       "      <td>NaN</td>\n",
       "      <td>NaN</td>\n",
       "      <td>NaN</td>\n",
       "      <td>NaN</td>\n",
       "      <td>TensorBoard</td>\n",
       "      <td>NaN</td>\n",
       "      <td>NaN</td>\n",
       "      <td>NaN</td>\n",
       "      <td>NaN</td>\n",
       "      <td>NaN</td>\n",
       "      <td>NaN</td>\n",
       "    </tr>\n",
       "  </tbody>\n",
       "</table>\n",
       "</div>"
      ],
      "text/plain": [
       "  Time from Start to Finish (seconds)                           Q1  \\\n",
       "0               Duration (in seconds)  What is your age (# years)?   \n",
       "1                                1838                        35-39   \n",
       "\n",
       "                                       Q2  \\\n",
       "0  What is your gender? - Selected Choice   \n",
       "1                                     Man   \n",
       "\n",
       "                                          Q3  \\\n",
       "0  In which country do you currently reside?   \n",
       "1                                   Colombia   \n",
       "\n",
       "                                                  Q4  \\\n",
       "0  What is the highest level of formal education ...   \n",
       "1                                    Doctoral degree   \n",
       "\n",
       "                                                  Q5  \\\n",
       "0  Select the title most similar to your current ...   \n",
       "1                                            Student   \n",
       "\n",
       "                                                  Q6  \\\n",
       "0  For how many years have you been writing code ...   \n",
       "1                                         5-10 years   \n",
       "\n",
       "                                           Q7_Part_1  \\\n",
       "0  What programming languages do you use on a reg...   \n",
       "1                                             Python   \n",
       "\n",
       "                                           Q7_Part_2  \\\n",
       "0  What programming languages do you use on a reg...   \n",
       "1                                                  R   \n",
       "\n",
       "                                           Q7_Part_3  \\\n",
       "0  What programming languages do you use on a reg...   \n",
       "1                                                SQL   \n",
       "\n",
       "                                           Q7_Part_4  \\\n",
       "0  What programming languages do you use on a reg...   \n",
       "1                                                  C   \n",
       "\n",
       "                                           Q7_Part_5  \\\n",
       "0  What programming languages do you use on a reg...   \n",
       "1                                                NaN   \n",
       "\n",
       "                                           Q7_Part_6  \\\n",
       "0  What programming languages do you use on a reg...   \n",
       "1                                                NaN   \n",
       "\n",
       "                                           Q7_Part_7  \\\n",
       "0  What programming languages do you use on a reg...   \n",
       "1                                         Javascript   \n",
       "\n",
       "                                           Q7_Part_8  \\\n",
       "0  What programming languages do you use on a reg...   \n",
       "1                                                NaN   \n",
       "\n",
       "                                           Q7_Part_9  \\\n",
       "0  What programming languages do you use on a reg...   \n",
       "1                                                NaN   \n",
       "\n",
       "                                          Q7_Part_10  \\\n",
       "0  What programming languages do you use on a reg...   \n",
       "1                                                NaN   \n",
       "\n",
       "                                          Q7_Part_11  \\\n",
       "0  What programming languages do you use on a reg...   \n",
       "1                                             MATLAB   \n",
       "\n",
       "                                          Q7_Part_12  \\\n",
       "0  What programming languages do you use on a reg...   \n",
       "1                                                NaN   \n",
       "\n",
       "                                            Q7_OTHER  \\\n",
       "0  What programming languages do you use on a reg...   \n",
       "1                                              Other   \n",
       "\n",
       "                                                  Q8  \\\n",
       "0  What programming language would you recommend ...   \n",
       "1                                             Python   \n",
       "\n",
       "                                           Q9_Part_1  \\\n",
       "0  Which of the following integrated development ...   \n",
       "1      Jupyter (JupyterLab, Jupyter Notebooks, etc)    \n",
       "\n",
       "                                           Q9_Part_2  \\\n",
       "0  Which of the following integrated development ...   \n",
       "1                                                NaN   \n",
       "\n",
       "                                           Q9_Part_3  \\\n",
       "0  Which of the following integrated development ...   \n",
       "1                                                NaN   \n",
       "\n",
       "                                           Q9_Part_4  \\\n",
       "0  Which of the following integrated development ...   \n",
       "1                        Visual Studio Code (VSCode)   \n",
       "\n",
       "                                           Q9_Part_5  \\\n",
       "0  Which of the following integrated development ...   \n",
       "1                                                NaN   \n",
       "\n",
       "                                           Q9_Part_6  \\\n",
       "0  Which of the following integrated development ...   \n",
       "1                                           Spyder     \n",
       "\n",
       "                                           Q9_Part_7  \\\n",
       "0  Which of the following integrated development ...   \n",
       "1                                                NaN   \n",
       "\n",
       "                                           Q9_Part_8  \\\n",
       "0  Which of the following integrated development ...   \n",
       "1                                                NaN   \n",
       "\n",
       "                                           Q9_Part_9  \\\n",
       "0  Which of the following integrated development ...   \n",
       "1                                                NaN   \n",
       "\n",
       "                                          Q9_Part_10  \\\n",
       "0  Which of the following integrated development ...   \n",
       "1                                                NaN   \n",
       "\n",
       "                                          Q9_Part_11  \\\n",
       "0  Which of the following integrated development ...   \n",
       "1                                                NaN   \n",
       "\n",
       "                                            Q9_OTHER  \\\n",
       "0  Which of the following integrated development ...   \n",
       "1                                                NaN   \n",
       "\n",
       "                                          Q10_Part_1  \\\n",
       "0  Which of the following hosted notebook product...   \n",
       "1                                   Kaggle Notebooks   \n",
       "\n",
       "                                          Q10_Part_2  \\\n",
       "0  Which of the following hosted notebook product...   \n",
       "1                                    Colab Notebooks   \n",
       "\n",
       "                                          Q10_Part_3  \\\n",
       "0  Which of the following hosted notebook product...   \n",
       "1                                                NaN   \n",
       "\n",
       "                                          Q10_Part_4  \\\n",
       "0  Which of the following hosted notebook product...   \n",
       "1                                                NaN   \n",
       "\n",
       "                                          Q10_Part_5  \\\n",
       "0  Which of the following hosted notebook product...   \n",
       "1                                                NaN   \n",
       "\n",
       "                                          Q10_Part_6  \\\n",
       "0  Which of the following hosted notebook product...   \n",
       "1                                                NaN   \n",
       "\n",
       "                                          Q10_Part_7  \\\n",
       "0  Which of the following hosted notebook product...   \n",
       "1                                                NaN   \n",
       "\n",
       "                                          Q10_Part_8  \\\n",
       "0  Which of the following hosted notebook product...   \n",
       "1                                                NaN   \n",
       "\n",
       "                                          Q10_Part_9  \\\n",
       "0  Which of the following hosted notebook product...   \n",
       "1                                                NaN   \n",
       "\n",
       "                                         Q10_Part_10  \\\n",
       "0  Which of the following hosted notebook product...   \n",
       "1                                                NaN   \n",
       "\n",
       "                                         Q10_Part_11  \\\n",
       "0  Which of the following hosted notebook product...   \n",
       "1                                                NaN   \n",
       "\n",
       "                                         Q10_Part_12  \\\n",
       "0  Which of the following hosted notebook product...   \n",
       "1                                                NaN   \n",
       "\n",
       "                                         Q10_Part_13  \\\n",
       "0  Which of the following hosted notebook product...   \n",
       "1                                                NaN   \n",
       "\n",
       "                                           Q10_OTHER  \\\n",
       "0  Which of the following hosted notebook product...   \n",
       "1                                                NaN   \n",
       "\n",
       "                                                 Q11  \\\n",
       "0  What type of computing platform do you use mos...   \n",
       "1  A cloud computing platform (AWS, Azure, GCP, h...   \n",
       "\n",
       "                                          Q12_Part_1  \\\n",
       "0  Which types of specialized hardware do you use...   \n",
       "1                                               GPUs   \n",
       "\n",
       "                                          Q12_Part_2  \\\n",
       "0  Which types of specialized hardware do you use...   \n",
       "1                                                NaN   \n",
       "\n",
       "                                          Q12_Part_3  \\\n",
       "0  Which types of specialized hardware do you use...   \n",
       "1                                                NaN   \n",
       "\n",
       "                                           Q12_OTHER  \\\n",
       "0  Which types of specialized hardware do you use...   \n",
       "1                                                NaN   \n",
       "\n",
       "                                                 Q13  \\\n",
       "0  Approximately how many times have you used a T...   \n",
       "1                                          2-5 times   \n",
       "\n",
       "                                          Q14_Part_1  \\\n",
       "0  What data visualization libraries or tools do ...   \n",
       "1                                        Matplotlib    \n",
       "\n",
       "                                          Q14_Part_2  \\\n",
       "0  What data visualization libraries or tools do ...   \n",
       "1                                                NaN   \n",
       "\n",
       "                                          Q14_Part_3  \\\n",
       "0  What data visualization libraries or tools do ...   \n",
       "1                                                NaN   \n",
       "\n",
       "                                          Q14_Part_4  \\\n",
       "0  What data visualization libraries or tools do ...   \n",
       "1                                                NaN   \n",
       "\n",
       "                                          Q14_Part_5  \\\n",
       "0  What data visualization libraries or tools do ...   \n",
       "1                                                NaN   \n",
       "\n",
       "                                          Q14_Part_6  \\\n",
       "0  What data visualization libraries or tools do ...   \n",
       "1                                                NaN   \n",
       "\n",
       "                                          Q14_Part_7  \\\n",
       "0  What data visualization libraries or tools do ...   \n",
       "1                                                NaN   \n",
       "\n",
       "                                          Q14_Part_8  \\\n",
       "0  What data visualization libraries or tools do ...   \n",
       "1                                                NaN   \n",
       "\n",
       "                                          Q14_Part_9  \\\n",
       "0  What data visualization libraries or tools do ...   \n",
       "1                                        Geoplotlib    \n",
       "\n",
       "                                         Q14_Part_10  \\\n",
       "0  What data visualization libraries or tools do ...   \n",
       "1                                                NaN   \n",
       "\n",
       "                                         Q14_Part_11  \\\n",
       "0  What data visualization libraries or tools do ...   \n",
       "1                                                NaN   \n",
       "\n",
       "                                           Q14_OTHER  \\\n",
       "0  What data visualization libraries or tools do ...   \n",
       "1                                                NaN   \n",
       "\n",
       "                                                 Q15  \\\n",
       "0  For how many years have you used machine learn...   \n",
       "1                                          1-2 years   \n",
       "\n",
       "                                          Q16_Part_1  \\\n",
       "0  Which of the following machine learning framew...   \n",
       "1                                                NaN   \n",
       "\n",
       "                                          Q16_Part_2  \\\n",
       "0  Which of the following machine learning framew...   \n",
       "1                                        TensorFlow    \n",
       "\n",
       "                                          Q16_Part_3  \\\n",
       "0  Which of the following machine learning framew...   \n",
       "1                                             Keras    \n",
       "\n",
       "                                          Q16_Part_4  \\\n",
       "0  Which of the following machine learning framew...   \n",
       "1                                                NaN   \n",
       "\n",
       "                                          Q16_Part_5  \\\n",
       "0  Which of the following machine learning framew...   \n",
       "1                                                NaN   \n",
       "\n",
       "                                          Q16_Part_6  \\\n",
       "0  Which of the following machine learning framew...   \n",
       "1                                                NaN   \n",
       "\n",
       "                                          Q16_Part_7  \\\n",
       "0  Which of the following machine learning framew...   \n",
       "1                                           Xgboost    \n",
       "\n",
       "                                          Q16_Part_8  \\\n",
       "0  Which of the following machine learning framew...   \n",
       "1                                                NaN   \n",
       "\n",
       "                                          Q16_Part_9  \\\n",
       "0  Which of the following machine learning framew...   \n",
       "1                                                NaN   \n",
       "\n",
       "                                         Q16_Part_10  \\\n",
       "0  Which of the following machine learning framew...   \n",
       "1                                                NaN   \n",
       "\n",
       "                                         Q16_Part_11  \\\n",
       "0  Which of the following machine learning framew...   \n",
       "1                                                NaN   \n",
       "\n",
       "                                         Q16_Part_12  \\\n",
       "0  Which of the following machine learning framew...   \n",
       "1                                                NaN   \n",
       "\n",
       "                                         Q16_Part_13  \\\n",
       "0  Which of the following machine learning framew...   \n",
       "1                                                NaN   \n",
       "\n",
       "                                         Q16_Part_14  \\\n",
       "0  Which of the following machine learning framew...   \n",
       "1                                                NaN   \n",
       "\n",
       "                                         Q16_Part_15  \\\n",
       "0  Which of the following machine learning framew...   \n",
       "1                                                NaN   \n",
       "\n",
       "                                           Q16_OTHER  \\\n",
       "0  Which of the following machine learning framew...   \n",
       "1                                                NaN   \n",
       "\n",
       "                                          Q17_Part_1  \\\n",
       "0  Which of the following ML algorithms do you us...   \n",
       "1                                                NaN   \n",
       "\n",
       "                                          Q17_Part_2  \\\n",
       "0  Which of the following ML algorithms do you us...   \n",
       "1                   Decision Trees or Random Forests   \n",
       "\n",
       "                                          Q17_Part_3  \\\n",
       "0  Which of the following ML algorithms do you us...   \n",
       "1  Gradient Boosting Machines (xgboost, lightgbm,...   \n",
       "\n",
       "                                          Q17_Part_4  \\\n",
       "0  Which of the following ML algorithms do you us...   \n",
       "1                                Bayesian Approaches   \n",
       "\n",
       "                                          Q17_Part_5  \\\n",
       "0  Which of the following ML algorithms do you us...   \n",
       "1                                                NaN   \n",
       "\n",
       "                                          Q17_Part_6  \\\n",
       "0  Which of the following ML algorithms do you us...   \n",
       "1                  Dense Neural Networks (MLPs, etc)   \n",
       "\n",
       "                                          Q17_Part_7  \\\n",
       "0  Which of the following ML algorithms do you us...   \n",
       "1                      Convolutional Neural Networks   \n",
       "\n",
       "                                          Q17_Part_8  \\\n",
       "0  Which of the following ML algorithms do you us...   \n",
       "1                                                NaN   \n",
       "\n",
       "                                          Q17_Part_9  \\\n",
       "0  Which of the following ML algorithms do you us...   \n",
       "1                          Recurrent Neural Networks   \n",
       "\n",
       "                                         Q17_Part_10  \\\n",
       "0  Which of the following ML algorithms do you us...   \n",
       "1                                                NaN   \n",
       "\n",
       "                                         Q17_Part_11  \\\n",
       "0  Which of the following ML algorithms do you us...   \n",
       "1                                                NaN   \n",
       "\n",
       "                                           Q17_OTHER  \\\n",
       "0  Which of the following ML algorithms do you us...   \n",
       "1                                                NaN   \n",
       "\n",
       "                                          Q18_Part_1  \\\n",
       "0  Which categories of computer vision methods do...   \n",
       "1                                                NaN   \n",
       "\n",
       "                                          Q18_Part_2  \\\n",
       "0  Which categories of computer vision methods do...   \n",
       "1                                                NaN   \n",
       "\n",
       "                                          Q18_Part_3  \\\n",
       "0  Which categories of computer vision methods do...   \n",
       "1                                                NaN   \n",
       "\n",
       "                                          Q18_Part_4  \\\n",
       "0  Which categories of computer vision methods do...   \n",
       "1  Image classification and other general purpose...   \n",
       "\n",
       "                                          Q18_Part_5  \\\n",
       "0  Which categories of computer vision methods do...   \n",
       "1                                                NaN   \n",
       "\n",
       "                                          Q18_Part_6  \\\n",
       "0  Which categories of computer vision methods do...   \n",
       "1                                                NaN   \n",
       "\n",
       "                                           Q18_OTHER  \\\n",
       "0  Which categories of computer vision methods do...   \n",
       "1                                                NaN   \n",
       "\n",
       "                                          Q19_Part_1  \\\n",
       "0  Which of the following natural language proces...   \n",
       "1  Word embeddings/vectors (GLoVe, fastText, word...   \n",
       "\n",
       "                                          Q19_Part_2  \\\n",
       "0  Which of the following natural language proces...   \n",
       "1                                                NaN   \n",
       "\n",
       "                                          Q19_Part_3  \\\n",
       "0  Which of the following natural language proces...   \n",
       "1             Contextualized embeddings (ELMo, CoVe)   \n",
       "\n",
       "                                          Q19_Part_4  \\\n",
       "0  Which of the following natural language proces...   \n",
       "1  Transformer language models (GPT-3, BERT, XLne...   \n",
       "\n",
       "                                          Q19_Part_5  \\\n",
       "0  Which of the following natural language proces...   \n",
       "1                                                NaN   \n",
       "\n",
       "                                           Q19_OTHER  \\\n",
       "0  Which of the following natural language proces...   \n",
       "1                                                NaN   \n",
       "\n",
       "                                                 Q20  \\\n",
       "0  What is the size of the company where you are ...   \n",
       "1                                                NaN   \n",
       "\n",
       "                                                 Q21  \\\n",
       "0  Approximately how many individuals are respons...   \n",
       "1                                                NaN   \n",
       "\n",
       "                                                 Q22  \\\n",
       "0  Does your current employer incorporate machine...   \n",
       "1                                                NaN   \n",
       "\n",
       "                                          Q23_Part_1  \\\n",
       "0  Select any activities that make up an importan...   \n",
       "1                                                NaN   \n",
       "\n",
       "                                          Q23_Part_2  \\\n",
       "0  Select any activities that make up an importan...   \n",
       "1                                                NaN   \n",
       "\n",
       "                                          Q23_Part_3  \\\n",
       "0  Select any activities that make up an importan...   \n",
       "1                                                NaN   \n",
       "\n",
       "                                          Q23_Part_4  \\\n",
       "0  Select any activities that make up an importan...   \n",
       "1                                                NaN   \n",
       "\n",
       "                                          Q23_Part_5  \\\n",
       "0  Select any activities that make up an importan...   \n",
       "1                                                NaN   \n",
       "\n",
       "                                          Q23_Part_6  \\\n",
       "0  Select any activities that make up an importan...   \n",
       "1                                                NaN   \n",
       "\n",
       "                                          Q23_Part_7  \\\n",
       "0  Select any activities that make up an importan...   \n",
       "1                                                NaN   \n",
       "\n",
       "                                           Q23_OTHER  \\\n",
       "0  Select any activities that make up an importan...   \n",
       "1                                                NaN   \n",
       "\n",
       "                                                 Q24  \\\n",
       "0  What is your current yearly compensation (appr...   \n",
       "1                                                NaN   \n",
       "\n",
       "                                                 Q25  \\\n",
       "0  Approximately how much money have you (or your...   \n",
       "1                                                NaN   \n",
       "\n",
       "                                        Q26_A_Part_1  \\\n",
       "0  Which of the following cloud computing platfor...   \n",
       "1                                                NaN   \n",
       "\n",
       "                                        Q26_A_Part_2  \\\n",
       "0  Which of the following cloud computing platfor...   \n",
       "1                                                NaN   \n",
       "\n",
       "                                        Q26_A_Part_3  \\\n",
       "0  Which of the following cloud computing platfor...   \n",
       "1                                                NaN   \n",
       "\n",
       "                                        Q26_A_Part_4  \\\n",
       "0  Which of the following cloud computing platfor...   \n",
       "1                                                NaN   \n",
       "\n",
       "                                        Q26_A_Part_5  \\\n",
       "0  Which of the following cloud computing platfor...   \n",
       "1                                                NaN   \n",
       "\n",
       "                                        Q26_A_Part_6  \\\n",
       "0  Which of the following cloud computing platfor...   \n",
       "1                                                NaN   \n",
       "\n",
       "                                        Q26_A_Part_7  \\\n",
       "0  Which of the following cloud computing platfor...   \n",
       "1                                                NaN   \n",
       "\n",
       "                                        Q26_A_Part_8  \\\n",
       "0  Which of the following cloud computing platfor...   \n",
       "1                                                NaN   \n",
       "\n",
       "                                        Q26_A_Part_9  \\\n",
       "0  Which of the following cloud computing platfor...   \n",
       "1                                                NaN   \n",
       "\n",
       "                                       Q26_A_Part_10  \\\n",
       "0  Which of the following cloud computing platfor...   \n",
       "1                                                NaN   \n",
       "\n",
       "                                       Q26_A_Part_11  \\\n",
       "0  Which of the following cloud computing platfor...   \n",
       "1                                                NaN   \n",
       "\n",
       "                                         Q26_A_OTHER  \\\n",
       "0  Which of the following cloud computing platfor...   \n",
       "1                                                NaN   \n",
       "\n",
       "                                        Q27_A_Part_1  \\\n",
       "0  Do you use any of the following cloud computin...   \n",
       "1                                                NaN   \n",
       "\n",
       "                                        Q27_A_Part_2  \\\n",
       "0  Do you use any of the following cloud computin...   \n",
       "1                                                NaN   \n",
       "\n",
       "                                        Q27_A_Part_3  \\\n",
       "0  Do you use any of the following cloud computin...   \n",
       "1                                                NaN   \n",
       "\n",
       "                                        Q27_A_Part_4  \\\n",
       "0  Do you use any of the following cloud computin...   \n",
       "1                                                NaN   \n",
       "\n",
       "                                        Q27_A_Part_5  \\\n",
       "0  Do you use any of the following cloud computin...   \n",
       "1                                                NaN   \n",
       "\n",
       "                                        Q27_A_Part_6  \\\n",
       "0  Do you use any of the following cloud computin...   \n",
       "1                                                NaN   \n",
       "\n",
       "                                        Q27_A_Part_7  \\\n",
       "0  Do you use any of the following cloud computin...   \n",
       "1                                                NaN   \n",
       "\n",
       "                                        Q27_A_Part_8  \\\n",
       "0  Do you use any of the following cloud computin...   \n",
       "1                                                NaN   \n",
       "\n",
       "                                        Q27_A_Part_9  \\\n",
       "0  Do you use any of the following cloud computin...   \n",
       "1                                                NaN   \n",
       "\n",
       "                                       Q27_A_Part_10  \\\n",
       "0  Do you use any of the following cloud computin...   \n",
       "1                                                NaN   \n",
       "\n",
       "                                       Q27_A_Part_11  \\\n",
       "0  Do you use any of the following cloud computin...   \n",
       "1                                                NaN   \n",
       "\n",
       "                                         Q27_A_OTHER  \\\n",
       "0  Do you use any of the following cloud computin...   \n",
       "1                                                NaN   \n",
       "\n",
       "                                        Q28_A_Part_1  \\\n",
       "0  Do you use any of the following machine learni...   \n",
       "1                                                NaN   \n",
       "\n",
       "                                        Q28_A_Part_2  \\\n",
       "0  Do you use any of the following machine learni...   \n",
       "1                                                NaN   \n",
       "\n",
       "                                        Q28_A_Part_3  \\\n",
       "0  Do you use any of the following machine learni...   \n",
       "1                                                NaN   \n",
       "\n",
       "                                        Q28_A_Part_4  \\\n",
       "0  Do you use any of the following machine learni...   \n",
       "1                                                NaN   \n",
       "\n",
       "                                        Q28_A_Part_5  \\\n",
       "0  Do you use any of the following machine learni...   \n",
       "1                                                NaN   \n",
       "\n",
       "                                        Q28_A_Part_6  \\\n",
       "0  Do you use any of the following machine learni...   \n",
       "1                                                NaN   \n",
       "\n",
       "                                        Q28_A_Part_7  \\\n",
       "0  Do you use any of the following machine learni...   \n",
       "1                                                NaN   \n",
       "\n",
       "                                        Q28_A_Part_8  \\\n",
       "0  Do you use any of the following machine learni...   \n",
       "1                                                NaN   \n",
       "\n",
       "                                        Q28_A_Part_9  \\\n",
       "0  Do you use any of the following machine learni...   \n",
       "1                                                NaN   \n",
       "\n",
       "                                       Q28_A_Part_10  \\\n",
       "0  Do you use any of the following machine learni...   \n",
       "1                                                NaN   \n",
       "\n",
       "                                         Q28_A_OTHER  \\\n",
       "0  Do you use any of the following machine learni...   \n",
       "1                                                NaN   \n",
       "\n",
       "                                        Q29_A_Part_1  \\\n",
       "0  Which of the following big data products (rela...   \n",
       "1                                                NaN   \n",
       "\n",
       "                                        Q29_A_Part_2  \\\n",
       "0  Which of the following big data products (rela...   \n",
       "1                                                NaN   \n",
       "\n",
       "                                        Q29_A_Part_3  \\\n",
       "0  Which of the following big data products (rela...   \n",
       "1                                                NaN   \n",
       "\n",
       "                                        Q29_A_Part_4  \\\n",
       "0  Which of the following big data products (rela...   \n",
       "1                                                NaN   \n",
       "\n",
       "                                        Q29_A_Part_5  \\\n",
       "0  Which of the following big data products (rela...   \n",
       "1                                                NaN   \n",
       "\n",
       "                                        Q29_A_Part_6  \\\n",
       "0  Which of the following big data products (rela...   \n",
       "1                                                NaN   \n",
       "\n",
       "                                        Q29_A_Part_7  \\\n",
       "0  Which of the following big data products (rela...   \n",
       "1                                                NaN   \n",
       "\n",
       "                                        Q29_A_Part_8  \\\n",
       "0  Which of the following big data products (rela...   \n",
       "1                                                NaN   \n",
       "\n",
       "                                        Q29_A_Part_9  \\\n",
       "0  Which of the following big data products (rela...   \n",
       "1                                                NaN   \n",
       "\n",
       "                                       Q29_A_Part_10  \\\n",
       "0  Which of the following big data products (rela...   \n",
       "1                                                NaN   \n",
       "\n",
       "                                       Q29_A_Part_11  \\\n",
       "0  Which of the following big data products (rela...   \n",
       "1                                                NaN   \n",
       "\n",
       "                                       Q29_A_Part_12  \\\n",
       "0  Which of the following big data products (rela...   \n",
       "1                                                NaN   \n",
       "\n",
       "                                       Q29_A_Part_13  \\\n",
       "0  Which of the following big data products (rela...   \n",
       "1                                                NaN   \n",
       "\n",
       "                                       Q29_A_Part_14  \\\n",
       "0  Which of the following big data products (rela...   \n",
       "1                                                NaN   \n",
       "\n",
       "                                       Q29_A_Part_15  \\\n",
       "0  Which of the following big data products (rela...   \n",
       "1                                                NaN   \n",
       "\n",
       "                                       Q29_A_Part_16  \\\n",
       "0  Which of the following big data products (rela...   \n",
       "1                                                NaN   \n",
       "\n",
       "                                       Q29_A_Part_17  \\\n",
       "0  Which of the following big data products (rela...   \n",
       "1                                                NaN   \n",
       "\n",
       "                                         Q29_A_OTHER  \\\n",
       "0  Which of the following big data products (rela...   \n",
       "1                                                NaN   \n",
       "\n",
       "                                                 Q30  \\\n",
       "0  Which of the following big data products (rela...   \n",
       "1                                                NaN   \n",
       "\n",
       "                                        Q31_A_Part_1  \\\n",
       "0  Which of the following business intelligence t...   \n",
       "1                                                NaN   \n",
       "\n",
       "                                        Q31_A_Part_2  \\\n",
       "0  Which of the following business intelligence t...   \n",
       "1                                                NaN   \n",
       "\n",
       "                                        Q31_A_Part_3  \\\n",
       "0  Which of the following business intelligence t...   \n",
       "1                                                NaN   \n",
       "\n",
       "                                        Q31_A_Part_4  \\\n",
       "0  Which of the following business intelligence t...   \n",
       "1                                                NaN   \n",
       "\n",
       "                                        Q31_A_Part_5  \\\n",
       "0  Which of the following business intelligence t...   \n",
       "1                                                NaN   \n",
       "\n",
       "                                        Q31_A_Part_6  \\\n",
       "0  Which of the following business intelligence t...   \n",
       "1                                                NaN   \n",
       "\n",
       "                                        Q31_A_Part_7  \\\n",
       "0  Which of the following business intelligence t...   \n",
       "1                                                NaN   \n",
       "\n",
       "                                        Q31_A_Part_8  \\\n",
       "0  Which of the following business intelligence t...   \n",
       "1                                                NaN   \n",
       "\n",
       "                                        Q31_A_Part_9  \\\n",
       "0  Which of the following business intelligence t...   \n",
       "1                                                NaN   \n",
       "\n",
       "                                       Q31_A_Part_10  \\\n",
       "0  Which of the following business intelligence t...   \n",
       "1                                                NaN   \n",
       "\n",
       "                                       Q31_A_Part_11  \\\n",
       "0  Which of the following business intelligence t...   \n",
       "1                                                NaN   \n",
       "\n",
       "                                       Q31_A_Part_12  \\\n",
       "0  Which of the following business intelligence t...   \n",
       "1                                                NaN   \n",
       "\n",
       "                                       Q31_A_Part_13  \\\n",
       "0  Which of the following business intelligence t...   \n",
       "1                                                NaN   \n",
       "\n",
       "                                       Q31_A_Part_14  \\\n",
       "0  Which of the following business intelligence t...   \n",
       "1                                                NaN   \n",
       "\n",
       "                                         Q31_A_OTHER  \\\n",
       "0  Which of the following business intelligence t...   \n",
       "1                                                NaN   \n",
       "\n",
       "                                                 Q32  \\\n",
       "0  Which of the following business intelligence t...   \n",
       "1                                                NaN   \n",
       "\n",
       "                                        Q33_A_Part_1  \\\n",
       "0  Do you use any automated machine learning tool...   \n",
       "1                                                NaN   \n",
       "\n",
       "                                        Q33_A_Part_2  \\\n",
       "0  Do you use any automated machine learning tool...   \n",
       "1                                                NaN   \n",
       "\n",
       "                                        Q33_A_Part_3  \\\n",
       "0  Do you use any automated machine learning tool...   \n",
       "1                                                NaN   \n",
       "\n",
       "                                        Q33_A_Part_4  \\\n",
       "0  Do you use any automated machine learning tool...   \n",
       "1                                                NaN   \n",
       "\n",
       "                                        Q33_A_Part_5  \\\n",
       "0  Do you use any automated machine learning tool...   \n",
       "1                                                NaN   \n",
       "\n",
       "                                        Q33_A_Part_6  \\\n",
       "0  Do you use any automated machine learning tool...   \n",
       "1                                                NaN   \n",
       "\n",
       "                                        Q33_A_Part_7  \\\n",
       "0  Do you use any automated machine learning tool...   \n",
       "1                                                NaN   \n",
       "\n",
       "                                         Q33_A_OTHER  \\\n",
       "0  Do you use any automated machine learning tool...   \n",
       "1                                                NaN   \n",
       "\n",
       "                                        Q34_A_Part_1  \\\n",
       "0  Which of the following automated machine learn...   \n",
       "1                                                NaN   \n",
       "\n",
       "                                        Q34_A_Part_2  \\\n",
       "0  Which of the following automated machine learn...   \n",
       "1                                                NaN   \n",
       "\n",
       "                                        Q34_A_Part_3  \\\n",
       "0  Which of the following automated machine learn...   \n",
       "1                                                NaN   \n",
       "\n",
       "                                        Q34_A_Part_4  \\\n",
       "0  Which of the following automated machine learn...   \n",
       "1                                                NaN   \n",
       "\n",
       "                                        Q34_A_Part_5  \\\n",
       "0  Which of the following automated machine learn...   \n",
       "1                                                NaN   \n",
       "\n",
       "                                        Q34_A_Part_6  \\\n",
       "0  Which of the following automated machine learn...   \n",
       "1                                                NaN   \n",
       "\n",
       "                                        Q34_A_Part_7  \\\n",
       "0  Which of the following automated machine learn...   \n",
       "1                                                NaN   \n",
       "\n",
       "                                        Q34_A_Part_8  \\\n",
       "0  Which of the following automated machine learn...   \n",
       "1                                                NaN   \n",
       "\n",
       "                                        Q34_A_Part_9  \\\n",
       "0  Which of the following automated machine learn...   \n",
       "1                                                NaN   \n",
       "\n",
       "                                       Q34_A_Part_10  \\\n",
       "0  Which of the following automated machine learn...   \n",
       "1                                                NaN   \n",
       "\n",
       "                                       Q34_A_Part_11  \\\n",
       "0  Which of the following automated machine learn...   \n",
       "1                                                NaN   \n",
       "\n",
       "                                         Q34_A_OTHER  \\\n",
       "0  Which of the following automated machine learn...   \n",
       "1                                                NaN   \n",
       "\n",
       "                                        Q35_A_Part_1  \\\n",
       "0  Do you use any tools to help manage machine le...   \n",
       "1                                                NaN   \n",
       "\n",
       "                                        Q35_A_Part_2  \\\n",
       "0  Do you use any tools to help manage machine le...   \n",
       "1                                                NaN   \n",
       "\n",
       "                                        Q35_A_Part_3  \\\n",
       "0  Do you use any tools to help manage machine le...   \n",
       "1                                                NaN   \n",
       "\n",
       "                                        Q35_A_Part_4  \\\n",
       "0  Do you use any tools to help manage machine le...   \n",
       "1                                                NaN   \n",
       "\n",
       "                                        Q35_A_Part_5  \\\n",
       "0  Do you use any tools to help manage machine le...   \n",
       "1                                                NaN   \n",
       "\n",
       "                                        Q35_A_Part_6  \\\n",
       "0  Do you use any tools to help manage machine le...   \n",
       "1                                                NaN   \n",
       "\n",
       "                                        Q35_A_Part_7  \\\n",
       "0  Do you use any tools to help manage machine le...   \n",
       "1                                                NaN   \n",
       "\n",
       "                                        Q35_A_Part_8  \\\n",
       "0  Do you use any tools to help manage machine le...   \n",
       "1                                                NaN   \n",
       "\n",
       "                                        Q35_A_Part_9  \\\n",
       "0  Do you use any tools to help manage machine le...   \n",
       "1                                                NaN   \n",
       "\n",
       "                                       Q35_A_Part_10  \\\n",
       "0  Do you use any tools to help manage machine le...   \n",
       "1                                                NaN   \n",
       "\n",
       "                                         Q35_A_OTHER  \\\n",
       "0  Do you use any tools to help manage machine le...   \n",
       "1                                                NaN   \n",
       "\n",
       "                                          Q36_Part_1  \\\n",
       "0  Where do you publicly share or deploy your dat...   \n",
       "1                                                NaN   \n",
       "\n",
       "                                          Q36_Part_2  \\\n",
       "0  Where do you publicly share or deploy your dat...   \n",
       "1                                                NaN   \n",
       "\n",
       "                                          Q36_Part_3  \\\n",
       "0  Where do you publicly share or deploy your dat...   \n",
       "1                                                NaN   \n",
       "\n",
       "                                          Q36_Part_4  \\\n",
       "0  Where do you publicly share or deploy your dat...   \n",
       "1                                                NaN   \n",
       "\n",
       "                                          Q36_Part_5  \\\n",
       "0  Where do you publicly share or deploy your dat...   \n",
       "1                                                NaN   \n",
       "\n",
       "                                          Q36_Part_6  \\\n",
       "0  Where do you publicly share or deploy your dat...   \n",
       "1                                                NaN   \n",
       "\n",
       "                                          Q36_Part_7  \\\n",
       "0  Where do you publicly share or deploy your dat...   \n",
       "1                                                NaN   \n",
       "\n",
       "                                          Q36_Part_8  \\\n",
       "0  Where do you publicly share or deploy your dat...   \n",
       "1                                                NaN   \n",
       "\n",
       "                                          Q36_Part_9  \\\n",
       "0  Where do you publicly share or deploy your dat...   \n",
       "1                                                NaN   \n",
       "\n",
       "                                           Q36_OTHER  \\\n",
       "0  Where do you publicly share or deploy your dat...   \n",
       "1                                                NaN   \n",
       "\n",
       "                                          Q37_Part_1  \\\n",
       "0  On which platforms have you begun or completed...   \n",
       "1                                           Coursera   \n",
       "\n",
       "                                          Q37_Part_2  \\\n",
       "0  On which platforms have you begun or completed...   \n",
       "1                                                NaN   \n",
       "\n",
       "                                          Q37_Part_3  \\\n",
       "0  On which platforms have you begun or completed...   \n",
       "1                               Kaggle Learn Courses   \n",
       "\n",
       "                                          Q37_Part_4  \\\n",
       "0  On which platforms have you begun or completed...   \n",
       "1                                                NaN   \n",
       "\n",
       "                                          Q37_Part_5  \\\n",
       "0  On which platforms have you begun or completed...   \n",
       "1                                                NaN   \n",
       "\n",
       "                                          Q37_Part_6  \\\n",
       "0  On which platforms have you begun or completed...   \n",
       "1                                                NaN   \n",
       "\n",
       "                                          Q37_Part_7  \\\n",
       "0  On which platforms have you begun or completed...   \n",
       "1                                                NaN   \n",
       "\n",
       "                                          Q37_Part_8  \\\n",
       "0  On which platforms have you begun or completed...   \n",
       "1                                                NaN   \n",
       "\n",
       "                                          Q37_Part_9  \\\n",
       "0  On which platforms have you begun or completed...   \n",
       "1                                                NaN   \n",
       "\n",
       "                                         Q37_Part_10  \\\n",
       "0  On which platforms have you begun or completed...   \n",
       "1  University Courses (resulting in a university ...   \n",
       "\n",
       "                                         Q37_Part_11  \\\n",
       "0  On which platforms have you begun or completed...   \n",
       "1                                                NaN   \n",
       "\n",
       "                                           Q37_OTHER  \\\n",
       "0  On which platforms have you begun or completed...   \n",
       "1                                                NaN   \n",
       "\n",
       "                                                 Q38  \\\n",
       "0  What is the primary tool that you use at work ...   \n",
       "1  Basic statistical software (Microsoft Excel, G...   \n",
       "\n",
       "                                          Q39_Part_1  \\\n",
       "0  Who/what are your favorite media sources that ...   \n",
       "1                                                NaN   \n",
       "\n",
       "                                          Q39_Part_2  \\\n",
       "0  Who/what are your favorite media sources that ...   \n",
       "1                                                NaN   \n",
       "\n",
       "                                          Q39_Part_3  \\\n",
       "0  Who/what are your favorite media sources that ...   \n",
       "1                                                NaN   \n",
       "\n",
       "                                          Q39_Part_4  \\\n",
       "0  Who/what are your favorite media sources that ...   \n",
       "1                    Kaggle (notebooks, forums, etc)   \n",
       "\n",
       "                                          Q39_Part_5  \\\n",
       "0  Who/what are your favorite media sources that ...   \n",
       "1                                                NaN   \n",
       "\n",
       "                                          Q39_Part_6  \\\n",
       "0  Who/what are your favorite media sources that ...   \n",
       "1                                                NaN   \n",
       "\n",
       "                                          Q39_Part_7  \\\n",
       "0  Who/what are your favorite media sources that ...   \n",
       "1                                                NaN   \n",
       "\n",
       "                                          Q39_Part_8  \\\n",
       "0  Who/what are your favorite media sources that ...   \n",
       "1                                                NaN   \n",
       "\n",
       "                                          Q39_Part_9  \\\n",
       "0  Who/what are your favorite media sources that ...   \n",
       "1  Journal Publications (peer-reviewed journals, ...   \n",
       "\n",
       "                                         Q39_Part_10  \\\n",
       "0  Who/what are your favorite media sources that ...   \n",
       "1                                                NaN   \n",
       "\n",
       "                                         Q39_Part_11  \\\n",
       "0  Who/what are your favorite media sources that ...   \n",
       "1                                                NaN   \n",
       "\n",
       "                                           Q39_OTHER  \\\n",
       "0  Who/what are your favorite media sources that ...   \n",
       "1                                                NaN   \n",
       "\n",
       "                                        Q26_B_Part_1  \\\n",
       "0  Which of the following cloud computing platfor...   \n",
       "1                         Amazon Web Services (AWS)    \n",
       "\n",
       "                                        Q26_B_Part_2  \\\n",
       "0  Which of the following cloud computing platfor...   \n",
       "1                                   Microsoft Azure    \n",
       "\n",
       "                                        Q26_B_Part_3  \\\n",
       "0  Which of the following cloud computing platfor...   \n",
       "1                       Google Cloud Platform (GCP)    \n",
       "\n",
       "                                        Q26_B_Part_4  \\\n",
       "0  Which of the following cloud computing platfor...   \n",
       "1                               IBM Cloud / Red Hat    \n",
       "\n",
       "                                        Q26_B_Part_5  \\\n",
       "0  Which of the following cloud computing platfor...   \n",
       "1                                                NaN   \n",
       "\n",
       "                                        Q26_B_Part_6  \\\n",
       "0  Which of the following cloud computing platfor...   \n",
       "1                                         SAP Cloud    \n",
       "\n",
       "                                        Q26_B_Part_7  \\\n",
       "0  Which of the following cloud computing platfor...   \n",
       "1                                                NaN   \n",
       "\n",
       "                                        Q26_B_Part_8  \\\n",
       "0  Which of the following cloud computing platfor...   \n",
       "1                                                NaN   \n",
       "\n",
       "                                        Q26_B_Part_9  \\\n",
       "0  Which of the following cloud computing platfor...   \n",
       "1                                                NaN   \n",
       "\n",
       "                                       Q26_B_Part_10  \\\n",
       "0  Which of the following cloud computing platfor...   \n",
       "1                                                NaN   \n",
       "\n",
       "                                       Q26_B_Part_11  \\\n",
       "0  Which of the following cloud computing platfor...   \n",
       "1                                                NaN   \n",
       "\n",
       "                                         Q26_B_OTHER  \\\n",
       "0  Which of the following cloud computing platfor...   \n",
       "1                                                NaN   \n",
       "\n",
       "                                        Q27_B_Part_1  \\\n",
       "0  In the next 2 years, do you hope to become mor...   \n",
       "1                                                NaN   \n",
       "\n",
       "                                        Q27_B_Part_2  \\\n",
       "0  In the next 2 years, do you hope to become mor...   \n",
       "1                                                NaN   \n",
       "\n",
       "                                        Q27_B_Part_3  \\\n",
       "0  In the next 2 years, do you hope to become mor...   \n",
       "1                                                NaN   \n",
       "\n",
       "                                        Q27_B_Part_4  \\\n",
       "0  In the next 2 years, do you hope to become mor...   \n",
       "1                              Azure Cloud Services    \n",
       "\n",
       "                                        Q27_B_Part_5  \\\n",
       "0  In the next 2 years, do you hope to become mor...   \n",
       "1               Microsoft Azure Container Instances    \n",
       "\n",
       "                                        Q27_B_Part_6  \\\n",
       "0  In the next 2 years, do you hope to become mor...   \n",
       "1                                   Azure Functions    \n",
       "\n",
       "                                        Q27_B_Part_7  \\\n",
       "0  In the next 2 years, do you hope to become mor...   \n",
       "1                       Google Cloud Compute Engine    \n",
       "\n",
       "                                        Q27_B_Part_8  \\\n",
       "0  In the next 2 years, do you hope to become mor...   \n",
       "1                            Google Cloud Functions    \n",
       "\n",
       "                                        Q27_B_Part_9  \\\n",
       "0  In the next 2 years, do you hope to become mor...   \n",
       "1                                  Google Cloud Run    \n",
       "\n",
       "                                       Q27_B_Part_10  \\\n",
       "0  In the next 2 years, do you hope to become mor...   \n",
       "1                           Google Cloud App Engine    \n",
       "\n",
       "                                       Q27_B_Part_11  \\\n",
       "0  In the next 2 years, do you hope to become mor...   \n",
       "1                                                NaN   \n",
       "\n",
       "                                         Q27_B_OTHER  \\\n",
       "0  In the next 2 years, do you hope to become mor...   \n",
       "1                                                NaN   \n",
       "\n",
       "                                        Q28_B_Part_1  \\\n",
       "0  In the next 2 years, do you hope to become mor...   \n",
       "1                                  Amazon SageMaker    \n",
       "\n",
       "                                        Q28_B_Part_2  \\\n",
       "0  In the next 2 years, do you hope to become mor...   \n",
       "1                                   Amazon Forecast    \n",
       "\n",
       "                                        Q28_B_Part_3  \\\n",
       "0  In the next 2 years, do you hope to become mor...   \n",
       "1                                Amazon Rekognition    \n",
       "\n",
       "                                        Q28_B_Part_4  \\\n",
       "0  In the next 2 years, do you hope to become mor...   \n",
       "1                     Azure Machine Learning Studio    \n",
       "\n",
       "                                        Q28_B_Part_5  \\\n",
       "0  In the next 2 years, do you hope to become mor...   \n",
       "1                          Azure Cognitive Services    \n",
       "\n",
       "                                        Q28_B_Part_6  \\\n",
       "0  In the next 2 years, do you hope to become mor...   \n",
       "1   Google Cloud AI Platform / Google Cloud ML En...   \n",
       "\n",
       "                                        Q28_B_Part_7  \\\n",
       "0  In the next 2 years, do you hope to become mor...   \n",
       "1                             Google Cloud Video AI    \n",
       "\n",
       "                                        Q28_B_Part_8  \\\n",
       "0  In the next 2 years, do you hope to become mor...   \n",
       "1                     Google Cloud Natural Language    \n",
       "\n",
       "                                        Q28_B_Part_9  \\\n",
       "0  In the next 2 years, do you hope to become mor...   \n",
       "1                            Google Cloud Vision AI    \n",
       "\n",
       "                                       Q28_B_Part_10  \\\n",
       "0  In the next 2 years, do you hope to become mor...   \n",
       "1                                                NaN   \n",
       "\n",
       "                                         Q28_B_OTHER  \\\n",
       "0  In the next 2 years, do you hope to become mor...   \n",
       "1                                                NaN   \n",
       "\n",
       "                                        Q29_B_Part_1  \\\n",
       "0  Which of the following big data products (rela...   \n",
       "1                                                NaN   \n",
       "\n",
       "                                        Q29_B_Part_2  \\\n",
       "0  Which of the following big data products (rela...   \n",
       "1                                                NaN   \n",
       "\n",
       "                                        Q29_B_Part_3  \\\n",
       "0  Which of the following big data products (rela...   \n",
       "1                                                NaN   \n",
       "\n",
       "                                        Q29_B_Part_4  \\\n",
       "0  Which of the following big data products (rela...   \n",
       "1                                                NaN   \n",
       "\n",
       "                                        Q29_B_Part_5  \\\n",
       "0  Which of the following big data products (rela...   \n",
       "1                                           MongoDB    \n",
       "\n",
       "                                        Q29_B_Part_6  \\\n",
       "0  Which of the following big data products (rela...   \n",
       "1                                                NaN   \n",
       "\n",
       "                                        Q29_B_Part_7  \\\n",
       "0  Which of the following big data products (rela...   \n",
       "1                                                NaN   \n",
       "\n",
       "                                        Q29_B_Part_8  \\\n",
       "0  Which of the following big data products (rela...   \n",
       "1                              Microsoft SQL Server    \n",
       "\n",
       "                                        Q29_B_Part_9  \\\n",
       "0  Which of the following big data products (rela...   \n",
       "1                                                NaN   \n",
       "\n",
       "                                       Q29_B_Part_10  \\\n",
       "0  Which of the following big data products (rela...   \n",
       "1                                                NaN   \n",
       "\n",
       "                                       Q29_B_Part_11  \\\n",
       "0  Which of the following big data products (rela...   \n",
       "1                                                NaN   \n",
       "\n",
       "                                       Q29_B_Part_12  \\\n",
       "0  Which of the following big data products (rela...   \n",
       "1                                                NaN   \n",
       "\n",
       "                                       Q29_B_Part_13  \\\n",
       "0  Which of the following big data products (rela...   \n",
       "1                                                NaN   \n",
       "\n",
       "                                       Q29_B_Part_14  \\\n",
       "0  Which of the following big data products (rela...   \n",
       "1                             Google Cloud BigQuery    \n",
       "\n",
       "                                       Q29_B_Part_15  \\\n",
       "0  Which of the following big data products (rela...   \n",
       "1                                  Google Cloud SQL    \n",
       "\n",
       "                                       Q29_B_Part_16  \\\n",
       "0  Which of the following big data products (rela...   \n",
       "1                            Google Cloud Firestore    \n",
       "\n",
       "                                       Q29_B_Part_17  \\\n",
       "0  Which of the following big data products (rela...   \n",
       "1                                                NaN   \n",
       "\n",
       "                                         Q29_B_OTHER  \\\n",
       "0  Which of the following big data products (rela...   \n",
       "1                                                NaN   \n",
       "\n",
       "                                        Q31_B_Part_1  \\\n",
       "0  Which of the following business intelligence t...   \n",
       "1                                 Microsoft Power BI   \n",
       "\n",
       "                                        Q31_B_Part_2  \\\n",
       "0  Which of the following business intelligence t...   \n",
       "1                                  Amazon QuickSight   \n",
       "\n",
       "                                        Q31_B_Part_3  \\\n",
       "0  Which of the following business intelligence t...   \n",
       "1                                 Google Data Studio   \n",
       "\n",
       "                                        Q31_B_Part_4  \\\n",
       "0  Which of the following business intelligence t...   \n",
       "1                                                NaN   \n",
       "\n",
       "                                        Q31_B_Part_5  \\\n",
       "0  Which of the following business intelligence t...   \n",
       "1                                            Tableau   \n",
       "\n",
       "                                        Q31_B_Part_6  \\\n",
       "0  Which of the following business intelligence t...   \n",
       "1                                                NaN   \n",
       "\n",
       "                                        Q31_B_Part_7  \\\n",
       "0  Which of the following business intelligence t...   \n",
       "1                                                NaN   \n",
       "\n",
       "                                        Q31_B_Part_8  \\\n",
       "0  Which of the following business intelligence t...   \n",
       "1                                                NaN   \n",
       "\n",
       "                                        Q31_B_Part_9  \\\n",
       "0  Which of the following business intelligence t...   \n",
       "1                                                NaN   \n",
       "\n",
       "                                       Q31_B_Part_10  \\\n",
       "0  Which of the following business intelligence t...   \n",
       "1                                                NaN   \n",
       "\n",
       "                                       Q31_B_Part_11  \\\n",
       "0  Which of the following business intelligence t...   \n",
       "1                                                NaN   \n",
       "\n",
       "                                       Q31_B_Part_12  \\\n",
       "0  Which of the following business intelligence t...   \n",
       "1                                                NaN   \n",
       "\n",
       "                                       Q31_B_Part_13  \\\n",
       "0  Which of the following business intelligence t...   \n",
       "1                               SAP Analytics Cloud    \n",
       "\n",
       "                                       Q31_B_Part_14  \\\n",
       "0  Which of the following business intelligence t...   \n",
       "1                                                NaN   \n",
       "\n",
       "                                         Q31_B_OTHER  \\\n",
       "0  Which of the following business intelligence t...   \n",
       "1                                                NaN   \n",
       "\n",
       "                                        Q33_B_Part_1  \\\n",
       "0  Which categories of automated machine learning...   \n",
       "1  Automated data augmentation (e.g. imgaug, albu...   \n",
       "\n",
       "                                        Q33_B_Part_2  \\\n",
       "0  Which categories of automated machine learning...   \n",
       "1                                                NaN   \n",
       "\n",
       "                                        Q33_B_Part_3  \\\n",
       "0  Which categories of automated machine learning...   \n",
       "1                                                NaN   \n",
       "\n",
       "                                        Q33_B_Part_4  \\\n",
       "0  Which categories of automated machine learning...   \n",
       "1                                                NaN   \n",
       "\n",
       "                                        Q33_B_Part_5  \\\n",
       "0  Which categories of automated machine learning...   \n",
       "1  Automated hyperparameter tuning (e.g. hyperopt...   \n",
       "\n",
       "                                        Q33_B_Part_6  \\\n",
       "0  Which categories of automated machine learning...   \n",
       "1  Automation of full ML pipelines (e.g. Google C...   \n",
       "\n",
       "                                        Q33_B_Part_7  \\\n",
       "0  Which categories of automated machine learning...   \n",
       "1                                                NaN   \n",
       "\n",
       "                                         Q33_B_OTHER  \\\n",
       "0  Which categories of automated machine learning...   \n",
       "1                                                NaN   \n",
       "\n",
       "                                        Q34_B_Part_1  \\\n",
       "0  Which specific automated machine learning tool...   \n",
       "1                               Google Cloud AutoML    \n",
       "\n",
       "                                        Q34_B_Part_2  \\\n",
       "0  Which specific automated machine learning tool...   \n",
       "1                                                NaN   \n",
       "\n",
       "                                        Q34_B_Part_3  \\\n",
       "0  Which specific automated machine learning tool...   \n",
       "1                                 Databricks AutoML    \n",
       "\n",
       "                                        Q34_B_Part_4  \\\n",
       "0  Which specific automated machine learning tool...   \n",
       "1                                                NaN   \n",
       "\n",
       "                                        Q34_B_Part_5  \\\n",
       "0  Which specific automated machine learning tool...   \n",
       "1                                                NaN   \n",
       "\n",
       "                                        Q34_B_Part_6  \\\n",
       "0  Which specific automated machine learning tool...   \n",
       "1                                        Auto-Keras    \n",
       "\n",
       "                                        Q34_B_Part_7  \\\n",
       "0  Which specific automated machine learning tool...   \n",
       "1                                      Auto-Sklearn    \n",
       "\n",
       "                                        Q34_B_Part_8  \\\n",
       "0  Which specific automated machine learning tool...   \n",
       "1                                                NaN   \n",
       "\n",
       "                                        Q34_B_Part_9  \\\n",
       "0  Which specific automated machine learning tool...   \n",
       "1                                                NaN   \n",
       "\n",
       "                                       Q34_B_Part_10  \\\n",
       "0  Which specific automated machine learning tool...   \n",
       "1                                                NaN   \n",
       "\n",
       "                                       Q34_B_Part_11  \\\n",
       "0  Which specific automated machine learning tool...   \n",
       "1                                                NaN   \n",
       "\n",
       "                                         Q34_B_OTHER  \\\n",
       "0  Which specific automated machine learning tool...   \n",
       "1                                                NaN   \n",
       "\n",
       "                                        Q35_B_Part_1  \\\n",
       "0  In the next 2 years, do you hope to become mor...   \n",
       "1                                                NaN   \n",
       "\n",
       "                                        Q35_B_Part_2  \\\n",
       "0  In the next 2 years, do you hope to become mor...   \n",
       "1                                                NaN   \n",
       "\n",
       "                                        Q35_B_Part_3  \\\n",
       "0  In the next 2 years, do you hope to become mor...   \n",
       "1                                                NaN   \n",
       "\n",
       "                                        Q35_B_Part_4  \\\n",
       "0  In the next 2 years, do you hope to become mor...   \n",
       "1                                                NaN   \n",
       "\n",
       "                                        Q35_B_Part_5  \\\n",
       "0  In the next 2 years, do you hope to become mor...   \n",
       "1                                       TensorBoard    \n",
       "\n",
       "                                        Q35_B_Part_6  \\\n",
       "0  In the next 2 years, do you hope to become mor...   \n",
       "1                                                NaN   \n",
       "\n",
       "                                        Q35_B_Part_7  \\\n",
       "0  In the next 2 years, do you hope to become mor...   \n",
       "1                                                NaN   \n",
       "\n",
       "                                        Q35_B_Part_8  \\\n",
       "0  In the next 2 years, do you hope to become mor...   \n",
       "1                                                NaN   \n",
       "\n",
       "                                        Q35_B_Part_9  \\\n",
       "0  In the next 2 years, do you hope to become mor...   \n",
       "1                                                NaN   \n",
       "\n",
       "                                       Q35_B_Part_10  \\\n",
       "0  In the next 2 years, do you hope to become mor...   \n",
       "1                                                NaN   \n",
       "\n",
       "                                         Q35_B_OTHER  \n",
       "0  In the next 2 years, do you hope to become mor...  \n",
       "1                                                NaN  "
      ]
     },
     "execution_count": 4,
     "metadata": {},
     "output_type": "execute_result"
    }
   ],
   "source": [
    "# load the data\n",
    "data = pd.read_csv(\"kaggle_survey_2020_responses.csv\")\n",
    "response = data[1:]\n",
    "print('Total Number of Responses: ',response.shape[0])\n",
    "print(\"Number of columns in data:\",data.shape[1])\n",
    "print('\\nPreview of the data:')\n",
    "data.head(2)"
   ]
  },
  {
   "cell_type": "code",
   "execution_count": 22,
   "metadata": {},
   "outputs": [
    {
     "data": {
      "text/plain": [
       "{'Q1', 'Q2', 'Q3', 'Time from Start to Finish (seconds)'}"
      ]
     },
     "execution_count": 22,
     "metadata": {},
     "output_type": "execute_result"
    }
   ],
   "source": [
    "no_nulls = set(data.columns[data.isnull().mean()==0])#Provide a set of columns with 0 missing values.\n",
    "no_nulls"
   ]
  },
  {
   "cell_type": "code",
   "execution_count": 23,
   "metadata": {},
   "outputs": [
    {
     "data": {
      "text/plain": [
       "{'Q10_OTHER',\n",
       " 'Q10_Part_10',\n",
       " 'Q10_Part_11',\n",
       " 'Q10_Part_12',\n",
       " 'Q10_Part_3',\n",
       " 'Q10_Part_4',\n",
       " 'Q10_Part_5',\n",
       " 'Q10_Part_6',\n",
       " 'Q10_Part_7',\n",
       " 'Q10_Part_8',\n",
       " 'Q10_Part_9',\n",
       " 'Q12_OTHER',\n",
       " 'Q12_Part_2',\n",
       " 'Q14_OTHER',\n",
       " 'Q14_Part_10',\n",
       " 'Q14_Part_11',\n",
       " 'Q14_Part_3',\n",
       " 'Q14_Part_4',\n",
       " 'Q14_Part_5',\n",
       " 'Q14_Part_6',\n",
       " 'Q14_Part_7',\n",
       " 'Q14_Part_8',\n",
       " 'Q14_Part_9',\n",
       " 'Q16_OTHER',\n",
       " 'Q16_Part_10',\n",
       " 'Q16_Part_11',\n",
       " 'Q16_Part_12',\n",
       " 'Q16_Part_13',\n",
       " 'Q16_Part_14',\n",
       " 'Q16_Part_15',\n",
       " 'Q16_Part_4',\n",
       " 'Q16_Part_5',\n",
       " 'Q16_Part_6',\n",
       " 'Q16_Part_7',\n",
       " 'Q16_Part_8',\n",
       " 'Q16_Part_9',\n",
       " 'Q17_OTHER',\n",
       " 'Q17_Part_10',\n",
       " 'Q17_Part_11',\n",
       " 'Q17_Part_4',\n",
       " 'Q17_Part_5',\n",
       " 'Q17_Part_6',\n",
       " 'Q17_Part_8',\n",
       " 'Q17_Part_9',\n",
       " 'Q18_OTHER',\n",
       " 'Q18_Part_1',\n",
       " 'Q18_Part_2',\n",
       " 'Q18_Part_3',\n",
       " 'Q18_Part_4',\n",
       " 'Q18_Part_5',\n",
       " 'Q18_Part_6',\n",
       " 'Q19_OTHER',\n",
       " 'Q19_Part_1',\n",
       " 'Q19_Part_2',\n",
       " 'Q19_Part_3',\n",
       " 'Q19_Part_4',\n",
       " 'Q19_Part_5',\n",
       " 'Q23_OTHER',\n",
       " 'Q23_Part_2',\n",
       " 'Q23_Part_3',\n",
       " 'Q23_Part_4',\n",
       " 'Q23_Part_5',\n",
       " 'Q23_Part_6',\n",
       " 'Q23_Part_7',\n",
       " 'Q26_A_OTHER',\n",
       " 'Q26_A_Part_1',\n",
       " 'Q26_A_Part_10',\n",
       " 'Q26_A_Part_11',\n",
       " 'Q26_A_Part_2',\n",
       " 'Q26_A_Part_3',\n",
       " 'Q26_A_Part_4',\n",
       " 'Q26_A_Part_5',\n",
       " 'Q26_A_Part_6',\n",
       " 'Q26_A_Part_7',\n",
       " 'Q26_A_Part_8',\n",
       " 'Q26_A_Part_9',\n",
       " 'Q26_B_OTHER',\n",
       " 'Q26_B_Part_10',\n",
       " 'Q26_B_Part_11',\n",
       " 'Q26_B_Part_2',\n",
       " 'Q26_B_Part_4',\n",
       " 'Q26_B_Part_5',\n",
       " 'Q26_B_Part_6',\n",
       " 'Q26_B_Part_7',\n",
       " 'Q26_B_Part_8',\n",
       " 'Q26_B_Part_9',\n",
       " 'Q27_A_OTHER',\n",
       " 'Q27_A_Part_1',\n",
       " 'Q27_A_Part_10',\n",
       " 'Q27_A_Part_11',\n",
       " 'Q27_A_Part_2',\n",
       " 'Q27_A_Part_3',\n",
       " 'Q27_A_Part_4',\n",
       " 'Q27_A_Part_5',\n",
       " 'Q27_A_Part_6',\n",
       " 'Q27_A_Part_7',\n",
       " 'Q27_A_Part_8',\n",
       " 'Q27_A_Part_9',\n",
       " 'Q27_B_OTHER',\n",
       " 'Q27_B_Part_1',\n",
       " 'Q27_B_Part_10',\n",
       " 'Q27_B_Part_11',\n",
       " 'Q27_B_Part_2',\n",
       " 'Q27_B_Part_3',\n",
       " 'Q27_B_Part_4',\n",
       " 'Q27_B_Part_5',\n",
       " 'Q27_B_Part_6',\n",
       " 'Q27_B_Part_7',\n",
       " 'Q27_B_Part_8',\n",
       " 'Q27_B_Part_9',\n",
       " 'Q28_A_OTHER',\n",
       " 'Q28_A_Part_1',\n",
       " 'Q28_A_Part_10',\n",
       " 'Q28_A_Part_2',\n",
       " 'Q28_A_Part_3',\n",
       " 'Q28_A_Part_4',\n",
       " 'Q28_A_Part_5',\n",
       " 'Q28_A_Part_6',\n",
       " 'Q28_A_Part_7',\n",
       " 'Q28_A_Part_8',\n",
       " 'Q28_A_Part_9',\n",
       " 'Q28_B_OTHER',\n",
       " 'Q28_B_Part_1',\n",
       " 'Q28_B_Part_10',\n",
       " 'Q28_B_Part_2',\n",
       " 'Q28_B_Part_3',\n",
       " 'Q28_B_Part_4',\n",
       " 'Q28_B_Part_5',\n",
       " 'Q28_B_Part_6',\n",
       " 'Q28_B_Part_7',\n",
       " 'Q28_B_Part_8',\n",
       " 'Q28_B_Part_9',\n",
       " 'Q29_A_OTHER',\n",
       " 'Q29_A_Part_1',\n",
       " 'Q29_A_Part_10',\n",
       " 'Q29_A_Part_11',\n",
       " 'Q29_A_Part_12',\n",
       " 'Q29_A_Part_13',\n",
       " 'Q29_A_Part_14',\n",
       " 'Q29_A_Part_15',\n",
       " 'Q29_A_Part_16',\n",
       " 'Q29_A_Part_17',\n",
       " 'Q29_A_Part_2',\n",
       " 'Q29_A_Part_3',\n",
       " 'Q29_A_Part_4',\n",
       " 'Q29_A_Part_5',\n",
       " 'Q29_A_Part_6',\n",
       " 'Q29_A_Part_7',\n",
       " 'Q29_A_Part_8',\n",
       " 'Q29_A_Part_9',\n",
       " 'Q29_B_OTHER',\n",
       " 'Q29_B_Part_1',\n",
       " 'Q29_B_Part_10',\n",
       " 'Q29_B_Part_11',\n",
       " 'Q29_B_Part_12',\n",
       " 'Q29_B_Part_13',\n",
       " 'Q29_B_Part_14',\n",
       " 'Q29_B_Part_15',\n",
       " 'Q29_B_Part_16',\n",
       " 'Q29_B_Part_17',\n",
       " 'Q29_B_Part_2',\n",
       " 'Q29_B_Part_3',\n",
       " 'Q29_B_Part_4',\n",
       " 'Q29_B_Part_5',\n",
       " 'Q29_B_Part_6',\n",
       " 'Q29_B_Part_7',\n",
       " 'Q29_B_Part_8',\n",
       " 'Q29_B_Part_9',\n",
       " 'Q30',\n",
       " 'Q31_A_OTHER',\n",
       " 'Q31_A_Part_1',\n",
       " 'Q31_A_Part_10',\n",
       " 'Q31_A_Part_11',\n",
       " 'Q31_A_Part_12',\n",
       " 'Q31_A_Part_13',\n",
       " 'Q31_A_Part_14',\n",
       " 'Q31_A_Part_2',\n",
       " 'Q31_A_Part_3',\n",
       " 'Q31_A_Part_4',\n",
       " 'Q31_A_Part_5',\n",
       " 'Q31_A_Part_6',\n",
       " 'Q31_A_Part_7',\n",
       " 'Q31_A_Part_8',\n",
       " 'Q31_A_Part_9',\n",
       " 'Q31_B_OTHER',\n",
       " 'Q31_B_Part_1',\n",
       " 'Q31_B_Part_10',\n",
       " 'Q31_B_Part_11',\n",
       " 'Q31_B_Part_12',\n",
       " 'Q31_B_Part_13',\n",
       " 'Q31_B_Part_14',\n",
       " 'Q31_B_Part_2',\n",
       " 'Q31_B_Part_3',\n",
       " 'Q31_B_Part_4',\n",
       " 'Q31_B_Part_5',\n",
       " 'Q31_B_Part_6',\n",
       " 'Q31_B_Part_7',\n",
       " 'Q31_B_Part_8',\n",
       " 'Q31_B_Part_9',\n",
       " 'Q32',\n",
       " 'Q33_A_OTHER',\n",
       " 'Q33_A_Part_1',\n",
       " 'Q33_A_Part_2',\n",
       " 'Q33_A_Part_3',\n",
       " 'Q33_A_Part_4',\n",
       " 'Q33_A_Part_5',\n",
       " 'Q33_A_Part_6',\n",
       " 'Q33_A_Part_7',\n",
       " 'Q33_B_OTHER',\n",
       " 'Q33_B_Part_1',\n",
       " 'Q33_B_Part_2',\n",
       " 'Q33_B_Part_3',\n",
       " 'Q33_B_Part_4',\n",
       " 'Q33_B_Part_5',\n",
       " 'Q33_B_Part_6',\n",
       " 'Q33_B_Part_7',\n",
       " 'Q34_A_OTHER',\n",
       " 'Q34_A_Part_1',\n",
       " 'Q34_A_Part_10',\n",
       " 'Q34_A_Part_11',\n",
       " 'Q34_A_Part_2',\n",
       " 'Q34_A_Part_3',\n",
       " 'Q34_A_Part_4',\n",
       " 'Q34_A_Part_5',\n",
       " 'Q34_A_Part_6',\n",
       " 'Q34_A_Part_7',\n",
       " 'Q34_A_Part_8',\n",
       " 'Q34_A_Part_9',\n",
       " 'Q34_B_OTHER',\n",
       " 'Q34_B_Part_1',\n",
       " 'Q34_B_Part_10',\n",
       " 'Q34_B_Part_11',\n",
       " 'Q34_B_Part_2',\n",
       " 'Q34_B_Part_3',\n",
       " 'Q34_B_Part_4',\n",
       " 'Q34_B_Part_5',\n",
       " 'Q34_B_Part_6',\n",
       " 'Q34_B_Part_7',\n",
       " 'Q34_B_Part_8',\n",
       " 'Q34_B_Part_9',\n",
       " 'Q35_A_OTHER',\n",
       " 'Q35_A_Part_1',\n",
       " 'Q35_A_Part_10',\n",
       " 'Q35_A_Part_2',\n",
       " 'Q35_A_Part_3',\n",
       " 'Q35_A_Part_4',\n",
       " 'Q35_A_Part_5',\n",
       " 'Q35_A_Part_6',\n",
       " 'Q35_A_Part_7',\n",
       " 'Q35_A_Part_8',\n",
       " 'Q35_A_Part_9',\n",
       " 'Q35_B_OTHER',\n",
       " 'Q35_B_Part_1',\n",
       " 'Q35_B_Part_10',\n",
       " 'Q35_B_Part_2',\n",
       " 'Q35_B_Part_3',\n",
       " 'Q35_B_Part_4',\n",
       " 'Q35_B_Part_5',\n",
       " 'Q35_B_Part_6',\n",
       " 'Q35_B_Part_7',\n",
       " 'Q35_B_Part_8',\n",
       " 'Q35_B_Part_9',\n",
       " 'Q36_OTHER',\n",
       " 'Q36_Part_1',\n",
       " 'Q36_Part_2',\n",
       " 'Q36_Part_3',\n",
       " 'Q36_Part_4',\n",
       " 'Q36_Part_5',\n",
       " 'Q36_Part_6',\n",
       " 'Q36_Part_7',\n",
       " 'Q36_Part_8',\n",
       " 'Q36_Part_9',\n",
       " 'Q37_OTHER',\n",
       " 'Q37_Part_10',\n",
       " 'Q37_Part_11',\n",
       " 'Q37_Part_2',\n",
       " 'Q37_Part_3',\n",
       " 'Q37_Part_4',\n",
       " 'Q37_Part_5',\n",
       " 'Q37_Part_6',\n",
       " 'Q37_Part_7',\n",
       " 'Q37_Part_8',\n",
       " 'Q37_Part_9',\n",
       " 'Q39_OTHER',\n",
       " 'Q39_Part_1',\n",
       " 'Q39_Part_10',\n",
       " 'Q39_Part_11',\n",
       " 'Q39_Part_2',\n",
       " 'Q39_Part_3',\n",
       " 'Q39_Part_5',\n",
       " 'Q39_Part_7',\n",
       " 'Q39_Part_9',\n",
       " 'Q7_OTHER',\n",
       " 'Q7_Part_10',\n",
       " 'Q7_Part_11',\n",
       " 'Q7_Part_12',\n",
       " 'Q7_Part_2',\n",
       " 'Q7_Part_4',\n",
       " 'Q7_Part_5',\n",
       " 'Q7_Part_6',\n",
       " 'Q7_Part_7',\n",
       " 'Q7_Part_8',\n",
       " 'Q7_Part_9',\n",
       " 'Q9_OTHER',\n",
       " 'Q9_Part_10',\n",
       " 'Q9_Part_11',\n",
       " 'Q9_Part_2',\n",
       " 'Q9_Part_3',\n",
       " 'Q9_Part_6',\n",
       " 'Q9_Part_7',\n",
       " 'Q9_Part_8',\n",
       " 'Q9_Part_9'}"
      ]
     },
     "execution_count": 23,
     "metadata": {},
     "output_type": "execute_result"
    }
   ],
   "source": [
    "most_missing_cols = set(data.columns[data.isnull().mean() > 0.75])#Provide a set of columns with more than 75% of the values missing\n",
    "most_missing_cols"
   ]
  },
  {
   "cell_type": "markdown",
   "metadata": {},
   "source": [
    "### Country respondents currently reside"
   ]
  },
  {
   "cell_type": "code",
   "execution_count": 25,
   "metadata": {},
   "outputs": [],
   "source": [
    "percents_country = np.round((data['Q3'].value_counts()/ data['Q3'].count()*100), decimals=2).sort_index()      "
   ]
  },
  {
   "cell_type": "code",
   "execution_count": 14,
   "metadata": {},
   "outputs": [
    {
     "data": {
      "image/png": "[encoded data removed]",
      "text/plain": [
       "<Figure size 1080x576 with 1 Axes>"
      ]
     },
     "metadata": {
      "needs_background": "light"
     },
     "output_type": "display_data"
    }
   ],
   "source": [
    "plt.figure(figsize=(15,8))\n",
    "data1 = pd.DataFrame(data.iloc[1:]['Q3'].value_counts().sort_values(ascending=False)).reset_index().head(20)\n",
    "vis1 = sns.barplot(data1['index'], data1.Q3, palette='winter')\n",
    "plt.xlabel('Top countries', fontsize=15)\n",
    "plt.ylabel('# of respondents', fontsize=15)\n",
    "plt.xticks(rotation=80)\n",
    "plt.title('Total number of responses per country', fontsize=15)\n",
    "\n",
    "for p in vis3.patches:\n",
    "    vis3.annotate(format(p.get_height(), '.0f'), (p.get_x() + p.get_width() / 2., p.get_height()), \n",
    "               ha = 'center', va = 'center', xytext = (0, 10), textcoords = 'offset points')\n",
    "    \n",
    "    "
   ]
  },
  {
   "cell_type": "markdown",
   "metadata": {},
   "source": [
    "### Age distribution"
   ]
  },
  {
   "cell_type": "markdown",
   "metadata": {},
   "source": [
    "India has most representation in the Kaggle community followed by USA."
   ]
  },
  {
   "cell_type": "code",
   "execution_count": 17,
   "metadata": {},
   "outputs": [
    {
     "data": {
      "image/png": "[encoded data removed]",
      "text/plain": [
       "<Figure size 1080x576 with 1 Axes>"
      ]
     },
     "metadata": {
      "needs_background": "light"
     },
     "output_type": "display_data"
    }
   ],
   "source": [
    "plt.figure(figsize=(15,8))\n",
    "vis1 = sns.countplot(data['Q1'].iloc[1:].sort_values(ascending=True), palette='winter')\n",
    "plt.xlabel('Age', fontsize=15)\n",
    "plt.ylabel('# of respondents', fontsize=15)\n",
    "plt.xticks(rotation=0, size=13)\n",
    "plt.title('Age distribution', fontsize=15)\n",
    "\n",
    "for p in vis1.patches:\n",
    "    vis1.annotate(format(p.get_height(), '.0f'), (p.get_x() + p.get_width() / 2., p.get_height()), \n",
    "               ha = 'center', va = 'center', xytext = (0, 10), textcoords = 'offset points')"
   ]
  },
  {
   "cell_type": "markdown",
   "metadata": {},
   "source": [
    "Majority of Kagglers are below the age of 39, but there are also older member of the community. This shows that kagglers are for everyone, no matter what age."
   ]
  },
  {
   "cell_type": "markdown",
   "metadata": {},
   "source": [
    "### Gender of respondents"
   ]
  },
  {
   "cell_type": "code",
   "execution_count": 29,
   "metadata": {},
   "outputs": [
    {
     "data": {
      "image/png": "[encoded data removed]",
      "text/plain": [
       "<Figure size 1080x576 with 1 Axes>"
      ]
     },
     "metadata": {
      "needs_background": "light"
     },
     "output_type": "display_data"
    }
   ],
   "source": [
    "plt.figure(figsize=(15,8))\n",
    "vis2 = sns.countplot(data['Q2'].iloc[1:].sort_values(ascending=True), palette='winter')\n",
    "plt.xlabel('Gender', fontsize=15)\n",
    "plt.ylabel('# of respondents', fontsize=15)\n",
    "plt.xticks(rotation=0, size=13)\n",
    "plt.title('Gender distribution', fontsize=15)\n",
    "\n",
    "for p in vis2.patches:\n",
    "    vis2.annotate(format(p.get_height(), '.0f'), (p.get_x() + p.get_width() / 2., p.get_height()), \n",
    "               ha = 'center', va = 'center', xytext = (0, 10), textcoords = 'offset points') "
   ]
  },
  {
   "cell_type": "code",
   "execution_count": 72,
   "metadata": {},
   "outputs": [
    {
     "name": "stdout",
     "output_type": "stream",
     "text": [
      "Percentage of female: 20.00 %\n",
      "Percentage of male: 80.00 %\n"
     ]
    }
   ],
   "source": [
    "dfFilterGender = data.query('Q2 in [\"Man\",\"Woman\"]').reset_index(drop=True)\n",
    "print('Percentage of female: {:.2f} %' .format(np.round(dfFilterGender['Q2'].value_counts()[1] / dfFilterGender['Q2'].count()*100)))\n",
    "print('Percentage of male: {:.2f} %' .format(np.round(dfFilterGender['Q2'].value_counts()[0] / dfFilterGender['Q2'].count()*100)))"
   ]
  },
  {
   "cell_type": "markdown",
   "metadata": {},
   "source": [
    "Vast majority of kagglers are men with 80% and only 20% of kagglers are represented by women."
   ]
  },
  {
   "cell_type": "markdown",
   "metadata": {},
   "source": [
    "### Highest level of formal education that you have attained or plan to attain within the next 2 years"
   ]
  },
  {
   "cell_type": "code",
   "execution_count": 76,
   "metadata": {},
   "outputs": [
    {
     "data": {
      "text/plain": [
       "Text(0.5, 1.0, 'Highest level of Education')"
      ]
     },
     "execution_count": 76,
     "metadata": {},
     "output_type": "execute_result"
    },
    {
     "data": {
      "image/png": "[encoded data removed]",
      "text/plain": [
       "<Figure size 1080x576 with 1 Axes>"
      ]
     },
     "metadata": {
      "needs_background": "light"
     },
     "output_type": "display_data"
    }
   ],
   "source": [
    "data2 = pd.DataFrame(data.iloc[1:]['Q4'].value_counts().sort_values(ascending=False)).reset_index().head(25)\n",
    "data2.head()\n",
    "plt.figure(figsize=(15,8))\n",
    "vis4 = sns.barplot(y=data2['index'], x=data2.Q4, palette='winter')\n",
    "plt.xlabel('Count', fontsize=15)\n",
    "plt.ylabel('', fontsize=15)\n",
    "plt.xticks(rotation=0, fontsize=13)\n",
    "plt.yticks(rotation=0, fontsize=15)\n",
    "plt.title('Highest level of Education', fontsize=20)"
   ]
  },
  {
   "cell_type": "markdown",
   "metadata": {},
   "source": [
    "Majority of kagglers who answered the survey has a bachelor degree or above. "
   ]
  },
  {
   "cell_type": "markdown",
   "metadata": {},
   "source": [
    "### Title most similar to current role (or most recent title if retired)"
   ]
  },
  {
   "cell_type": "code",
   "execution_count": 77,
   "metadata": {},
   "outputs": [
    {
     "data": {
      "text/plain": [
       "Text(0.5, 1.0, 'Current Role of Kaggle users')"
      ]
     },
     "execution_count": 77,
     "metadata": {},
     "output_type": "execute_result"
    },
    {
     "data": {
      "image/png": "[encoded data removed]",
      "text/plain": [
       "<Figure size 1080x576 with 1 Axes>"
      ]
     },
     "metadata": {
      "needs_background": "light"
     },
     "output_type": "display_data"
    }
   ],
   "source": [
    "data3 = pd.DataFrame(data.iloc[1:]['Q5'].value_counts().sort_values(ascending=False)).reset_index().head(25)\n",
    "plt.figure(figsize=(15,8))\n",
    "sns.barplot(y=data3['index'], x=data3.Q5, palette='winter')\n",
    "plt.xlabel('Count', fontsize=15)\n",
    "plt.ylabel('', fontsize=15)\n",
    "plt.xticks(rotation=0, fontsize=13)\n",
    "plt.yticks(rotation=0, fontsize=15)\n",
    "plt.title('Current Role of Kaggle users', fontsize=20)"
   ]
  },
  {
   "cell_type": "markdown",
   "metadata": {},
   "source": [
    "The most current role of the respondents were students followed by data scientist."
   ]
  },
  {
   "cell_type": "markdown",
   "metadata": {},
   "source": [
    "### Years of experience of using machine learning methods"
   ]
  },
  {
   "cell_type": "code",
   "execution_count": 171,
   "metadata": {},
   "outputs": [],
   "source": [
    "data11 = pd.DataFrame(data['Q15']).reset_index()\n",
    "data11.drop('index', axis=1, inplace=True)\n",
    "\n",
    "data111 =pd.DataFrame(pd.value_counts(data11.values.flatten())).reset_index()\n",
    "data111.columns = ['A', 'B']"
   ]
  },
  {
   "cell_type": "code",
   "execution_count": 172,
   "metadata": {},
   "outputs": [
    {
     "data": {
      "image/png": "[encoded data removed]",
      "text/plain": [
       "<Figure size 1080x576 with 1 Axes>"
      ]
     },
     "metadata": {
      "needs_background": "light"
     },
     "output_type": "display_data"
    }
   ],
   "source": [
    "plt.figure(figsize=(15,8))\n",
    "vis11 = sns.barplot(data=data111, x='A', y='B', palette='winter')\n",
    "plt.xlabel('# of years', fontsize=15)\n",
    "plt.ylabel('Count', fontsize=15)\n",
    "plt.xticks(rotation=80)\n",
    "plt.title('Experience with ML methods', fontsize=15)\n",
    "\n",
    "for p in vis11.patches:\n",
    "    vis11.annotate(format(p.get_height(), '.0f'), (p.get_x() + p.get_width() / 2., p.get_height()), \n",
    "               ha = 'center', va = 'center', xytext = (0, 10), textcoords = 'offset points')"
   ]
  },
  {
   "cell_type": "markdown",
   "metadata": {},
   "source": [
    "###  Programming languages used on a regular basis"
   ]
  },
  {
   "cell_type": "code",
   "execution_count": 114,
   "metadata": {},
   "outputs": [
    {
     "name": "stderr",
     "output_type": "stream",
     "text": [
      "c:\\users\\fbhug\\appdata\\local\\programs\\python\\python37-32\\lib\\site-packages\\pandas\\core\\frame.py:4133: SettingWithCopyWarning:\n",
      "\n",
      "\n",
      "A value is trying to be set on a copy of a slice from a DataFrame\n",
      "\n",
      "See the caveats in the documentation: https://pandas.pydata.org/pandas-docs/stable/user_guide/indexing.html#returning-a-view-versus-a-copy\n",
      "\n"
     ]
    }
   ],
   "source": [
    "# rename columns programming languages Time em seconds\n",
    "df.rename({'Time from Start to Finish (seconds)':'Time',\n",
    "               'Q7_Part_1':'PYTHON', \n",
    "               'Q7_Part_2':'R',\n",
    "               'Q7_Part_3':'SQL',\n",
    "               'Q7_Part_4':'C',\n",
    "               'Q7_Part_5':'C++',\n",
    "               'Q7_Part_6':'JAVA',\n",
    "               'Q7_Part_7':'JAVASCRIPT',\n",
    "               'Q7_Part_8':'JULIA',\n",
    "               'Q7_Part_9':'SWIFT',\n",
    "               'Q7_Part_10':'BASH',\n",
    "               'Q7_Part_11':'MATLAB',\n",
    "               'Q7_Part_12':'NONE',\n",
    "               'Q7_OTHER'  :'OTHER'}, \n",
    "              axis = 1, inplace = True) "
   ]
  },
  {
   "cell_type": "code",
   "execution_count": 118,
   "metadata": {},
   "outputs": [
    {
     "data": {
      "application/vnd.plotly.v1+json": {
       "config": {
        "plotlyServerURL": "https://plot.ly"
       },
       "data": [
        {
         "branchvalues": "total",
         "domain": {
          "x": [
           0,
           1
          ],
          "y": [
           0,
           1
          ]
         },
         "hovertemplate": "labels=%{label}<br>Percent=%{value}<br>parent=%{parent}<br>id=%{id}<extra></extra>",
         "ids": [
          "Business Analyst/BASH",
          "DBA/Database Engineer/BASH",
          "Data Analyst/BASH",
          "Data Engineer/BASH",
          "Data Scientist/BASH",
          "Machine Learning Engineer/BASH",
          "Product/Project Manager/BASH",
          "Research Scientist/BASH",
          "Software Engineer/BASH",
          "Statistician/BASH",
          "Business Analyst/C",
          "DBA/Database Engineer/C",
          "Data Analyst/C",
          "Data Engineer/C",
          "Data Scientist/C",
          "Machine Learning Engineer/C",
          "Product/Project Manager/C",
          "Research Scientist/C",
          "Software Engineer/C",
          "Statistician/C",
          "Business Analyst/C++",
          "DBA/Database Engineer/C++",
          "Data Analyst/C++",
          "Data Engineer/C++",
          "Data Scientist/C++",
          "Machine Learning Engineer/C++",
          "Product/Project Manager/C++",
          "Research Scientist/C++",
          "Software Engineer/C++",
          "Statistician/C++",
          "Business Analyst/JAVA",
          "DBA/Database Engineer/JAVA",
          "Data Analyst/JAVA",
          "Data Engineer/JAVA",
          "Data Scientist/JAVA",
          "Machine Learning Engineer/JAVA",
          "Product/Project Manager/JAVA",
          "Research Scientist/JAVA",
          "Software Engineer/JAVA",
          "Statistician/JAVA",
          "Business Analyst/JAVASCRIPT",
          "DBA/Database Engineer/JAVASCRIPT",
          "Data Analyst/JAVASCRIPT",
          "Data Engineer/JAVASCRIPT",
          "Data Scientist/JAVASCRIPT",
          "Machine Learning Engineer/JAVASCRIPT",
          "Product/Project Manager/JAVASCRIPT",
          "Research Scientist/JAVASCRIPT",
          "Software Engineer/JAVASCRIPT",
          "Statistician/JAVASCRIPT",
          "Business Analyst/JULIA",
          "DBA/Database Engineer/JULIA",
          "Data Analyst/JULIA",
          "Data Engineer/JULIA",
          "Data Scientist/JULIA",
          "Machine Learning Engineer/JULIA",
          "Product/Project Manager/JULIA",
          "Research Scientist/JULIA",
          "Software Engineer/JULIA",
          "Statistician/JULIA",
          "Business Analyst/MATLAB",
          "DBA/Database Engineer/MATLAB",
          "Data Analyst/MATLAB",
          "Data Engineer/MATLAB",
          "Data Scientist/MATLAB",
          "Machine Learning Engineer/MATLAB",
          "Product/Project Manager/MATLAB",
          "Research Scientist/MATLAB",
          "Software Engineer/MATLAB",
          "Statistician/MATLAB",
          "Business Analyst/PYTHON",
          "DBA/Database Engineer/PYTHON",
          "Data Analyst/PYTHON",
          "Data Engineer/PYTHON",
          "Data Scientist/PYTHON",
          "Machine Learning Engineer/PYTHON",
          "Product/Project Manager/PYTHON",
          "Research Scientist/PYTHON",
          "Software Engineer/PYTHON",
          "Statistician/PYTHON",
          "Business Analyst/R",
          "DBA/Database Engineer/R",
          "Data Analyst/R",
          "Data Engineer/R",
          "Data Scientist/R",
          "Machine Learning Engineer/R",
          "Product/Project Manager/R",
          "Research Scientist/R",
          "Software Engineer/R",
          "Statistician/R",
          "Business Analyst/SQL",
          "DBA/Database Engineer/SQL",
          "Data Analyst/SQL",
          "Data Engineer/SQL",
          "Data Scientist/SQL",
          "Machine Learning Engineer/SQL",
          "Product/Project Manager/SQL",
          "Research Scientist/SQL",
          "Software Engineer/SQL",
          "Statistician/SQL",
          "Business Analyst/SWIFT",
          "DBA/Database Engineer/SWIFT",
          "Data Analyst/SWIFT",
          "Data Engineer/SWIFT",
          "Data Scientist/SWIFT",
          "Machine Learning Engineer/SWIFT",
          "Product/Project Manager/SWIFT",
          "Research Scientist/SWIFT",
          "Software Engineer/SWIFT",
          "Statistician/SWIFT",
          "Business Analyst",
          "DBA/Database Engineer",
          "Data Analyst",
          "Data Engineer",
          "Data Scientist",
          "Machine Learning Engineer",
          "Product/Project Manager",
          "Research Scientist",
          "Software Engineer",
          "Statistician"
         ],
         "labels": [
          "BASH",
          "BASH",
          "BASH",
          "BASH",
          "BASH",
          "BASH",
          "BASH",
          "BASH",
          "BASH",
          "BASH",
          "C",
          "C",
          "C",
          "C",
          "C",
          "C",
          "C",
          "C",
          "C",
          "C",
          "C++",
          "C++",
          "C++",
          "C++",
          "C++",
          "C++",
          "C++",
          "C++",
          "C++",
          "C++",
          "JAVA",
          "JAVA",
          "JAVA",
          "JAVA",
          "JAVA",
          "JAVA",
          "JAVA",
          "JAVA",
          "JAVA",
          "JAVA",
          "JAVASCRIPT",
          "JAVASCRIPT",
          "JAVASCRIPT",
          "JAVASCRIPT",
          "JAVASCRIPT",
          "JAVASCRIPT",
          "JAVASCRIPT",
          "JAVASCRIPT",
          "JAVASCRIPT",
          "JAVASCRIPT",
          "JULIA",
          "JULIA",
          "JULIA",
          "JULIA",
          "JULIA",
          "JULIA",
          "JULIA",
          "JULIA",
          "JULIA",
          "JULIA",
          "MATLAB",
          "MATLAB",
          "MATLAB",
          "MATLAB",
          "MATLAB",
          "MATLAB",
          "MATLAB",
          "MATLAB",
          "MATLAB",
          "MATLAB",
          "PYTHON",
          "PYTHON",
          "PYTHON",
          "PYTHON",
          "PYTHON",
          "PYTHON",
          "PYTHON",
          "PYTHON",
          "PYTHON",
          "PYTHON",
          "R",
          "R",
          "R",
          "R",
          "R",
          "R",
          "R",
          "R",
          "R",
          "R",
          "SQL",
          "SQL",
          "SQL",
          "SQL",
          "SQL",
          "SQL",
          "SQL",
          "SQL",
          "SQL",
          "SQL",
          "SWIFT",
          "SWIFT",
          "SWIFT",
          "SWIFT",
          "SWIFT",
          "SWIFT",
          "SWIFT",
          "SWIFT",
          "SWIFT",
          "SWIFT",
          "Business Analyst",
          "DBA/Database Engineer",
          "Data Analyst",
          "Data Engineer",
          "Data Scientist",
          "Machine Learning Engineer",
          "Product/Project Manager",
          "Research Scientist",
          "Software Engineer",
          "Statistician"
         ],
         "name": "",
         "opacity": 0.8,
         "parents": [
          "Business Analyst",
          "DBA/Database Engineer",
          "Data Analyst",
          "Data Engineer",
          "Data Scientist",
          "Machine Learning Engineer",
          "Product/Project Manager",
          "Research Scientist",
          "Software Engineer",
          "Statistician",
          "Business Analyst",
          "DBA/Database Engineer",
          "Data Analyst",
          "Data Engineer",
          "Data Scientist",
          "Machine Learning Engineer",
          "Product/Project Manager",
          "Research Scientist",
          "Software Engineer",
          "Statistician",
          "Business Analyst",
          "DBA/Database Engineer",
          "Data Analyst",
          "Data Engineer",
          "Data Scientist",
          "Machine Learning Engineer",
          "Product/Project Manager",
          "Research Scientist",
          "Software Engineer",
          "Statistician",
          "Business Analyst",
          "DBA/Database Engineer",
          "Data Analyst",
          "Data Engineer",
          "Data Scientist",
          "Machine Learning Engineer",
          "Product/Project Manager",
          "Research Scientist",
          "Software Engineer",
          "Statistician",
          "Business Analyst",
          "DBA/Database Engineer",
          "Data Analyst",
          "Data Engineer",
          "Data Scientist",
          "Machine Learning Engineer",
          "Product/Project Manager",
          "Research Scientist",
          "Software Engineer",
          "Statistician",
          "Business Analyst",
          "DBA/Database Engineer",
          "Data Analyst",
          "Data Engineer",
          "Data Scientist",
          "Machine Learning Engineer",
          "Product/Project Manager",
          "Research Scientist",
          "Software Engineer",
          "Statistician",
          "Business Analyst",
          "DBA/Database Engineer",
          "Data Analyst",
          "Data Engineer",
          "Data Scientist",
          "Machine Learning Engineer",
          "Product/Project Manager",
          "Research Scientist",
          "Software Engineer",
          "Statistician",
          "Business Analyst",
          "DBA/Database Engineer",
          "Data Analyst",
          "Data Engineer",
          "Data Scientist",
          "Machine Learning Engineer",
          "Product/Project Manager",
          "Research Scientist",
          "Software Engineer",
          "Statistician",
          "Business Analyst",
          "DBA/Database Engineer",
          "Data Analyst",
          "Data Engineer",
          "Data Scientist",
          "Machine Learning Engineer",
          "Product/Project Manager",
          "Research Scientist",
          "Software Engineer",
          "Statistician",
          "Business Analyst",
          "DBA/Database Engineer",
          "Data Analyst",
          "Data Engineer",
          "Data Scientist",
          "Machine Learning Engineer",
          "Product/Project Manager",
          "Research Scientist",
          "Software Engineer",
          "Statistician",
          "Business Analyst",
          "DBA/Database Engineer",
          "Data Analyst",
          "Data Engineer",
          "Data Scientist",
          "Machine Learning Engineer",
          "Product/Project Manager",
          "Research Scientist",
          "Software Engineer",
          "Statistician",
          "",
          "",
          "",
          "",
          "",
          "",
          "",
          "",
          "",
          ""
         ],
         "textfont": {
          "size": 12
         },
         "texttemplate": "%{label}<br><br>%{value:.2f}%",
         "type": "treemap",
         "values": [
          4.39,
          25.6,
          5.02,
          21.05,
          15.13,
          14.51,
          7.95,
          13.63,
          16.01,
          4.14,
          6.89,
          12,
          7.53,
          11.67,
          9.23,
          18.39,
          12.86,
          19.68,
          20.78,
          9.31,
          7.89,
          14.4,
          9.69,
          9.84,
          12.07,
          24.68,
          14.16,
          23.68,
          26.07,
          12.07,
          9.27,
          20.8,
          7.25,
          19.45,
          11.4,
          17.74,
          16.76,
          15.76,
          37.3,
          2.41,
          9.9,
          17.6,
          9.97,
          19.22,
          10.84,
          15.9,
          16.33,
          10.99,
          42.53,
          4.48,
          0.75,
          0.8,
          0.61,
          1.83,
          2.65,
          1.39,
          0.58,
          3.07,
          0.81,
          2.07,
          6.64,
          4,
          7.12,
          8.92,
          9.04,
          14.6,
          8.24,
          26.41,
          6.35,
          13.45,
          66.54,
          75.2,
          76.14,
          86.04,
          91.67,
          93.53,
          68.5,
          80.15,
          75.81,
          52.07,
          27.69,
          20.8,
          31.93,
          18.54,
          36.43,
          10.44,
          18.06,
          27.85,
          8.08,
          74.83,
          51,
          84,
          55.25,
          70.94,
          55.04,
          30.31,
          42.34,
          22.23,
          50.66,
          26.9,
          1.25,
          0,
          0.61,
          1.14,
          0.52,
          1.66,
          1.45,
          1.02,
          2.64,
          0.69,
          192.21,
          275.20000000000005,
          211.12,
          268.64,
          254.02,
          243.15,
          207.23,
          244.47,
          287.03999999999996,
          202.42
         ]
        }
       ],
       "layout": {
        "height": 700,
        "legend": {
         "tracegroupgap": 0
        },
        "template": {
         "data": {
          "bar": [
           {
            "error_x": {
             "color": "#2a3f5f"
            },
            "error_y": {
             "color": "#2a3f5f"
            },
            "marker": {
             "line": {
              "color": "#E5ECF6",
              "width": 0.5
             }
            },
            "type": "bar"
           }
          ],
          "barpolar": [
           {
            "marker": {
             "line": {
              "color": "#E5ECF6",
              "width": 0.5
             }
            },
            "type": "barpolar"
           }
          ],
          "carpet": [
           {
            "aaxis": {
             "endlinecolor": "#2a3f5f",
             "gridcolor": "white",
             "linecolor": "white",
             "minorgridcolor": "white",
             "startlinecolor": "#2a3f5f"
            },
            "baxis": {
             "endlinecolor": "#2a3f5f",
             "gridcolor": "white",
             "linecolor": "white",
             "minorgridcolor": "white",
             "startlinecolor": "#2a3f5f"
            },
            "type": "carpet"
           }
          ],
          "choropleth": [
           {
            "colorbar": {
             "outlinewidth": 0,
             "ticks": ""
            },
            "type": "choropleth"
           }
          ],
          "contour": [
           {
            "colorbar": {
             "outlinewidth": 0,
             "ticks": ""
            },
            "colorscale": [
             [
              0,
              "#0d0887"
             ],
             [
              0.1111111111111111,
              "#46039f"
             ],
             [
              0.2222222222222222,
              "#7201a8"
             ],
             [
              0.3333333333333333,
              "#9c179e"
             ],
             [
              0.4444444444444444,
              "#bd3786"
             ],
             [
              0.5555555555555556,
              "#d8576b"
             ],
             [
              0.6666666666666666,
              "#ed7953"
             ],
             [
              0.7777777777777778,
              "#fb9f3a"
             ],
             [
              0.8888888888888888,
              "#fdca26"
             ],
             [
              1,
              "#f0f921"
             ]
            ],
            "type": "contour"
           }
          ],
          "contourcarpet": [
           {
            "colorbar": {
             "outlinewidth": 0,
             "ticks": ""
            },
            "type": "contourcarpet"
           }
          ],
          "heatmap": [
           {
            "colorbar": {
             "outlinewidth": 0,
             "ticks": ""
            },
            "colorscale": [
             [
              0,
              "#0d0887"
             ],
             [
              0.1111111111111111,
              "#46039f"
             ],
             [
              0.2222222222222222,
              "#7201a8"
             ],
             [
              0.3333333333333333,
              "#9c179e"
             ],
             [
              0.4444444444444444,
              "#bd3786"
             ],
             [
              0.5555555555555556,
              "#d8576b"
             ],
             [
              0.6666666666666666,
              "#ed7953"
             ],
             [
              0.7777777777777778,
              "#fb9f3a"
             ],
             [
              0.8888888888888888,
              "#fdca26"
             ],
             [
              1,
              "#f0f921"
             ]
            ],
            "type": "heatmap"
           }
          ],
          "heatmapgl": [
           {
            "colorbar": {
             "outlinewidth": 0,
             "ticks": ""
            },
            "colorscale": [
             [
              0,
              "#0d0887"
             ],
             [
              0.1111111111111111,
              "#46039f"
             ],
             [
              0.2222222222222222,
              "#7201a8"
             ],
             [
              0.3333333333333333,
              "#9c179e"
             ],
             [
              0.4444444444444444,
              "#bd3786"
             ],
             [
              0.5555555555555556,
              "#d8576b"
             ],
             [
              0.6666666666666666,
              "#ed7953"
             ],
             [
              0.7777777777777778,
              "#fb9f3a"
             ],
             [
              0.8888888888888888,
              "#fdca26"
             ],
             [
              1,
              "#f0f921"
             ]
            ],
            "type": "heatmapgl"
           }
          ],
          "histogram": [
           {
            "marker": {
             "colorbar": {
              "outlinewidth": 0,
              "ticks": ""
             }
            },
            "type": "histogram"
           }
          ],
          "histogram2d": [
           {
            "colorbar": {
             "outlinewidth": 0,
             "ticks": ""
            },
            "colorscale": [
             [
              0,
              "#0d0887"
             ],
             [
              0.1111111111111111,
              "#46039f"
             ],
             [
              0.2222222222222222,
              "#7201a8"
             ],
             [
              0.3333333333333333,
              "#9c179e"
             ],
             [
              0.4444444444444444,
              "#bd3786"
             ],
             [
              0.5555555555555556,
              "#d8576b"
             ],
             [
              0.6666666666666666,
              "#ed7953"
             ],
             [
              0.7777777777777778,
              "#fb9f3a"
             ],
             [
              0.8888888888888888,
              "#fdca26"
             ],
             [
              1,
              "#f0f921"
             ]
            ],
            "type": "histogram2d"
           }
          ],
          "histogram2dcontour": [
           {
            "colorbar": {
             "outlinewidth": 0,
             "ticks": ""
            },
            "colorscale": [
             [
              0,
              "#0d0887"
             ],
             [
              0.1111111111111111,
              "#46039f"
             ],
             [
              0.2222222222222222,
              "#7201a8"
             ],
             [
              0.3333333333333333,
              "#9c179e"
             ],
             [
              0.4444444444444444,
              "#bd3786"
             ],
             [
              0.5555555555555556,
              "#d8576b"
             ],
             [
              0.6666666666666666,
              "#ed7953"
             ],
             [
              0.7777777777777778,
              "#fb9f3a"
             ],
             [
              0.8888888888888888,
              "#fdca26"
             ],
             [
              1,
              "#f0f921"
             ]
            ],
            "type": "histogram2dcontour"
           }
          ],
          "mesh3d": [
           {
            "colorbar": {
             "outlinewidth": 0,
             "ticks": ""
            },
            "type": "mesh3d"
           }
          ],
          "parcoords": [
           {
            "line": {
             "colorbar": {
              "outlinewidth": 0,
              "ticks": ""
             }
            },
            "type": "parcoords"
           }
          ],
          "pie": [
           {
            "automargin": true,
            "type": "pie"
           }
          ],
          "scatter": [
           {
            "marker": {
             "colorbar": {
              "outlinewidth": 0,
              "ticks": ""
             }
            },
            "type": "scatter"
           }
          ],
          "scatter3d": [
           {
            "line": {
             "colorbar": {
              "outlinewidth": 0,
              "ticks": ""
             }
            },
            "marker": {
             "colorbar": {
              "outlinewidth": 0,
              "ticks": ""
             }
            },
            "type": "scatter3d"
           }
          ],
          "scattercarpet": [
           {
            "marker": {
             "colorbar": {
              "outlinewidth": 0,
              "ticks": ""
             }
            },
            "type": "scattercarpet"
           }
          ],
          "scattergeo": [
           {
            "marker": {
             "colorbar": {
              "outlinewidth": 0,
              "ticks": ""
             }
            },
            "type": "scattergeo"
           }
          ],
          "scattergl": [
           {
            "marker": {
             "colorbar": {
              "outlinewidth": 0,
              "ticks": ""
             }
            },
            "type": "scattergl"
           }
          ],
          "scattermapbox": [
           {
            "marker": {
             "colorbar": {
              "outlinewidth": 0,
              "ticks": ""
             }
            },
            "type": "scattermapbox"
           }
          ],
          "scatterpolar": [
           {
            "marker": {
             "colorbar": {
              "outlinewidth": 0,
              "ticks": ""
             }
            },
            "type": "scatterpolar"
           }
          ],
          "scatterpolargl": [
           {
            "marker": {
             "colorbar": {
              "outlinewidth": 0,
              "ticks": ""
             }
            },
            "type": "scatterpolargl"
           }
          ],
          "scatterternary": [
           {
            "marker": {
             "colorbar": {
              "outlinewidth": 0,
              "ticks": ""
             }
            },
            "type": "scatterternary"
           }
          ],
          "surface": [
           {
            "colorbar": {
             "outlinewidth": 0,
             "ticks": ""
            },
            "colorscale": [
             [
              0,
              "#0d0887"
             ],
             [
              0.1111111111111111,
              "#46039f"
             ],
             [
              0.2222222222222222,
              "#7201a8"
             ],
             [
              0.3333333333333333,
              "#9c179e"
             ],
             [
              0.4444444444444444,
              "#bd3786"
             ],
             [
              0.5555555555555556,
              "#d8576b"
             ],
             [
              0.6666666666666666,
              "#ed7953"
             ],
             [
              0.7777777777777778,
              "#fb9f3a"
             ],
             [
              0.8888888888888888,
              "#fdca26"
             ],
             [
              1,
              "#f0f921"
             ]
            ],
            "type": "surface"
           }
          ],
          "table": [
           {
            "cells": {
             "fill": {
              "color": "#EBF0F8"
             },
             "line": {
              "color": "white"
             }
            },
            "header": {
             "fill": {
              "color": "#C8D4E3"
             },
             "line": {
              "color": "white"
             }
            },
            "type": "table"
           }
          ]
         },
         "layout": {
          "annotationdefaults": {
           "arrowcolor": "#2a3f5f",
           "arrowhead": 0,
           "arrowwidth": 1
          },
          "coloraxis": {
           "colorbar": {
            "outlinewidth": 0,
            "ticks": ""
           }
          },
          "colorscale": {
           "diverging": [
            [
             0,
             "#8e0152"
            ],
            [
             0.1,
             "#c51b7d"
            ],
            [
             0.2,
             "#de77ae"
            ],
            [
             0.3,
             "#f1b6da"
            ],
            [
             0.4,
             "#fde0ef"
            ],
            [
             0.5,
             "#f7f7f7"
            ],
            [
             0.6,
             "#e6f5d0"
            ],
            [
             0.7,
             "#b8e186"
            ],
            [
             0.8,
             "#7fbc41"
            ],
            [
             0.9,
             "#4d9221"
            ],
            [
             1,
             "#276419"
            ]
           ],
           "sequential": [
            [
             0,
             "#0d0887"
            ],
            [
             0.1111111111111111,
             "#46039f"
            ],
            [
             0.2222222222222222,
             "#7201a8"
            ],
            [
             0.3333333333333333,
             "#9c179e"
            ],
            [
             0.4444444444444444,
             "#bd3786"
            ],
            [
             0.5555555555555556,
             "#d8576b"
            ],
            [
             0.6666666666666666,
             "#ed7953"
            ],
            [
             0.7777777777777778,
             "#fb9f3a"
            ],
            [
             0.8888888888888888,
             "#fdca26"
            ],
            [
             1,
             "#f0f921"
            ]
           ],
           "sequentialminus": [
            [
             0,
             "#0d0887"
            ],
            [
             0.1111111111111111,
             "#46039f"
            ],
            [
             0.2222222222222222,
             "#7201a8"
            ],
            [
             0.3333333333333333,
             "#9c179e"
            ],
            [
             0.4444444444444444,
             "#bd3786"
            ],
            [
             0.5555555555555556,
             "#d8576b"
            ],
            [
             0.6666666666666666,
             "#ed7953"
            ],
            [
             0.7777777777777778,
             "#fb9f3a"
            ],
            [
             0.8888888888888888,
             "#fdca26"
            ],
            [
             1,
             "#f0f921"
            ]
           ]
          },
          "colorway": [
           "#636efa",
           "#EF553B",
           "#00cc96",
           "#ab63fa",
           "#FFA15A",
           "#19d3f3",
           "#FF6692",
           "#B6E880",
           "#FF97FF",
           "#FECB52"
          ],
          "font": {
           "color": "#2a3f5f"
          },
          "geo": {
           "bgcolor": "white",
           "lakecolor": "white",
           "landcolor": "#E5ECF6",
           "showlakes": true,
           "showland": true,
           "subunitcolor": "white"
          },
          "hoverlabel": {
           "align": "left"
          },
          "hovermode": "closest",
          "mapbox": {
           "style": "light"
          },
          "paper_bgcolor": "white",
          "plot_bgcolor": "#E5ECF6",
          "polar": {
           "angularaxis": {
            "gridcolor": "white",
            "linecolor": "white",
            "ticks": ""
           },
           "bgcolor": "#E5ECF6",
           "radialaxis": {
            "gridcolor": "white",
            "linecolor": "white",
            "ticks": ""
           }
          },
          "scene": {
           "xaxis": {
            "backgroundcolor": "#E5ECF6",
            "gridcolor": "white",
            "gridwidth": 2,
            "linecolor": "white",
            "showbackground": true,
            "ticks": "",
            "zerolinecolor": "white"
           },
           "yaxis": {
            "backgroundcolor": "#E5ECF6",
            "gridcolor": "white",
            "gridwidth": 2,
            "linecolor": "white",
            "showbackground": true,
            "ticks": "",
            "zerolinecolor": "white"
           },
           "zaxis": {
            "backgroundcolor": "#E5ECF6",
            "gridcolor": "white",
            "gridwidth": 2,
            "linecolor": "white",
            "showbackground": true,
            "ticks": "",
            "zerolinecolor": "white"
           }
          },
          "shapedefaults": {
           "line": {
            "color": "#2a3f5f"
           }
          },
          "ternary": {
           "aaxis": {
            "gridcolor": "white",
            "linecolor": "white",
            "ticks": ""
           },
           "baxis": {
            "gridcolor": "white",
            "linecolor": "white",
            "ticks": ""
           },
           "bgcolor": "#E5ECF6",
           "caxis": {
            "gridcolor": "white",
            "linecolor": "white",
            "ticks": ""
           }
          },
          "title": {
           "x": 0.05
          },
          "xaxis": {
           "automargin": true,
           "gridcolor": "white",
           "linecolor": "white",
           "ticks": "",
           "title": {
            "standoff": 15
           },
           "zerolinecolor": "white",
           "zerolinewidth": 2
          },
          "yaxis": {
           "automargin": true,
           "gridcolor": "white",
           "linecolor": "white",
           "ticks": "",
           "title": {
            "standoff": 15
           },
           "zerolinecolor": "white",
           "zerolinewidth": 2
          }
         }
        },
        "title": {
         "text": "Most polupar language by Role"
        },
        "treemapcolorway": [
         "rgb(27,158,119)",
         "rgb(217,95,2)",
         "rgb(117,112,179)",
         "rgb(231,41,138)",
         "rgb(102,166,30)",
         "rgb(230,171,2)",
         "rgb(166,118,29)",
         "rgb(102,102,102)"
        ]
       }
      },
      "text/html": [
       "<div>                            <div id=\"2685dbc5-1294-4d95-a4aa-a2627d0a188d\" class=\"plotly-graph-div\" style=\"height:700px; width:100%;\"></div>            <script type=\"text/javascript\">                require([\"plotly\"], function(Plotly) {                    window.PLOTLYENV=window.PLOTLYENV || {};                                    if (document.getElementById(\"2685dbc5-1294-4d95-a4aa-a2627d0a188d\")) {                    Plotly.newPlot(                        \"2685dbc5-1294-4d95-a4aa-a2627d0a188d\",                        [{\"branchvalues\": \"total\", \"domain\": {\"x\": [0.0, 1.0], \"y\": [0.0, 1.0]}, \"hovertemplate\": \"labels=%{label}<br>Percent=%{value}<br>parent=%{parent}<br>id=%{id}<extra></extra>\", \"ids\": [\"Business Analyst/BASH\", \"DBA/Database Engineer/BASH\", \"Data Analyst/BASH\", \"Data Engineer/BASH\", \"Data Scientist/BASH\", \"Machine Learning Engineer/BASH\", \"Product/Project Manager/BASH\", \"Research Scientist/BASH\", \"Software Engineer/BASH\", \"Statistician/BASH\", \"Business Analyst/C\", \"DBA/Database Engineer/C\", \"Data Analyst/C\", \"Data Engineer/C\", \"Data Scientist/C\", \"Machine Learning Engineer/C\", \"Product/Project Manager/C\", \"Research Scientist/C\", \"Software Engineer/C\", \"Statistician/C\", \"Business Analyst/C++\", \"DBA/Database Engineer/C++\", \"Data Analyst/C++\", \"Data Engineer/C++\", \"Data Scientist/C++\", \"Machine Learning Engineer/C++\", \"Product/Project Manager/C++\", \"Research Scientist/C++\", \"Software Engineer/C++\", \"Statistician/C++\", \"Business Analyst/JAVA\", \"DBA/Database Engineer/JAVA\", \"Data Analyst/JAVA\", \"Data Engineer/JAVA\", \"Data Scientist/JAVA\", \"Machine Learning Engineer/JAVA\", \"Product/Project Manager/JAVA\", \"Research Scientist/JAVA\", \"Software Engineer/JAVA\", \"Statistician/JAVA\", \"Business Analyst/JAVASCRIPT\", \"DBA/Database Engineer/JAVASCRIPT\", \"Data Analyst/JAVASCRIPT\", \"Data Engineer/JAVASCRIPT\", \"Data Scientist/JAVASCRIPT\", \"Machine Learning Engineer/JAVASCRIPT\", \"Product/Project Manager/JAVASCRIPT\", \"Research Scientist/JAVASCRIPT\", \"Software Engineer/JAVASCRIPT\", \"Statistician/JAVASCRIPT\", \"Business Analyst/JULIA\", \"DBA/Database Engineer/JULIA\", \"Data Analyst/JULIA\", \"Data Engineer/JULIA\", \"Data Scientist/JULIA\", \"Machine Learning Engineer/JULIA\", \"Product/Project Manager/JULIA\", \"Research Scientist/JULIA\", \"Software Engineer/JULIA\", \"Statistician/JULIA\", \"Business Analyst/MATLAB\", \"DBA/Database Engineer/MATLAB\", \"Data Analyst/MATLAB\", \"Data Engineer/MATLAB\", \"Data Scientist/MATLAB\", \"Machine Learning Engineer/MATLAB\", \"Product/Project Manager/MATLAB\", \"Research Scientist/MATLAB\", \"Software Engineer/MATLAB\", \"Statistician/MATLAB\", \"Business Analyst/PYTHON\", \"DBA/Database Engineer/PYTHON\", \"Data Analyst/PYTHON\", \"Data Engineer/PYTHON\", \"Data Scientist/PYTHON\", \"Machine Learning Engineer/PYTHON\", \"Product/Project Manager/PYTHON\", \"Research Scientist/PYTHON\", \"Software Engineer/PYTHON\", \"Statistician/PYTHON\", \"Business Analyst/R\", \"DBA/Database Engineer/R\", \"Data Analyst/R\", \"Data Engineer/R\", \"Data Scientist/R\", \"Machine Learning Engineer/R\", \"Product/Project Manager/R\", \"Research Scientist/R\", \"Software Engineer/R\", \"Statistician/R\", \"Business Analyst/SQL\", \"DBA/Database Engineer/SQL\", \"Data Analyst/SQL\", \"Data Engineer/SQL\", \"Data Scientist/SQL\", \"Machine Learning Engineer/SQL\", \"Product/Project Manager/SQL\", \"Research Scientist/SQL\", \"Software Engineer/SQL\", \"Statistician/SQL\", \"Business Analyst/SWIFT\", \"DBA/Database Engineer/SWIFT\", \"Data Analyst/SWIFT\", \"Data Engineer/SWIFT\", \"Data Scientist/SWIFT\", \"Machine Learning Engineer/SWIFT\", \"Product/Project Manager/SWIFT\", \"Research Scientist/SWIFT\", \"Software Engineer/SWIFT\", \"Statistician/SWIFT\", \"Business Analyst\", \"DBA/Database Engineer\", \"Data Analyst\", \"Data Engineer\", \"Data Scientist\", \"Machine Learning Engineer\", \"Product/Project Manager\", \"Research Scientist\", \"Software Engineer\", \"Statistician\"], \"labels\": [\"BASH\", \"BASH\", \"BASH\", \"BASH\", \"BASH\", \"BASH\", \"BASH\", \"BASH\", \"BASH\", \"BASH\", \"C\", \"C\", \"C\", \"C\", \"C\", \"C\", \"C\", \"C\", \"C\", \"C\", \"C++\", \"C++\", \"C++\", \"C++\", \"C++\", \"C++\", \"C++\", \"C++\", \"C++\", \"C++\", \"JAVA\", \"JAVA\", \"JAVA\", \"JAVA\", \"JAVA\", \"JAVA\", \"JAVA\", \"JAVA\", \"JAVA\", \"JAVA\", \"JAVASCRIPT\", \"JAVASCRIPT\", \"JAVASCRIPT\", \"JAVASCRIPT\", \"JAVASCRIPT\", \"JAVASCRIPT\", \"JAVASCRIPT\", \"JAVASCRIPT\", \"JAVASCRIPT\", \"JAVASCRIPT\", \"JULIA\", \"JULIA\", \"JULIA\", \"JULIA\", \"JULIA\", \"JULIA\", \"JULIA\", \"JULIA\", \"JULIA\", \"JULIA\", \"MATLAB\", \"MATLAB\", \"MATLAB\", \"MATLAB\", \"MATLAB\", \"MATLAB\", \"MATLAB\", \"MATLAB\", \"MATLAB\", \"MATLAB\", \"PYTHON\", \"PYTHON\", \"PYTHON\", \"PYTHON\", \"PYTHON\", \"PYTHON\", \"PYTHON\", \"PYTHON\", \"PYTHON\", \"PYTHON\", \"R\", \"R\", \"R\", \"R\", \"R\", \"R\", \"R\", \"R\", \"R\", \"R\", \"SQL\", \"SQL\", \"SQL\", \"SQL\", \"SQL\", \"SQL\", \"SQL\", \"SQL\", \"SQL\", \"SQL\", \"SWIFT\", \"SWIFT\", \"SWIFT\", \"SWIFT\", \"SWIFT\", \"SWIFT\", \"SWIFT\", \"SWIFT\", \"SWIFT\", \"SWIFT\", \"Business Analyst\", \"DBA/Database Engineer\", \"Data Analyst\", \"Data Engineer\", \"Data Scientist\", \"Machine Learning Engineer\", \"Product/Project Manager\", \"Research Scientist\", \"Software Engineer\", \"Statistician\"], \"name\": \"\", \"opacity\": 0.8, \"parents\": [\"Business Analyst\", \"DBA/Database Engineer\", \"Data Analyst\", \"Data Engineer\", \"Data Scientist\", \"Machine Learning Engineer\", \"Product/Project Manager\", \"Research Scientist\", \"Software Engineer\", \"Statistician\", \"Business Analyst\", \"DBA/Database Engineer\", \"Data Analyst\", \"Data Engineer\", \"Data Scientist\", \"Machine Learning Engineer\", \"Product/Project Manager\", \"Research Scientist\", \"Software Engineer\", \"Statistician\", \"Business Analyst\", \"DBA/Database Engineer\", \"Data Analyst\", \"Data Engineer\", \"Data Scientist\", \"Machine Learning Engineer\", \"Product/Project Manager\", \"Research Scientist\", \"Software Engineer\", \"Statistician\", \"Business Analyst\", \"DBA/Database Engineer\", \"Data Analyst\", \"Data Engineer\", \"Data Scientist\", \"Machine Learning Engineer\", \"Product/Project Manager\", \"Research Scientist\", \"Software Engineer\", \"Statistician\", \"Business Analyst\", \"DBA/Database Engineer\", \"Data Analyst\", \"Data Engineer\", \"Data Scientist\", \"Machine Learning Engineer\", \"Product/Project Manager\", \"Research Scientist\", \"Software Engineer\", \"Statistician\", \"Business Analyst\", \"DBA/Database Engineer\", \"Data Analyst\", \"Data Engineer\", \"Data Scientist\", \"Machine Learning Engineer\", \"Product/Project Manager\", \"Research Scientist\", \"Software Engineer\", \"Statistician\", \"Business Analyst\", \"DBA/Database Engineer\", \"Data Analyst\", \"Data Engineer\", \"Data Scientist\", \"Machine Learning Engineer\", \"Product/Project Manager\", \"Research Scientist\", \"Software Engineer\", \"Statistician\", \"Business Analyst\", \"DBA/Database Engineer\", \"Data Analyst\", \"Data Engineer\", \"Data Scientist\", \"Machine Learning Engineer\", \"Product/Project Manager\", \"Research Scientist\", \"Software Engineer\", \"Statistician\", \"Business Analyst\", \"DBA/Database Engineer\", \"Data Analyst\", \"Data Engineer\", \"Data Scientist\", \"Machine Learning Engineer\", \"Product/Project Manager\", \"Research Scientist\", \"Software Engineer\", \"Statistician\", \"Business Analyst\", \"DBA/Database Engineer\", \"Data Analyst\", \"Data Engineer\", \"Data Scientist\", \"Machine Learning Engineer\", \"Product/Project Manager\", \"Research Scientist\", \"Software Engineer\", \"Statistician\", \"Business Analyst\", \"DBA/Database Engineer\", \"Data Analyst\", \"Data Engineer\", \"Data Scientist\", \"Machine Learning Engineer\", \"Product/Project Manager\", \"Research Scientist\", \"Software Engineer\", \"Statistician\", \"\", \"\", \"\", \"\", \"\", \"\", \"\", \"\", \"\", \"\"], \"textfont\": {\"size\": 12}, \"texttemplate\": \"%{label}<br><br>%{value:.2f}%\", \"type\": \"treemap\", \"values\": [4.39, 25.6, 5.02, 21.05, 15.13, 14.51, 7.95, 13.63, 16.01, 4.14, 6.89, 12.0, 7.53, 11.67, 9.23, 18.39, 12.86, 19.68, 20.78, 9.31, 7.89, 14.4, 9.69, 9.84, 12.07, 24.68, 14.16, 23.68, 26.07, 12.07, 9.27, 20.8, 7.25, 19.45, 11.4, 17.74, 16.76, 15.76, 37.3, 2.41, 9.9, 17.6, 9.97, 19.22, 10.84, 15.9, 16.33, 10.99, 42.53, 4.48, 0.75, 0.8, 0.61, 1.83, 2.65, 1.39, 0.58, 3.07, 0.81, 2.07, 6.64, 4.0, 7.12, 8.92, 9.04, 14.6, 8.24, 26.41, 6.35, 13.45, 66.54, 75.2, 76.14, 86.04, 91.67, 93.53, 68.5, 80.15, 75.81, 52.07, 27.69, 20.8, 31.93, 18.54, 36.43, 10.44, 18.06, 27.85, 8.08, 74.83, 51.0, 84.0, 55.25, 70.94, 55.04, 30.31, 42.34, 22.23, 50.66, 26.9, 1.25, 0.0, 0.61, 1.14, 0.52, 1.66, 1.45, 1.02, 2.64, 0.69, 192.21, 275.20000000000005, 211.12, 268.64, 254.02, 243.15, 207.23, 244.47, 287.03999999999996, 202.42]}],                        {\"height\": 700, \"legend\": {\"tracegroupgap\": 0}, \"template\": {\"data\": {\"bar\": [{\"error_x\": {\"color\": \"#2a3f5f\"}, \"error_y\": {\"color\": \"#2a3f5f\"}, \"marker\": {\"line\": {\"color\": \"#E5ECF6\", \"width\": 0.5}}, \"type\": \"bar\"}], \"barpolar\": [{\"marker\": {\"line\": {\"color\": \"#E5ECF6\", \"width\": 0.5}}, \"type\": \"barpolar\"}], \"carpet\": [{\"aaxis\": {\"endlinecolor\": \"#2a3f5f\", \"gridcolor\": \"white\", \"linecolor\": \"white\", \"minorgridcolor\": \"white\", \"startlinecolor\": \"#2a3f5f\"}, \"baxis\": {\"endlinecolor\": \"#2a3f5f\", \"gridcolor\": \"white\", \"linecolor\": \"white\", \"minorgridcolor\": \"white\", \"startlinecolor\": \"#2a3f5f\"}, \"type\": \"carpet\"}], \"choropleth\": [{\"colorbar\": {\"outlinewidth\": 0, \"ticks\": \"\"}, \"type\": \"choropleth\"}], \"contour\": [{\"colorbar\": {\"outlinewidth\": 0, \"ticks\": \"\"}, \"colorscale\": [[0.0, \"#0d0887\"], [0.1111111111111111, \"#46039f\"], [0.2222222222222222, \"#7201a8\"], [0.3333333333333333, \"#9c179e\"], [0.4444444444444444, \"#bd3786\"], [0.5555555555555556, \"#d8576b\"], [0.6666666666666666, \"#ed7953\"], [0.7777777777777778, \"#fb9f3a\"], [0.8888888888888888, \"#fdca26\"], [1.0, \"#f0f921\"]], \"type\": \"contour\"}], \"contourcarpet\": [{\"colorbar\": {\"outlinewidth\": 0, \"ticks\": \"\"}, \"type\": \"contourcarpet\"}], \"heatmap\": [{\"colorbar\": {\"outlinewidth\": 0, \"ticks\": \"\"}, \"colorscale\": [[0.0, \"#0d0887\"], [0.1111111111111111, \"#46039f\"], [0.2222222222222222, \"#7201a8\"], [0.3333333333333333, \"#9c179e\"], [0.4444444444444444, \"#bd3786\"], [0.5555555555555556, \"#d8576b\"], [0.6666666666666666, \"#ed7953\"], [0.7777777777777778, \"#fb9f3a\"], [0.8888888888888888, \"#fdca26\"], [1.0, \"#f0f921\"]], \"type\": \"heatmap\"}], \"heatmapgl\": [{\"colorbar\": {\"outlinewidth\": 0, \"ticks\": \"\"}, \"colorscale\": [[0.0, \"#0d0887\"], [0.1111111111111111, \"#46039f\"], [0.2222222222222222, \"#7201a8\"], [0.3333333333333333, \"#9c179e\"], [0.4444444444444444, \"#bd3786\"], [0.5555555555555556, \"#d8576b\"], [0.6666666666666666, \"#ed7953\"], [0.7777777777777778, \"#fb9f3a\"], [0.8888888888888888, \"#fdca26\"], [1.0, \"#f0f921\"]], \"type\": \"heatmapgl\"}], \"histogram\": [{\"marker\": {\"colorbar\": {\"outlinewidth\": 0, \"ticks\": \"\"}}, \"type\": \"histogram\"}], \"histogram2d\": [{\"colorbar\": {\"outlinewidth\": 0, \"ticks\": \"\"}, \"colorscale\": [[0.0, \"#0d0887\"], [0.1111111111111111, \"#46039f\"], [0.2222222222222222, \"#7201a8\"], [0.3333333333333333, \"#9c179e\"], [0.4444444444444444, \"#bd3786\"], [0.5555555555555556, \"#d8576b\"], [0.6666666666666666, \"#ed7953\"], [0.7777777777777778, \"#fb9f3a\"], [0.8888888888888888, \"#fdca26\"], [1.0, \"#f0f921\"]], \"type\": \"histogram2d\"}], \"histogram2dcontour\": [{\"colorbar\": {\"outlinewidth\": 0, \"ticks\": \"\"}, \"colorscale\": [[0.0, \"#0d0887\"], [0.1111111111111111, \"#46039f\"], [0.2222222222222222, \"#7201a8\"], [0.3333333333333333, \"#9c179e\"], [0.4444444444444444, \"#bd3786\"], [0.5555555555555556, \"#d8576b\"], [0.6666666666666666, \"#ed7953\"], [0.7777777777777778, \"#fb9f3a\"], [0.8888888888888888, \"#fdca26\"], [1.0, \"#f0f921\"]], \"type\": \"histogram2dcontour\"}], \"mesh3d\": [{\"colorbar\": {\"outlinewidth\": 0, \"ticks\": \"\"}, \"type\": \"mesh3d\"}], \"parcoords\": [{\"line\": {\"colorbar\": {\"outlinewidth\": 0, \"ticks\": \"\"}}, \"type\": \"parcoords\"}], \"pie\": [{\"automargin\": true, \"type\": \"pie\"}], \"scatter\": [{\"marker\": {\"colorbar\": {\"outlinewidth\": 0, \"ticks\": \"\"}}, \"type\": \"scatter\"}], \"scatter3d\": [{\"line\": {\"colorbar\": {\"outlinewidth\": 0, \"ticks\": \"\"}}, \"marker\": {\"colorbar\": {\"outlinewidth\": 0, \"ticks\": \"\"}}, \"type\": \"scatter3d\"}], \"scattercarpet\": [{\"marker\": {\"colorbar\": {\"outlinewidth\": 0, \"ticks\": \"\"}}, \"type\": \"scattercarpet\"}], \"scattergeo\": [{\"marker\": {\"colorbar\": {\"outlinewidth\": 0, \"ticks\": \"\"}}, \"type\": \"scattergeo\"}], \"scattergl\": [{\"marker\": {\"colorbar\": {\"outlinewidth\": 0, \"ticks\": \"\"}}, \"type\": \"scattergl\"}], \"scattermapbox\": [{\"marker\": {\"colorbar\": {\"outlinewidth\": 0, \"ticks\": \"\"}}, \"type\": \"scattermapbox\"}], \"scatterpolar\": [{\"marker\": {\"colorbar\": {\"outlinewidth\": 0, \"ticks\": \"\"}}, \"type\": \"scatterpolar\"}], \"scatterpolargl\": [{\"marker\": {\"colorbar\": {\"outlinewidth\": 0, \"ticks\": \"\"}}, \"type\": \"scatterpolargl\"}], \"scatterternary\": [{\"marker\": {\"colorbar\": {\"outlinewidth\": 0, \"ticks\": \"\"}}, \"type\": \"scatterternary\"}], \"surface\": [{\"colorbar\": {\"outlinewidth\": 0, \"ticks\": \"\"}, \"colorscale\": [[0.0, \"#0d0887\"], [0.1111111111111111, \"#46039f\"], [0.2222222222222222, \"#7201a8\"], [0.3333333333333333, \"#9c179e\"], [0.4444444444444444, \"#bd3786\"], [0.5555555555555556, \"#d8576b\"], [0.6666666666666666, \"#ed7953\"], [0.7777777777777778, \"#fb9f3a\"], [0.8888888888888888, \"#fdca26\"], [1.0, \"#f0f921\"]], \"type\": \"surface\"}], \"table\": [{\"cells\": {\"fill\": {\"color\": \"#EBF0F8\"}, \"line\": {\"color\": \"white\"}}, \"header\": {\"fill\": {\"color\": \"#C8D4E3\"}, \"line\": {\"color\": \"white\"}}, \"type\": \"table\"}]}, \"layout\": {\"annotationdefaults\": {\"arrowcolor\": \"#2a3f5f\", \"arrowhead\": 0, \"arrowwidth\": 1}, \"coloraxis\": {\"colorbar\": {\"outlinewidth\": 0, \"ticks\": \"\"}}, \"colorscale\": {\"diverging\": [[0, \"#8e0152\"], [0.1, \"#c51b7d\"], [0.2, \"#de77ae\"], [0.3, \"#f1b6da\"], [0.4, \"#fde0ef\"], [0.5, \"#f7f7f7\"], [0.6, \"#e6f5d0\"], [0.7, \"#b8e186\"], [0.8, \"#7fbc41\"], [0.9, \"#4d9221\"], [1, \"#276419\"]], \"sequential\": [[0.0, \"#0d0887\"], [0.1111111111111111, \"#46039f\"], [0.2222222222222222, \"#7201a8\"], [0.3333333333333333, \"#9c179e\"], [0.4444444444444444, \"#bd3786\"], [0.5555555555555556, \"#d8576b\"], [0.6666666666666666, \"#ed7953\"], [0.7777777777777778, \"#fb9f3a\"], [0.8888888888888888, \"#fdca26\"], [1.0, \"#f0f921\"]], \"sequentialminus\": [[0.0, \"#0d0887\"], [0.1111111111111111, \"#46039f\"], [0.2222222222222222, \"#7201a8\"], [0.3333333333333333, \"#9c179e\"], [0.4444444444444444, \"#bd3786\"], [0.5555555555555556, \"#d8576b\"], [0.6666666666666666, \"#ed7953\"], [0.7777777777777778, \"#fb9f3a\"], [0.8888888888888888, \"#fdca26\"], [1.0, \"#f0f921\"]]}, \"colorway\": [\"#636efa\", \"#EF553B\", \"#00cc96\", \"#ab63fa\", \"#FFA15A\", \"#19d3f3\", \"#FF6692\", \"#B6E880\", \"#FF97FF\", \"#FECB52\"], \"font\": {\"color\": \"#2a3f5f\"}, \"geo\": {\"bgcolor\": \"white\", \"lakecolor\": \"white\", \"landcolor\": \"#E5ECF6\", \"showlakes\": true, \"showland\": true, \"subunitcolor\": \"white\"}, \"hoverlabel\": {\"align\": \"left\"}, \"hovermode\": \"closest\", \"mapbox\": {\"style\": \"light\"}, \"paper_bgcolor\": \"white\", \"plot_bgcolor\": \"#E5ECF6\", \"polar\": {\"angularaxis\": {\"gridcolor\": \"white\", \"linecolor\": \"white\", \"ticks\": \"\"}, \"bgcolor\": \"#E5ECF6\", \"radialaxis\": {\"gridcolor\": \"white\", \"linecolor\": \"white\", \"ticks\": \"\"}}, \"scene\": {\"xaxis\": {\"backgroundcolor\": \"#E5ECF6\", \"gridcolor\": \"white\", \"gridwidth\": 2, \"linecolor\": \"white\", \"showbackground\": true, \"ticks\": \"\", \"zerolinecolor\": \"white\"}, \"yaxis\": {\"backgroundcolor\": \"#E5ECF6\", \"gridcolor\": \"white\", \"gridwidth\": 2, \"linecolor\": \"white\", \"showbackground\": true, \"ticks\": \"\", \"zerolinecolor\": \"white\"}, \"zaxis\": {\"backgroundcolor\": \"#E5ECF6\", \"gridcolor\": \"white\", \"gridwidth\": 2, \"linecolor\": \"white\", \"showbackground\": true, \"ticks\": \"\", \"zerolinecolor\": \"white\"}}, \"shapedefaults\": {\"line\": {\"color\": \"#2a3f5f\"}}, \"ternary\": {\"aaxis\": {\"gridcolor\": \"white\", \"linecolor\": \"white\", \"ticks\": \"\"}, \"baxis\": {\"gridcolor\": \"white\", \"linecolor\": \"white\", \"ticks\": \"\"}, \"bgcolor\": \"#E5ECF6\", \"caxis\": {\"gridcolor\": \"white\", \"linecolor\": \"white\", \"ticks\": \"\"}}, \"title\": {\"x\": 0.05}, \"xaxis\": {\"automargin\": true, \"gridcolor\": \"white\", \"linecolor\": \"white\", \"ticks\": \"\", \"title\": {\"standoff\": 15}, \"zerolinecolor\": \"white\", \"zerolinewidth\": 2}, \"yaxis\": {\"automargin\": true, \"gridcolor\": \"white\", \"linecolor\": \"white\", \"ticks\": \"\", \"title\": {\"standoff\": 15}, \"zerolinecolor\": \"white\", \"zerolinewidth\": 2}}}, \"title\": {\"text\": \"Most polupar language by Role\"}, \"treemapcolorway\": [\"rgb(27,158,119)\", \"rgb(217,95,2)\", \"rgb(117,112,179)\", \"rgb(231,41,138)\", \"rgb(102,166,30)\", \"rgb(230,171,2)\", \"rgb(166,118,29)\", \"rgb(102,102,102)\"]},                        {\"responsive\": true}                    ).then(function(){\n",
       "                            \n",
       "var gd = document.getElementById('2685dbc5-1294-4d95-a4aa-a2627d0a188d');\n",
       "var x = new MutationObserver(function (mutations, observer) {{\n",
       "        var display = window.getComputedStyle(gd).display;\n",
       "        if (!display || display === 'none') {{\n",
       "            console.log([gd, 'removed!']);\n",
       "            Plotly.purge(gd);\n",
       "            observer.disconnect();\n",
       "        }}\n",
       "}});\n",
       "\n",
       "// Listen for the removal of the full notebook cells\n",
       "var notebookContainer = gd.closest('#notebook-container');\n",
       "if (notebookContainer) {{\n",
       "    x.observe(notebookContainer, {childList: true});\n",
       "}}\n",
       "\n",
       "// Listen for the clearing of the current output cell\n",
       "var outputEl = gd.closest('.output');\n",
       "if (outputEl) {{\n",
       "    x.observe(outputEl, {childList: true});\n",
       "}}\n",
       "\n",
       "                        })                };                });            </script>        </div>"
      ]
     },
     "metadata": {},
     "output_type": "display_data"
    }
   ],
   "source": [
    "df_melt = df.melt(id_vars='Q5', value_vars=df.iloc[:,7:18].T.index,var_name='Languages',value_name='Count')\n",
    "data_melt = df_melt[~df_melt[\"Q5\"].isin(['Student','Currently not employed','Other'])]\n",
    "data_meltTotal = data_melt.groupby(['Q5','Languages']).count().reset_index()\n",
    "data_size = df.groupby([\"Q5\"]).size()\n",
    "data_meltTotal[\"Total\"] = data_meltTotal[\"Q5\"].map(data_size)\n",
    "data_meltTotal[\"Percent\"] = round(data_meltTotal[\"Count\"] / data_meltTotal[\"Total\"]*100,2)\n",
    "\n",
    "# Treemp Q5 x Languages\n",
    "\n",
    "fig = px.treemap(data_meltTotal,\n",
    "                 path= ['Q5','Languages'],\n",
    "                 height=700,\n",
    "                 values = 'Percent',\n",
    "                 #labels = percents_country,\n",
    "                 title='Most polupar language by Role',\n",
    "                 color_discrete_sequence = px.colors.qualitative.Dark2)\n",
    "\n",
    "fig.update_traces(opacity = 0.80, textfont_size=12,\n",
    "                 texttemplate=\"%{label}<br><br>%{value:.2f}%\"\n",
    "                 )\n",
    "\n",
    "fig.show()"
   ]
  },
  {
   "cell_type": "markdown",
   "metadata": {},
   "source": [
    "We find the most popular language by job title.The 3 most used languages are: PYTHON, R and SQL."
   ]
  },
  {
   "cell_type": "markdown",
   "metadata": {},
   "source": [
    "### Programming language you would recommend an aspiring data scientist to learn first"
   ]
  },
  {
   "cell_type": "code",
   "execution_count": 174,
   "metadata": {},
   "outputs": [],
   "source": [
    "data6 = pd.DataFrame(data.loc[1:, 'Q8']).reset_index()\n",
    "data6.drop('index', axis=1, inplace=True)\n",
    "\n",
    "data66 =pd.DataFrame(pd.value_counts(data6.values.flatten())).reset_index()\n",
    "data66.columns = ['A', 'B']"
   ]
  },
  {
   "cell_type": "code",
   "execution_count": 175,
   "metadata": {},
   "outputs": [
    {
     "data": {
      "image/png": "[encoded data removed]",
      "text/plain": [
       "<Figure size 1080x576 with 1 Axes>"
      ]
     },
     "metadata": {
      "needs_background": "light"
     },
     "output_type": "display_data"
    }
   ],
   "source": [
    "plt.figure(figsize=(15,8))\n",
    "vis7 = sns.barplot(data=data66, x='A', y='B', palette='winter')\n",
    "plt.xlabel('Programming languages', fontsize=15)\n",
    "plt.ylabel('Count', fontsize=15)\n",
    "plt.xticks(rotation=50)\n",
    "plt.title('Reccomend language for aspiring DS to learn first', fontsize=15)\n",
    "\n",
    "for p in vis7.patches:\n",
    "    vis7.annotate(format(p.get_height(), '.0f'), (p.get_x() + p.get_width() / 2., p.get_height()), \n",
    "               ha = 'center', va = 'center', xytext = (0, 10), textcoords = 'offset points')"
   ]
  },
  {
   "cell_type": "markdown",
   "metadata": {},
   "source": [
    "###  Most popular integrated development environments (IDE's) "
   ]
  },
  {
   "cell_type": "code",
   "execution_count": 180,
   "metadata": {},
   "outputs": [
    {
     "data": {
      "image/png": "[encoded data removed]",
      "text/plain": [
       "<Figure size 1080x576 with 1 Axes>"
      ]
     },
     "metadata": {
      "needs_background": "light"
     },
     "output_type": "display_data"
    }
   ],
   "source": [
    "plt.figure(figsize=(15,8))\n",
    "vis5 = sns.barplot(data=a, x='A', y='B', palette='winter')\n",
    "plt.xlabel('Development environments', fontsize=15)\n",
    "plt.ylabel('Count', fontsize=15)\n",
    "plt.xticks(rotation=80)\n",
    "plt.title('The most popular development environments', fontsize=15)\n",
    "\n",
    "for p in vis5.patches:\n",
    "    vis5.annotate(format(p.get_height(), '.0f'), (p.get_x() + p.get_width() / 2., p.get_height()), \n",
    "               ha = 'center', va = 'center', xytext = (0, 10), textcoords = 'offset points')\n"
   ]
  },
  {
   "cell_type": "markdown",
   "metadata": {},
   "source": [
    "### Data visualization libraries or tools "
   ]
  },
  {
   "cell_type": "code",
   "execution_count": 181,
   "metadata": {},
   "outputs": [
    {
     "data": {
      "image/png": "[encoded data removed]",
      "text/plain": [
       "<Figure size 1080x576 with 1 Axes>"
      ]
     },
     "metadata": {
      "needs_background": "light"
     },
     "output_type": "display_data"
    }
   ],
   "source": [
    "data8 = pd.DataFrame(data.iloc[1:,53:65]).reset_index()\n",
    "data8.drop('index', axis=1, inplace=True)\n",
    "data8.head()\n",
    "\n",
    "data88 =pd.DataFrame(pd.value_counts(data8.values.flatten())).reset_index()\n",
    "data88.columns = ['A', 'B']\n",
    "data88.head(5)\n",
    "\n",
    "plt.figure(figsize=(15,8))\n",
    "vis8 = sns.barplot(data=data88, x='A', y='B', palette='winter')\n",
    "plt.xlabel('Data visualisation methods/tools', fontsize=15)\n",
    "plt.ylabel('Count', fontsize=15)\n",
    "plt.xticks(rotation=50)\n",
    "plt.title('The most popular data visualisation tools', fontsize=15)\n",
    "\n",
    "for p in vis8.patches:\n",
    "    vis8.annotate(format(p.get_height(), '.0f'), (p.get_x() + p.get_width() / 2., p.get_height()), \n",
    "               ha = 'center', va = 'center', xytext = (0, 10), textcoords = 'offset points')"
   ]
  },
  {
   "cell_type": "markdown",
   "metadata": {},
   "source": [
    "Matplotlib and Seaborn are the most used data visualization tools"
   ]
  },
  {
   "cell_type": "markdown",
   "metadata": {},
   "source": [
    "### Machine learning frameworks"
   ]
  },
  {
   "cell_type": "code",
   "execution_count": 122,
   "metadata": {},
   "outputs": [],
   "source": [
    "data9 = pd.DataFrame(data.iloc[1:,66:82]).reset_index()\n",
    "data9.drop('index', axis=1, inplace=True)\n",
    "\n",
    "data99 =pd.DataFrame(pd.value_counts(data9.values.flatten())).reset_index()\n",
    "data99.columns = ['A', 'B']"
   ]
  },
  {
   "cell_type": "code",
   "execution_count": 127,
   "metadata": {},
   "outputs": [
    {
     "data": {
      "image/png": "[encoded data removed]",
      "text/plain": [
       "<Figure size 1080x576 with 1 Axes>"
      ]
     },
     "metadata": {
      "needs_background": "light"
     },
     "output_type": "display_data"
    }
   ],
   "source": [
    "plt.figure(figsize=(15,8))\n",
    "vis9 = sns.barplot(data=data99, x='A', y='B', palette='winter')\n",
    "plt.xlabel('ML Framework', fontsize=15)\n",
    "plt.ylabel('Count', fontsize=15)\n",
    "plt.xticks(rotation=50)\n",
    "plt.title('Most used Machine learning Framework', fontsize=15)\n",
    "\n",
    "for p in vis9.patches:\n",
    "    vis9.annotate(format(p.get_height(), '.0f'), (p.get_x() + p.get_width() / 2., p.get_height()), \n",
    "               ha = 'center', va = 'center', xytext = (0, 10), textcoords = 'offset points')"
   ]
  },
  {
   "cell_type": "markdown",
   "metadata": {},
   "source": [
    "Scikit-learn is the top framework for respondents. TensorFlow and Keras notably used in combination for deep Learning toghther with Pythoch"
   ]
  },
  {
   "cell_type": "markdown",
   "metadata": {},
   "source": [
    "### Machine learning algorithms"
   ]
  },
  {
   "cell_type": "code",
   "execution_count": 128,
   "metadata": {},
   "outputs": [],
   "source": [
    "data9 = pd.DataFrame(data.iloc[1:,82:94]).reset_index()\n",
    "data9.drop('index', axis=1, inplace=True)\n",
    "\n",
    "data99 =pd.DataFrame(pd.value_counts(data9.values.flatten())).reset_index()\n",
    "data99.columns = ['A', 'B']"
   ]
  },
  {
   "cell_type": "code",
   "execution_count": 130,
   "metadata": {},
   "outputs": [
    {
     "data": {
      "image/png": "[encoded data removed]",
      "text/plain": [
       "<Figure size 1080x576 with 1 Axes>"
      ]
     },
     "metadata": {
      "needs_background": "light"
     },
     "output_type": "display_data"
    }
   ],
   "source": [
    "plt.figure(figsize=(15,8))\n",
    "vis9 = sns.barplot(data=data99, x='A', y='B', palette='winter')\n",
    "plt.xlabel('Algorithms', fontsize=15)\n",
    "plt.ylabel('Count', fontsize=15)\n",
    "plt.xticks(rotation=50)\n",
    "plt.title('Machine learning algorithms', fontsize=15)\n",
    "\n",
    "for p in vis9.patches:\n",
    "    vis9.annotate(format(p.get_height(), '.0f'), (p.get_x() + p.get_width() / 2., p.get_height()), \n",
    "               ha = 'center', va = 'center', xytext = (0, 10), textcoords = 'offset points')"
   ]
  },
  {
   "cell_type": "markdown",
   "metadata": {},
   "source": [
    "Linear or Logistic Regression were the most commonly used algorithms used among the respondents, followed by Random Forest.Then  CNN and Gradient Boosting"
   ]
  },
  {
   "cell_type": "markdown",
   "metadata": {},
   "source": [
    "### BI Tools"
   ]
  },
  {
   "cell_type": "code",
   "execution_count": 132,
   "metadata": {},
   "outputs": [],
   "source": [
    "dataQ32 = data['Q32'].dropna()\n",
    "dataQ32 = dataQ32.iloc[1:,]\n",
    "\n",
    "data17 = pd.DataFrame(dataQ32.iloc[1:,]).reset_index()\n",
    "data17.drop('index', axis=1, inplace=True)\n",
    "\n",
    "data177 =pd.DataFrame(pd.value_counts(data17.values.flatten())).reset_index()\n",
    "data177.columns = ['A', 'B']"
   ]
  },
  {
   "cell_type": "code",
   "execution_count": 150,
   "metadata": {},
   "outputs": [
    {
     "data": {
      "image/png": "[encoded data removed]",
      "text/plain": [
       "<Figure size 1080x576 with 1 Axes>"
      ]
     },
     "metadata": {
      "needs_background": "light"
     },
     "output_type": "display_data"
    }
   ],
   "source": [
    "plt.figure(figsize=(15,8))\n",
    "vis17 = sns.barplot(data=data177, x='A', y='B', palette='winter')\n",
    "plt.xlabel('BI tools', fontsize=15)\n",
    "plt.ylabel('Count', fontsize=15)\n",
    "plt.xticks(rotation=50)\n",
    "plt.title('Most used Business Intelligence Tools', fontsize=15)\n",
    "\n",
    "for p in vis17.patches:\n",
    "    vis17.annotate(format(p.get_height(), '.0f'), (p.get_x() + p.get_width() / 2., p.get_height()), \n",
    "               ha = 'center', va = 'center', xytext = (0, 10), textcoords = 'offset points')"
   ]
  },
  {
   "cell_type": "markdown",
   "metadata": {},
   "source": [
    "Majority use tableau and Microsoft Power BI"
   ]
  },
  {
   "cell_type": "markdown",
   "metadata": {},
   "source": [
    "### Big data products (relational databases, data warehouses, data lakes, or similar) moslty used"
   ]
  },
  {
   "cell_type": "code",
   "execution_count": 136,
   "metadata": {},
   "outputs": [],
   "source": [
    "data14 = pd.DataFrame(data.iloc[1:,155:173]).reset_index()\n",
    "data14.drop('index', axis=1, inplace=True)\n",
    "\n",
    "data144 =pd.DataFrame(pd.value_counts(data14.values.flatten())).reset_index()\n",
    "data144.columns = ['A', 'B']"
   ]
  },
  {
   "cell_type": "code",
   "execution_count": 151,
   "metadata": {},
   "outputs": [
    {
     "data": {
      "image/png": "[encoded data removed]",
      "text/plain": [
       "<Figure size 1080x576 with 1 Axes>"
      ]
     },
     "metadata": {
      "needs_background": "light"
     },
     "output_type": "display_data"
    }
   ],
   "source": [
    "plt.figure(figsize=(15,8))\n",
    "vis14 = sns.barplot(data=data144, x='A', y='B', palette='winter')\n",
    "plt.xlabel('Big data Products', fontsize=15)\n",
    "plt.ylabel('Count', fontsize=15)\n",
    "plt.xticks(rotation=50)\n",
    "plt.title('Most Used Relational databases, data warehouses, data lakes ', fontsize=15)\n",
    "\n",
    "for p in vis14.patches:\n",
    "    vis14.annotate(format(p.get_height(), '.0f'), (p.get_x() + p.get_width() / 2., p.get_height()), \n",
    "               ha = 'center', va = 'center', xytext = (0, 10), textcoords = 'offset points')"
   ]
  },
  {
   "cell_type": "markdown",
   "metadata": {},
   "source": [
    "###  Publicly share or deploy your data analysis or machine learning applications"
   ]
  },
  {
   "cell_type": "code",
   "execution_count": 145,
   "metadata": {},
   "outputs": [],
   "source": [
    "data15 = pd.DataFrame(data.iloc[1:,221:231]).reset_index()\n",
    "data15.drop('index', axis=1, inplace=True)\n",
    "\n",
    "data155 =pd.DataFrame(pd.value_counts(data15.values.flatten())).reset_index()\n",
    "data155.columns = ['A', 'B']"
   ]
  },
  {
   "cell_type": "code",
   "execution_count": 152,
   "metadata": {},
   "outputs": [
    {
     "data": {
      "image/png": "[encoded data removed]",
      "text/plain": [
       "<Figure size 1080x576 with 1 Axes>"
      ]
     },
     "metadata": {
      "needs_background": "light"
     },
     "output_type": "display_data"
    }
   ],
   "source": [
    "plt.figure(figsize=(15,8))\n",
    "vis15 = sns.barplot(data=data155, x='A', y='B', palette='winter')\n",
    "plt.xlabel('Application', fontsize=15)\n",
    "plt.ylabel('Count', fontsize=15)\n",
    "plt.xticks(rotation=70)\n",
    "plt.title('publicly share or deploy your data analysis or machine learning applications', fontsize=15)\n",
    "\n",
    "for p in vis15.patches:\n",
    "    vis15.annotate(format(p.get_height(), '.0f'), (p.get_x() + p.get_width() / 2., p.get_height()), \n",
    "               ha = 'center', va = 'center', xytext = (0, 10), textcoords = 'offset points')"
   ]
  },
  {
   "cell_type": "markdown",
   "metadata": {},
   "source": [
    "###  Platforms begun or completed data science courses"
   ]
  },
  {
   "cell_type": "code",
   "execution_count": 148,
   "metadata": {},
   "outputs": [],
   "source": [
    "data16 = pd.DataFrame(data.iloc[1:,231:243]).reset_index()\n",
    "data16.drop('index', axis=1, inplace=True)\n",
    "\n",
    "data166 =pd.DataFrame(pd.value_counts(data16.values.flatten())).reset_index()\n",
    "data166.columns = ['A', 'B']"
   ]
  },
  {
   "cell_type": "code",
   "execution_count": 184,
   "metadata": {},
   "outputs": [
    {
     "data": {
      "image/png": "[encoded data removed]",
      "text/plain": [
       "<Figure size 1080x576 with 1 Axes>"
      ]
     },
     "metadata": {
      "needs_background": "light"
     },
     "output_type": "display_data"
    }
   ],
   "source": [
    "plt.figure(figsize=(15,8))\n",
    "vis16 = sns.barplot(data=data166, x='A', y='B', palette='winter')\n",
    "plt.xlabel('platform', fontsize=15)\n",
    "plt.ylabel('Count', fontsize=15)\n",
    "plt.xticks(rotation=50)\n",
    "plt.title('Platform for data science courses', fontsize=15)\n",
    "\n",
    "for p in vis16.patches:\n",
    "    vis16.annotate(format(p.get_height(), '.0f'), (p.get_x() + p.get_width() / 2., p.get_height()), \n",
    "               ha = 'center', va = 'center', xytext = (0, 10), textcoords = 'offset points')"
   ]
  },
  {
   "cell_type": "code",
   "execution_count": 154,
   "metadata": {},
   "outputs": [
    {
     "data": {
      "application/vnd.plotly.v1+json": {
       "config": {
        "plotlyServerURL": "https://plot.ly"
       },
       "data": [
        {
         "hoverlabel": {
          "bgcolor": "#f5f5f5",
          "font": {
           "size": 14
          }
         },
         "hovertemplate": "Courses =%{x}<br>Total Answers=%{y}<br>text=%{text}<extra></extra>",
         "legendgroup": "",
         "marker": {
          "color": "#636efa"
         },
         "name": "",
         "opacity": 0.7,
         "orientation": "h",
         "showlegend": false,
         "text": [
          21.28,
          13.96,
          13.33,
          10.28,
          8.74,
          7.2,
          5.93,
          4.71,
          4.66,
          3.76,
          3.1,
          3.05
         ],
         "texttemplate": "%{text:.2f}%",
         "type": "funnel",
         "x": [
          7382,
          4843,
          4626,
          3568,
          3032,
          2498,
          2056,
          1636,
          1617,
          1306,
          1076,
          1058
         ],
         "xaxis": "x",
         "y": [
          "Coursera",
          "Kaggle Learn Courses",
          "Udemy",
          " university degree",
          "DataCamp",
          "edX",
          "Udacity",
          "Other",
          " LinkedIn Learning",
          "None",
          " AWS/Azure/GCP",
          "Fast.ai"
         ],
         "yaxis": "y"
        }
       ],
       "layout": {
        "height": 700,
        "legend": {
         "tracegroupgap": 0
        },
        "template": {
         "data": {
          "bar": [
           {
            "error_x": {
             "color": "#2a3f5f"
            },
            "error_y": {
             "color": "#2a3f5f"
            },
            "marker": {
             "line": {
              "color": "#E5ECF6",
              "width": 0.5
             }
            },
            "type": "bar"
           }
          ],
          "barpolar": [
           {
            "marker": {
             "line": {
              "color": "#E5ECF6",
              "width": 0.5
             }
            },
            "type": "barpolar"
           }
          ],
          "carpet": [
           {
            "aaxis": {
             "endlinecolor": "#2a3f5f",
             "gridcolor": "white",
             "linecolor": "white",
             "minorgridcolor": "white",
             "startlinecolor": "#2a3f5f"
            },
            "baxis": {
             "endlinecolor": "#2a3f5f",
             "gridcolor": "white",
             "linecolor": "white",
             "minorgridcolor": "white",
             "startlinecolor": "#2a3f5f"
            },
            "type": "carpet"
           }
          ],
          "choropleth": [
           {
            "colorbar": {
             "outlinewidth": 0,
             "ticks": ""
            },
            "type": "choropleth"
           }
          ],
          "contour": [
           {
            "colorbar": {
             "outlinewidth": 0,
             "ticks": ""
            },
            "colorscale": [
             [
              0,
              "#0d0887"
             ],
             [
              0.1111111111111111,
              "#46039f"
             ],
             [
              0.2222222222222222,
              "#7201a8"
             ],
             [
              0.3333333333333333,
              "#9c179e"
             ],
             [
              0.4444444444444444,
              "#bd3786"
             ],
             [
              0.5555555555555556,
              "#d8576b"
             ],
             [
              0.6666666666666666,
              "#ed7953"
             ],
             [
              0.7777777777777778,
              "#fb9f3a"
             ],
             [
              0.8888888888888888,
              "#fdca26"
             ],
             [
              1,
              "#f0f921"
             ]
            ],
            "type": "contour"
           }
          ],
          "contourcarpet": [
           {
            "colorbar": {
             "outlinewidth": 0,
             "ticks": ""
            },
            "type": "contourcarpet"
           }
          ],
          "heatmap": [
           {
            "colorbar": {
             "outlinewidth": 0,
             "ticks": ""
            },
            "colorscale": [
             [
              0,
              "#0d0887"
             ],
             [
              0.1111111111111111,
              "#46039f"
             ],
             [
              0.2222222222222222,
              "#7201a8"
             ],
             [
              0.3333333333333333,
              "#9c179e"
             ],
             [
              0.4444444444444444,
              "#bd3786"
             ],
             [
              0.5555555555555556,
              "#d8576b"
             ],
             [
              0.6666666666666666,
              "#ed7953"
             ],
             [
              0.7777777777777778,
              "#fb9f3a"
             ],
             [
              0.8888888888888888,
              "#fdca26"
             ],
             [
              1,
              "#f0f921"
             ]
            ],
            "type": "heatmap"
           }
          ],
          "heatmapgl": [
           {
            "colorbar": {
             "outlinewidth": 0,
             "ticks": ""
            },
            "colorscale": [
             [
              0,
              "#0d0887"
             ],
             [
              0.1111111111111111,
              "#46039f"
             ],
             [
              0.2222222222222222,
              "#7201a8"
             ],
             [
              0.3333333333333333,
              "#9c179e"
             ],
             [
              0.4444444444444444,
              "#bd3786"
             ],
             [
              0.5555555555555556,
              "#d8576b"
             ],
             [
              0.6666666666666666,
              "#ed7953"
             ],
             [
              0.7777777777777778,
              "#fb9f3a"
             ],
             [
              0.8888888888888888,
              "#fdca26"
             ],
             [
              1,
              "#f0f921"
             ]
            ],
            "type": "heatmapgl"
           }
          ],
          "histogram": [
           {
            "marker": {
             "colorbar": {
              "outlinewidth": 0,
              "ticks": ""
             }
            },
            "type": "histogram"
           }
          ],
          "histogram2d": [
           {
            "colorbar": {
             "outlinewidth": 0,
             "ticks": ""
            },
            "colorscale": [
             [
              0,
              "#0d0887"
             ],
             [
              0.1111111111111111,
              "#46039f"
             ],
             [
              0.2222222222222222,
              "#7201a8"
             ],
             [
              0.3333333333333333,
              "#9c179e"
             ],
             [
              0.4444444444444444,
              "#bd3786"
             ],
             [
              0.5555555555555556,
              "#d8576b"
             ],
             [
              0.6666666666666666,
              "#ed7953"
             ],
             [
              0.7777777777777778,
              "#fb9f3a"
             ],
             [
              0.8888888888888888,
              "#fdca26"
             ],
             [
              1,
              "#f0f921"
             ]
            ],
            "type": "histogram2d"
           }
          ],
          "histogram2dcontour": [
           {
            "colorbar": {
             "outlinewidth": 0,
             "ticks": ""
            },
            "colorscale": [
             [
              0,
              "#0d0887"
             ],
             [
              0.1111111111111111,
              "#46039f"
             ],
             [
              0.2222222222222222,
              "#7201a8"
             ],
             [
              0.3333333333333333,
              "#9c179e"
             ],
             [
              0.4444444444444444,
              "#bd3786"
             ],
             [
              0.5555555555555556,
              "#d8576b"
             ],
             [
              0.6666666666666666,
              "#ed7953"
             ],
             [
              0.7777777777777778,
              "#fb9f3a"
             ],
             [
              0.8888888888888888,
              "#fdca26"
             ],
             [
              1,
              "#f0f921"
             ]
            ],
            "type": "histogram2dcontour"
           }
          ],
          "mesh3d": [
           {
            "colorbar": {
             "outlinewidth": 0,
             "ticks": ""
            },
            "type": "mesh3d"
           }
          ],
          "parcoords": [
           {
            "line": {
             "colorbar": {
              "outlinewidth": 0,
              "ticks": ""
             }
            },
            "type": "parcoords"
           }
          ],
          "pie": [
           {
            "automargin": true,
            "type": "pie"
           }
          ],
          "scatter": [
           {
            "marker": {
             "colorbar": {
              "outlinewidth": 0,
              "ticks": ""
             }
            },
            "type": "scatter"
           }
          ],
          "scatter3d": [
           {
            "line": {
             "colorbar": {
              "outlinewidth": 0,
              "ticks": ""
             }
            },
            "marker": {
             "colorbar": {
              "outlinewidth": 0,
              "ticks": ""
             }
            },
            "type": "scatter3d"
           }
          ],
          "scattercarpet": [
           {
            "marker": {
             "colorbar": {
              "outlinewidth": 0,
              "ticks": ""
             }
            },
            "type": "scattercarpet"
           }
          ],
          "scattergeo": [
           {
            "marker": {
             "colorbar": {
              "outlinewidth": 0,
              "ticks": ""
             }
            },
            "type": "scattergeo"
           }
          ],
          "scattergl": [
           {
            "marker": {
             "colorbar": {
              "outlinewidth": 0,
              "ticks": ""
             }
            },
            "type": "scattergl"
           }
          ],
          "scattermapbox": [
           {
            "marker": {
             "colorbar": {
              "outlinewidth": 0,
              "ticks": ""
             }
            },
            "type": "scattermapbox"
           }
          ],
          "scatterpolar": [
           {
            "marker": {
             "colorbar": {
              "outlinewidth": 0,
              "ticks": ""
             }
            },
            "type": "scatterpolar"
           }
          ],
          "scatterpolargl": [
           {
            "marker": {
             "colorbar": {
              "outlinewidth": 0,
              "ticks": ""
             }
            },
            "type": "scatterpolargl"
           }
          ],
          "scatterternary": [
           {
            "marker": {
             "colorbar": {
              "outlinewidth": 0,
              "ticks": ""
             }
            },
            "type": "scatterternary"
           }
          ],
          "surface": [
           {
            "colorbar": {
             "outlinewidth": 0,
             "ticks": ""
            },
            "colorscale": [
             [
              0,
              "#0d0887"
             ],
             [
              0.1111111111111111,
              "#46039f"
             ],
             [
              0.2222222222222222,
              "#7201a8"
             ],
             [
              0.3333333333333333,
              "#9c179e"
             ],
             [
              0.4444444444444444,
              "#bd3786"
             ],
             [
              0.5555555555555556,
              "#d8576b"
             ],
             [
              0.6666666666666666,
              "#ed7953"
             ],
             [
              0.7777777777777778,
              "#fb9f3a"
             ],
             [
              0.8888888888888888,
              "#fdca26"
             ],
             [
              1,
              "#f0f921"
             ]
            ],
            "type": "surface"
           }
          ],
          "table": [
           {
            "cells": {
             "fill": {
              "color": "#EBF0F8"
             },
             "line": {
              "color": "white"
             }
            },
            "header": {
             "fill": {
              "color": "#C8D4E3"
             },
             "line": {
              "color": "white"
             }
            },
            "type": "table"
           }
          ]
         },
         "layout": {
          "annotationdefaults": {
           "arrowcolor": "#2a3f5f",
           "arrowhead": 0,
           "arrowwidth": 1
          },
          "coloraxis": {
           "colorbar": {
            "outlinewidth": 0,
            "ticks": ""
           }
          },
          "colorscale": {
           "diverging": [
            [
             0,
             "#8e0152"
            ],
            [
             0.1,
             "#c51b7d"
            ],
            [
             0.2,
             "#de77ae"
            ],
            [
             0.3,
             "#f1b6da"
            ],
            [
             0.4,
             "#fde0ef"
            ],
            [
             0.5,
             "#f7f7f7"
            ],
            [
             0.6,
             "#e6f5d0"
            ],
            [
             0.7,
             "#b8e186"
            ],
            [
             0.8,
             "#7fbc41"
            ],
            [
             0.9,
             "#4d9221"
            ],
            [
             1,
             "#276419"
            ]
           ],
           "sequential": [
            [
             0,
             "#0d0887"
            ],
            [
             0.1111111111111111,
             "#46039f"
            ],
            [
             0.2222222222222222,
             "#7201a8"
            ],
            [
             0.3333333333333333,
             "#9c179e"
            ],
            [
             0.4444444444444444,
             "#bd3786"
            ],
            [
             0.5555555555555556,
             "#d8576b"
            ],
            [
             0.6666666666666666,
             "#ed7953"
            ],
            [
             0.7777777777777778,
             "#fb9f3a"
            ],
            [
             0.8888888888888888,
             "#fdca26"
            ],
            [
             1,
             "#f0f921"
            ]
           ],
           "sequentialminus": [
            [
             0,
             "#0d0887"
            ],
            [
             0.1111111111111111,
             "#46039f"
            ],
            [
             0.2222222222222222,
             "#7201a8"
            ],
            [
             0.3333333333333333,
             "#9c179e"
            ],
            [
             0.4444444444444444,
             "#bd3786"
            ],
            [
             0.5555555555555556,
             "#d8576b"
            ],
            [
             0.6666666666666666,
             "#ed7953"
            ],
            [
             0.7777777777777778,
             "#fb9f3a"
            ],
            [
             0.8888888888888888,
             "#fdca26"
            ],
            [
             1,
             "#f0f921"
            ]
           ]
          },
          "colorway": [
           "#636efa",
           "#EF553B",
           "#00cc96",
           "#ab63fa",
           "#FFA15A",
           "#19d3f3",
           "#FF6692",
           "#B6E880",
           "#FF97FF",
           "#FECB52"
          ],
          "font": {
           "color": "#2a3f5f"
          },
          "geo": {
           "bgcolor": "white",
           "lakecolor": "white",
           "landcolor": "#E5ECF6",
           "showlakes": true,
           "showland": true,
           "subunitcolor": "white"
          },
          "hoverlabel": {
           "align": "left"
          },
          "hovermode": "closest",
          "mapbox": {
           "style": "light"
          },
          "paper_bgcolor": "white",
          "plot_bgcolor": "#E5ECF6",
          "polar": {
           "angularaxis": {
            "gridcolor": "white",
            "linecolor": "white",
            "ticks": ""
           },
           "bgcolor": "#E5ECF6",
           "radialaxis": {
            "gridcolor": "white",
            "linecolor": "white",
            "ticks": ""
           }
          },
          "scene": {
           "xaxis": {
            "backgroundcolor": "#E5ECF6",
            "gridcolor": "white",
            "gridwidth": 2,
            "linecolor": "white",
            "showbackground": true,
            "ticks": "",
            "zerolinecolor": "white"
           },
           "yaxis": {
            "backgroundcolor": "#E5ECF6",
            "gridcolor": "white",
            "gridwidth": 2,
            "linecolor": "white",
            "showbackground": true,
            "ticks": "",
            "zerolinecolor": "white"
           },
           "zaxis": {
            "backgroundcolor": "#E5ECF6",
            "gridcolor": "white",
            "gridwidth": 2,
            "linecolor": "white",
            "showbackground": true,
            "ticks": "",
            "zerolinecolor": "white"
           }
          },
          "shapedefaults": {
           "line": {
            "color": "#2a3f5f"
           }
          },
          "ternary": {
           "aaxis": {
            "gridcolor": "white",
            "linecolor": "white",
            "ticks": ""
           },
           "baxis": {
            "gridcolor": "white",
            "linecolor": "white",
            "ticks": ""
           },
           "bgcolor": "#E5ECF6",
           "caxis": {
            "gridcolor": "white",
            "linecolor": "white",
            "ticks": ""
           }
          },
          "title": {
           "x": 0.05
          },
          "xaxis": {
           "automargin": true,
           "gridcolor": "white",
           "linecolor": "white",
           "ticks": "",
           "title": {
            "standoff": 15
           },
           "zerolinecolor": "white",
           "zerolinewidth": 2
          },
          "yaxis": {
           "automargin": true,
           "gridcolor": "white",
           "linecolor": "white",
           "ticks": "",
           "title": {
            "standoff": 15
           },
           "zerolinecolor": "white",
           "zerolinewidth": 2
          }
         }
        },
        "title": {
         "text": "Data Science Courses"
        },
        "xaxis": {
         "anchor": "y",
         "domain": [
          0,
          1
         ],
         "title": {
          "text": "Courses "
         }
        },
        "yaxis": {
         "anchor": "x",
         "domain": [
          0,
          1
         ],
         "title": {
          "text": "Total Answers"
         }
        }
       }
      },
      "text/html": [
       "<div>                            <div id=\"13108a8c-6a12-418e-9281-4e8a61985e85\" class=\"plotly-graph-div\" style=\"height:700px; width:100%;\"></div>            <script type=\"text/javascript\">                require([\"plotly\"], function(Plotly) {                    window.PLOTLYENV=window.PLOTLYENV || {};                                    if (document.getElementById(\"13108a8c-6a12-418e-9281-4e8a61985e85\")) {                    Plotly.newPlot(                        \"13108a8c-6a12-418e-9281-4e8a61985e85\",                        [{\"hoverlabel\": {\"bgcolor\": \"#f5f5f5\", \"font\": {\"size\": 14}}, \"hovertemplate\": \"Courses =%{x}<br>Total Answers=%{y}<br>text=%{text}<extra></extra>\", \"legendgroup\": \"\", \"marker\": {\"color\": \"#636efa\"}, \"name\": \"\", \"opacity\": 0.7, \"orientation\": \"h\", \"showlegend\": false, \"text\": [21.28, 13.96, 13.33, 10.28, 8.74, 7.2, 5.93, 4.71, 4.66, 3.76, 3.1, 3.05], \"texttemplate\": \"%{text:.2f}%\", \"type\": \"funnel\", \"x\": [7382, 4843, 4626, 3568, 3032, 2498, 2056, 1636, 1617, 1306, 1076, 1058], \"xaxis\": \"x\", \"y\": [\"Coursera\", \"Kaggle Learn Courses\", \"Udemy\", \" university degree\", \"DataCamp\", \"edX\", \"Udacity\", \"Other\", \" LinkedIn Learning\", \"None\", \" AWS/Azure/GCP\", \"Fast.ai\"], \"yaxis\": \"y\"}],                        {\"height\": 700, \"legend\": {\"tracegroupgap\": 0}, \"template\": {\"data\": {\"bar\": [{\"error_x\": {\"color\": \"#2a3f5f\"}, \"error_y\": {\"color\": \"#2a3f5f\"}, \"marker\": {\"line\": {\"color\": \"#E5ECF6\", \"width\": 0.5}}, \"type\": \"bar\"}], \"barpolar\": [{\"marker\": {\"line\": {\"color\": \"#E5ECF6\", \"width\": 0.5}}, \"type\": \"barpolar\"}], \"carpet\": [{\"aaxis\": {\"endlinecolor\": \"#2a3f5f\", \"gridcolor\": \"white\", \"linecolor\": \"white\", \"minorgridcolor\": \"white\", \"startlinecolor\": \"#2a3f5f\"}, \"baxis\": {\"endlinecolor\": \"#2a3f5f\", \"gridcolor\": \"white\", \"linecolor\": \"white\", \"minorgridcolor\": \"white\", \"startlinecolor\": \"#2a3f5f\"}, \"type\": \"carpet\"}], \"choropleth\": [{\"colorbar\": {\"outlinewidth\": 0, \"ticks\": \"\"}, \"type\": \"choropleth\"}], \"contour\": [{\"colorbar\": {\"outlinewidth\": 0, \"ticks\": \"\"}, \"colorscale\": [[0.0, \"#0d0887\"], [0.1111111111111111, \"#46039f\"], [0.2222222222222222, \"#7201a8\"], [0.3333333333333333, \"#9c179e\"], [0.4444444444444444, \"#bd3786\"], [0.5555555555555556, \"#d8576b\"], [0.6666666666666666, \"#ed7953\"], [0.7777777777777778, \"#fb9f3a\"], [0.8888888888888888, \"#fdca26\"], [1.0, \"#f0f921\"]], \"type\": \"contour\"}], \"contourcarpet\": [{\"colorbar\": {\"outlinewidth\": 0, \"ticks\": \"\"}, \"type\": \"contourcarpet\"}], \"heatmap\": [{\"colorbar\": {\"outlinewidth\": 0, \"ticks\": \"\"}, \"colorscale\": [[0.0, \"#0d0887\"], [0.1111111111111111, \"#46039f\"], [0.2222222222222222, \"#7201a8\"], [0.3333333333333333, \"#9c179e\"], [0.4444444444444444, \"#bd3786\"], [0.5555555555555556, \"#d8576b\"], [0.6666666666666666, \"#ed7953\"], [0.7777777777777778, \"#fb9f3a\"], [0.8888888888888888, \"#fdca26\"], [1.0, \"#f0f921\"]], \"type\": \"heatmap\"}], \"heatmapgl\": [{\"colorbar\": {\"outlinewidth\": 0, \"ticks\": \"\"}, \"colorscale\": [[0.0, \"#0d0887\"], [0.1111111111111111, \"#46039f\"], [0.2222222222222222, \"#7201a8\"], [0.3333333333333333, \"#9c179e\"], [0.4444444444444444, \"#bd3786\"], [0.5555555555555556, \"#d8576b\"], [0.6666666666666666, \"#ed7953\"], [0.7777777777777778, \"#fb9f3a\"], [0.8888888888888888, \"#fdca26\"], [1.0, \"#f0f921\"]], \"type\": \"heatmapgl\"}], \"histogram\": [{\"marker\": {\"colorbar\": {\"outlinewidth\": 0, \"ticks\": \"\"}}, \"type\": \"histogram\"}], \"histogram2d\": [{\"colorbar\": {\"outlinewidth\": 0, \"ticks\": \"\"}, \"colorscale\": [[0.0, \"#0d0887\"], [0.1111111111111111, \"#46039f\"], [0.2222222222222222, \"#7201a8\"], [0.3333333333333333, \"#9c179e\"], [0.4444444444444444, \"#bd3786\"], [0.5555555555555556, \"#d8576b\"], [0.6666666666666666, \"#ed7953\"], [0.7777777777777778, \"#fb9f3a\"], [0.8888888888888888, \"#fdca26\"], [1.0, \"#f0f921\"]], \"type\": \"histogram2d\"}], \"histogram2dcontour\": [{\"colorbar\": {\"outlinewidth\": 0, \"ticks\": \"\"}, \"colorscale\": [[0.0, \"#0d0887\"], [0.1111111111111111, \"#46039f\"], [0.2222222222222222, \"#7201a8\"], [0.3333333333333333, \"#9c179e\"], [0.4444444444444444, \"#bd3786\"], [0.5555555555555556, \"#d8576b\"], [0.6666666666666666, \"#ed7953\"], [0.7777777777777778, \"#fb9f3a\"], [0.8888888888888888, \"#fdca26\"], [1.0, \"#f0f921\"]], \"type\": \"histogram2dcontour\"}], \"mesh3d\": [{\"colorbar\": {\"outlinewidth\": 0, \"ticks\": \"\"}, \"type\": \"mesh3d\"}], \"parcoords\": [{\"line\": {\"colorbar\": {\"outlinewidth\": 0, \"ticks\": \"\"}}, \"type\": \"parcoords\"}], \"pie\": [{\"automargin\": true, \"type\": \"pie\"}], \"scatter\": [{\"marker\": {\"colorbar\": {\"outlinewidth\": 0, \"ticks\": \"\"}}, \"type\": \"scatter\"}], \"scatter3d\": [{\"line\": {\"colorbar\": {\"outlinewidth\": 0, \"ticks\": \"\"}}, \"marker\": {\"colorbar\": {\"outlinewidth\": 0, \"ticks\": \"\"}}, \"type\": \"scatter3d\"}], \"scattercarpet\": [{\"marker\": {\"colorbar\": {\"outlinewidth\": 0, \"ticks\": \"\"}}, \"type\": \"scattercarpet\"}], \"scattergeo\": [{\"marker\": {\"colorbar\": {\"outlinewidth\": 0, \"ticks\": \"\"}}, \"type\": \"scattergeo\"}], \"scattergl\": [{\"marker\": {\"colorbar\": {\"outlinewidth\": 0, \"ticks\": \"\"}}, \"type\": \"scattergl\"}], \"scattermapbox\": [{\"marker\": {\"colorbar\": {\"outlinewidth\": 0, \"ticks\": \"\"}}, \"type\": \"scattermapbox\"}], \"scatterpolar\": [{\"marker\": {\"colorbar\": {\"outlinewidth\": 0, \"ticks\": \"\"}}, \"type\": \"scatterpolar\"}], \"scatterpolargl\": [{\"marker\": {\"colorbar\": {\"outlinewidth\": 0, \"ticks\": \"\"}}, \"type\": \"scatterpolargl\"}], \"scatterternary\": [{\"marker\": {\"colorbar\": {\"outlinewidth\": 0, \"ticks\": \"\"}}, \"type\": \"scatterternary\"}], \"surface\": [{\"colorbar\": {\"outlinewidth\": 0, \"ticks\": \"\"}, \"colorscale\": [[0.0, \"#0d0887\"], [0.1111111111111111, \"#46039f\"], [0.2222222222222222, \"#7201a8\"], [0.3333333333333333, \"#9c179e\"], [0.4444444444444444, \"#bd3786\"], [0.5555555555555556, \"#d8576b\"], [0.6666666666666666, \"#ed7953\"], [0.7777777777777778, \"#fb9f3a\"], [0.8888888888888888, \"#fdca26\"], [1.0, \"#f0f921\"]], \"type\": \"surface\"}], \"table\": [{\"cells\": {\"fill\": {\"color\": \"#EBF0F8\"}, \"line\": {\"color\": \"white\"}}, \"header\": {\"fill\": {\"color\": \"#C8D4E3\"}, \"line\": {\"color\": \"white\"}}, \"type\": \"table\"}]}, \"layout\": {\"annotationdefaults\": {\"arrowcolor\": \"#2a3f5f\", \"arrowhead\": 0, \"arrowwidth\": 1}, \"coloraxis\": {\"colorbar\": {\"outlinewidth\": 0, \"ticks\": \"\"}}, \"colorscale\": {\"diverging\": [[0, \"#8e0152\"], [0.1, \"#c51b7d\"], [0.2, \"#de77ae\"], [0.3, \"#f1b6da\"], [0.4, \"#fde0ef\"], [0.5, \"#f7f7f7\"], [0.6, \"#e6f5d0\"], [0.7, \"#b8e186\"], [0.8, \"#7fbc41\"], [0.9, \"#4d9221\"], [1, \"#276419\"]], \"sequential\": [[0.0, \"#0d0887\"], [0.1111111111111111, \"#46039f\"], [0.2222222222222222, \"#7201a8\"], [0.3333333333333333, \"#9c179e\"], [0.4444444444444444, \"#bd3786\"], [0.5555555555555556, \"#d8576b\"], [0.6666666666666666, \"#ed7953\"], [0.7777777777777778, \"#fb9f3a\"], [0.8888888888888888, \"#fdca26\"], [1.0, \"#f0f921\"]], \"sequentialminus\": [[0.0, \"#0d0887\"], [0.1111111111111111, \"#46039f\"], [0.2222222222222222, \"#7201a8\"], [0.3333333333333333, \"#9c179e\"], [0.4444444444444444, \"#bd3786\"], [0.5555555555555556, \"#d8576b\"], [0.6666666666666666, \"#ed7953\"], [0.7777777777777778, \"#fb9f3a\"], [0.8888888888888888, \"#fdca26\"], [1.0, \"#f0f921\"]]}, \"colorway\": [\"#636efa\", \"#EF553B\", \"#00cc96\", \"#ab63fa\", \"#FFA15A\", \"#19d3f3\", \"#FF6692\", \"#B6E880\", \"#FF97FF\", \"#FECB52\"], \"font\": {\"color\": \"#2a3f5f\"}, \"geo\": {\"bgcolor\": \"white\", \"lakecolor\": \"white\", \"landcolor\": \"#E5ECF6\", \"showlakes\": true, \"showland\": true, \"subunitcolor\": \"white\"}, \"hoverlabel\": {\"align\": \"left\"}, \"hovermode\": \"closest\", \"mapbox\": {\"style\": \"light\"}, \"paper_bgcolor\": \"white\", \"plot_bgcolor\": \"#E5ECF6\", \"polar\": {\"angularaxis\": {\"gridcolor\": \"white\", \"linecolor\": \"white\", \"ticks\": \"\"}, \"bgcolor\": \"#E5ECF6\", \"radialaxis\": {\"gridcolor\": \"white\", \"linecolor\": \"white\", \"ticks\": \"\"}}, \"scene\": {\"xaxis\": {\"backgroundcolor\": \"#E5ECF6\", \"gridcolor\": \"white\", \"gridwidth\": 2, \"linecolor\": \"white\", \"showbackground\": true, \"ticks\": \"\", \"zerolinecolor\": \"white\"}, \"yaxis\": {\"backgroundcolor\": \"#E5ECF6\", \"gridcolor\": \"white\", \"gridwidth\": 2, \"linecolor\": \"white\", \"showbackground\": true, \"ticks\": \"\", \"zerolinecolor\": \"white\"}, \"zaxis\": {\"backgroundcolor\": \"#E5ECF6\", \"gridcolor\": \"white\", \"gridwidth\": 2, \"linecolor\": \"white\", \"showbackground\": true, \"ticks\": \"\", \"zerolinecolor\": \"white\"}}, \"shapedefaults\": {\"line\": {\"color\": \"#2a3f5f\"}}, \"ternary\": {\"aaxis\": {\"gridcolor\": \"white\", \"linecolor\": \"white\", \"ticks\": \"\"}, \"baxis\": {\"gridcolor\": \"white\", \"linecolor\": \"white\", \"ticks\": \"\"}, \"bgcolor\": \"#E5ECF6\", \"caxis\": {\"gridcolor\": \"white\", \"linecolor\": \"white\", \"ticks\": \"\"}}, \"title\": {\"x\": 0.05}, \"xaxis\": {\"automargin\": true, \"gridcolor\": \"white\", \"linecolor\": \"white\", \"ticks\": \"\", \"title\": {\"standoff\": 15}, \"zerolinecolor\": \"white\", \"zerolinewidth\": 2}, \"yaxis\": {\"automargin\": true, \"gridcolor\": \"white\", \"linecolor\": \"white\", \"ticks\": \"\", \"title\": {\"standoff\": 15}, \"zerolinecolor\": \"white\", \"zerolinewidth\": 2}}}, \"title\": {\"text\": \"Data Science Courses\"}, \"xaxis\": {\"anchor\": \"y\", \"domain\": [0.0, 1.0], \"title\": {\"text\": \"Courses \"}}, \"yaxis\": {\"anchor\": \"x\", \"domain\": [0.0, 1.0], \"title\": {\"text\": \"Total Answers\"}}},                        {\"responsive\": true}                    ).then(function(){\n",
       "                            \n",
       "var gd = document.getElementById('13108a8c-6a12-418e-9281-4e8a61985e85');\n",
       "var x = new MutationObserver(function (mutations, observer) {{\n",
       "        var display = window.getComputedStyle(gd).display;\n",
       "        if (!display || display === 'none') {{\n",
       "            console.log([gd, 'removed!']);\n",
       "            Plotly.purge(gd);\n",
       "            observer.disconnect();\n",
       "        }}\n",
       "}});\n",
       "\n",
       "// Listen for the removal of the full notebook cells\n",
       "var notebookContainer = gd.closest('#notebook-container');\n",
       "if (notebookContainer) {{\n",
       "    x.observe(notebookContainer, {childList: true});\n",
       "}}\n",
       "\n",
       "// Listen for the clearing of the current output cell\n",
       "var outputEl = gd.closest('.output');\n",
       "if (outputEl) {{\n",
       "    x.observe(outputEl, {childList: true});\n",
       "}}\n",
       "\n",
       "                        })                };                });            </script>        </div>"
      ]
     },
     "metadata": {},
     "output_type": "display_data"
    }
   ],
   "source": [
    "dataQ37 = data.iloc[1:,231:243]\n",
    "\n",
    "Q37_col = ['Coursera','edX','Kaggle Learn Courses','DataCamp','Fast.ai','Udacity','Udemy',' LinkedIn Learning',\n",
    "           ' AWS/Azure/GCP',' university degree','None','Other']\n",
    "\n",
    "dataQ37.columns = Q37_col\n",
    "dataQ37 = dataQ37.count().sort_values(ascending = False)\n",
    "Percent_Q37 = round(100 * dataQ37 / dataQ37.sum(), 2)\n",
    "\n",
    "fig = px.funnel(x= dataQ37, y=dataQ37.index,title=\"Data Science Courses\",\n",
    "             text= Percent_Q37,\n",
    "             height = 700,\n",
    "             labels={'y':'Total Answers','x':'Courses '})\n",
    "\n",
    "fig.update_traces(texttemplate='%{text:.2f}%', opacity = 0.70,\n",
    "        hoverlabel=dict(\n",
    "        bgcolor=\"#f5f5f5\",\n",
    "        font_size=14,\n",
    "    ),\n",
    ")\n",
    "\n",
    "            \n",
    "fig.show()"
   ]
  },
  {
   "cell_type": "code",
   "execution_count": null,
   "metadata": {},
   "outputs": [],
   "source": []
  }
 ],
 "metadata": {
  "kernelspec": {
   "display_name": "Python 3",
   "language": "python",
   "name": "python3"
  },
  "language_info": {
   "codemirror_mode": {
    "name": "ipython",
    "version": 3
   },
   "file_extension": ".py",
   "mimetype": "text/x-python",
   "name": "python",
   "nbconvert_exporter": "python",
   "pygments_lexer": "ipython3",
   "version": "3.7.4"
  }
 },
 "nbformat": 4,
 "nbformat_minor": 4
}
